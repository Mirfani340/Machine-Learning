{
  "nbformat": 4,
  "nbformat_minor": 2,
  "metadata": {
    "kernelspec": {
      "name": "python3",
      "display_name": "Python 3.7.11 64-bit ('AI': conda)"
    },
    "language_info": {
      "codemirror_mode": {
        "name": "ipython",
        "version": 3
      },
      "file_extension": ".py",
      "mimetype": "text/x-python",
      "name": "python",
      "nbconvert_exporter": "python",
      "pygments_lexer": "ipython3",
      "version": "3.7.11"
    },
    "colab": {
      "name": "DNN & CNN.ipynb",
      "provenance": []
    },
    "interpreter": {
      "hash": "35d58a9e1903783041b595db9b982a3b2a4c3c18976cdb9a6dea15705f18d896"
    }
  },
  "cells": [
    {
      "cell_type": "markdown",
      "source": [
        "# Import library (Basic)"
      ],
      "metadata": {
        "id": "xUDrmNpfIZQe"
      }
    },
    {
      "cell_type": "code",
      "execution_count": 1,
      "source": [
        "import pandas as pd\r\n",
        "import numpy as np\r\n",
        "import matplotlib.pyplot as plt"
      ],
      "outputs": [],
      "metadata": {
        "id": "nTefUHIxIZQh"
      }
    },
    {
      "cell_type": "code",
      "execution_count": 2,
      "source": [
        "data = pd.read_csv(\"diabetes.csv\")"
      ],
      "outputs": [],
      "metadata": {
        "id": "EEZWISdoIZQh"
      }
    },
    {
      "cell_type": "code",
      "execution_count": 3,
      "source": [
        "data.head()"
      ],
      "outputs": [
        {
          "output_type": "execute_result",
          "data": {
            "text/plain": [
              "   Pregnancies  Glucose  BloodPressure  SkinThickness  Insulin   BMI  \\\n",
              "0            6      148             72             35        0  33.6   \n",
              "1            1       85             66             29        0  26.6   \n",
              "2            8      183             64              0        0  23.3   \n",
              "3            1       89             66             23       94  28.1   \n",
              "4            0      137             40             35      168  43.1   \n",
              "\n",
              "   DiabetesPedigreeFunction  Age  Outcome  \n",
              "0                     0.627   50        1  \n",
              "1                     0.351   31        0  \n",
              "2                     0.672   32        1  \n",
              "3                     0.167   21        0  \n",
              "4                     2.288   33        1  "
            ],
            "text/html": [
              "<div>\n",
              "<style scoped>\n",
              "    .dataframe tbody tr th:only-of-type {\n",
              "        vertical-align: middle;\n",
              "    }\n",
              "\n",
              "    .dataframe tbody tr th {\n",
              "        vertical-align: top;\n",
              "    }\n",
              "\n",
              "    .dataframe thead th {\n",
              "        text-align: right;\n",
              "    }\n",
              "</style>\n",
              "<table border=\"1\" class=\"dataframe\">\n",
              "  <thead>\n",
              "    <tr style=\"text-align: right;\">\n",
              "      <th></th>\n",
              "      <th>Pregnancies</th>\n",
              "      <th>Glucose</th>\n",
              "      <th>BloodPressure</th>\n",
              "      <th>SkinThickness</th>\n",
              "      <th>Insulin</th>\n",
              "      <th>BMI</th>\n",
              "      <th>DiabetesPedigreeFunction</th>\n",
              "      <th>Age</th>\n",
              "      <th>Outcome</th>\n",
              "    </tr>\n",
              "  </thead>\n",
              "  <tbody>\n",
              "    <tr>\n",
              "      <th>0</th>\n",
              "      <td>6</td>\n",
              "      <td>148</td>\n",
              "      <td>72</td>\n",
              "      <td>35</td>\n",
              "      <td>0</td>\n",
              "      <td>33.6</td>\n",
              "      <td>0.627</td>\n",
              "      <td>50</td>\n",
              "      <td>1</td>\n",
              "    </tr>\n",
              "    <tr>\n",
              "      <th>1</th>\n",
              "      <td>1</td>\n",
              "      <td>85</td>\n",
              "      <td>66</td>\n",
              "      <td>29</td>\n",
              "      <td>0</td>\n",
              "      <td>26.6</td>\n",
              "      <td>0.351</td>\n",
              "      <td>31</td>\n",
              "      <td>0</td>\n",
              "    </tr>\n",
              "    <tr>\n",
              "      <th>2</th>\n",
              "      <td>8</td>\n",
              "      <td>183</td>\n",
              "      <td>64</td>\n",
              "      <td>0</td>\n",
              "      <td>0</td>\n",
              "      <td>23.3</td>\n",
              "      <td>0.672</td>\n",
              "      <td>32</td>\n",
              "      <td>1</td>\n",
              "    </tr>\n",
              "    <tr>\n",
              "      <th>3</th>\n",
              "      <td>1</td>\n",
              "      <td>89</td>\n",
              "      <td>66</td>\n",
              "      <td>23</td>\n",
              "      <td>94</td>\n",
              "      <td>28.1</td>\n",
              "      <td>0.167</td>\n",
              "      <td>21</td>\n",
              "      <td>0</td>\n",
              "    </tr>\n",
              "    <tr>\n",
              "      <th>4</th>\n",
              "      <td>0</td>\n",
              "      <td>137</td>\n",
              "      <td>40</td>\n",
              "      <td>35</td>\n",
              "      <td>168</td>\n",
              "      <td>43.1</td>\n",
              "      <td>2.288</td>\n",
              "      <td>33</td>\n",
              "      <td>1</td>\n",
              "    </tr>\n",
              "  </tbody>\n",
              "</table>\n",
              "</div>"
            ]
          },
          "metadata": {},
          "execution_count": 3
        }
      ],
      "metadata": {
        "id": "0kqGki-6IZQi",
        "outputId": "634f91b2-104c-4de0-c32c-1a8509875b0a"
      }
    },
    {
      "cell_type": "code",
      "execution_count": 4,
      "source": [
        "data.isna().sum()"
      ],
      "outputs": [
        {
          "output_type": "execute_result",
          "data": {
            "text/plain": [
              "Pregnancies                 0\n",
              "Glucose                     0\n",
              "BloodPressure               0\n",
              "SkinThickness               0\n",
              "Insulin                     0\n",
              "BMI                         0\n",
              "DiabetesPedigreeFunction    0\n",
              "Age                         0\n",
              "Outcome                     0\n",
              "dtype: int64"
            ]
          },
          "metadata": {},
          "execution_count": 4
        }
      ],
      "metadata": {
        "id": "lz8svEakIZQl",
        "outputId": "b5120eb9-5a9b-44ba-cbb6-69cce08f4b07"
      }
    },
    {
      "cell_type": "code",
      "execution_count": 5,
      "source": [
        "data.info()"
      ],
      "outputs": [
        {
          "output_type": "stream",
          "name": "stdout",
          "text": [
            "<class 'pandas.core.frame.DataFrame'>\n",
            "RangeIndex: 768 entries, 0 to 767\n",
            "Data columns (total 9 columns):\n",
            " #   Column                    Non-Null Count  Dtype  \n",
            "---  ------                    --------------  -----  \n",
            " 0   Pregnancies               768 non-null    int64  \n",
            " 1   Glucose                   768 non-null    int64  \n",
            " 2   BloodPressure             768 non-null    int64  \n",
            " 3   SkinThickness             768 non-null    int64  \n",
            " 4   Insulin                   768 non-null    int64  \n",
            " 5   BMI                       768 non-null    float64\n",
            " 6   DiabetesPedigreeFunction  768 non-null    float64\n",
            " 7   Age                       768 non-null    int64  \n",
            " 8   Outcome                   768 non-null    int64  \n",
            "dtypes: float64(2), int64(7)\n",
            "memory usage: 54.1 KB\n"
          ]
        }
      ],
      "metadata": {
        "id": "fs1DKYJyIZQl",
        "outputId": "62f93403-5e86-4f7f-9038-bca2cf066b7b"
      }
    },
    {
      "cell_type": "markdown",
      "source": [
        "# Correlation"
      ],
      "metadata": {
        "id": "uGAP_z4xIZQm"
      }
    },
    {
      "cell_type": "code",
      "execution_count": 8,
      "source": [
        "data.corr()"
      ],
      "outputs": [
        {
          "output_type": "execute_result",
          "data": {
            "text/plain": [
              "                          Pregnancies   Glucose  BloodPressure  SkinThickness  \\\n",
              "Pregnancies                  1.000000  0.129459       0.141282      -0.081672   \n",
              "Glucose                      0.129459  1.000000       0.152590       0.057328   \n",
              "BloodPressure                0.141282  0.152590       1.000000       0.207371   \n",
              "SkinThickness               -0.081672  0.057328       0.207371       1.000000   \n",
              "Insulin                     -0.073535  0.331357       0.088933       0.436783   \n",
              "BMI                          0.017683  0.221071       0.281805       0.392573   \n",
              "DiabetesPedigreeFunction    -0.033523  0.137337       0.041265       0.183928   \n",
              "Age                          0.544341  0.263514       0.239528      -0.113970   \n",
              "Outcome                      0.221898  0.466581       0.065068       0.074752   \n",
              "\n",
              "                           Insulin       BMI  DiabetesPedigreeFunction  \\\n",
              "Pregnancies              -0.073535  0.017683                 -0.033523   \n",
              "Glucose                   0.331357  0.221071                  0.137337   \n",
              "BloodPressure             0.088933  0.281805                  0.041265   \n",
              "SkinThickness             0.436783  0.392573                  0.183928   \n",
              "Insulin                   1.000000  0.197859                  0.185071   \n",
              "BMI                       0.197859  1.000000                  0.140647   \n",
              "DiabetesPedigreeFunction  0.185071  0.140647                  1.000000   \n",
              "Age                      -0.042163  0.036242                  0.033561   \n",
              "Outcome                   0.130548  0.292695                  0.173844   \n",
              "\n",
              "                               Age   Outcome  \n",
              "Pregnancies               0.544341  0.221898  \n",
              "Glucose                   0.263514  0.466581  \n",
              "BloodPressure             0.239528  0.065068  \n",
              "SkinThickness            -0.113970  0.074752  \n",
              "Insulin                  -0.042163  0.130548  \n",
              "BMI                       0.036242  0.292695  \n",
              "DiabetesPedigreeFunction  0.033561  0.173844  \n",
              "Age                       1.000000  0.238356  \n",
              "Outcome                   0.238356  1.000000  "
            ],
            "text/html": [
              "<div>\n",
              "<style scoped>\n",
              "    .dataframe tbody tr th:only-of-type {\n",
              "        vertical-align: middle;\n",
              "    }\n",
              "\n",
              "    .dataframe tbody tr th {\n",
              "        vertical-align: top;\n",
              "    }\n",
              "\n",
              "    .dataframe thead th {\n",
              "        text-align: right;\n",
              "    }\n",
              "</style>\n",
              "<table border=\"1\" class=\"dataframe\">\n",
              "  <thead>\n",
              "    <tr style=\"text-align: right;\">\n",
              "      <th></th>\n",
              "      <th>Pregnancies</th>\n",
              "      <th>Glucose</th>\n",
              "      <th>BloodPressure</th>\n",
              "      <th>SkinThickness</th>\n",
              "      <th>Insulin</th>\n",
              "      <th>BMI</th>\n",
              "      <th>DiabetesPedigreeFunction</th>\n",
              "      <th>Age</th>\n",
              "      <th>Outcome</th>\n",
              "    </tr>\n",
              "  </thead>\n",
              "  <tbody>\n",
              "    <tr>\n",
              "      <th>Pregnancies</th>\n",
              "      <td>1.000000</td>\n",
              "      <td>0.129459</td>\n",
              "      <td>0.141282</td>\n",
              "      <td>-0.081672</td>\n",
              "      <td>-0.073535</td>\n",
              "      <td>0.017683</td>\n",
              "      <td>-0.033523</td>\n",
              "      <td>0.544341</td>\n",
              "      <td>0.221898</td>\n",
              "    </tr>\n",
              "    <tr>\n",
              "      <th>Glucose</th>\n",
              "      <td>0.129459</td>\n",
              "      <td>1.000000</td>\n",
              "      <td>0.152590</td>\n",
              "      <td>0.057328</td>\n",
              "      <td>0.331357</td>\n",
              "      <td>0.221071</td>\n",
              "      <td>0.137337</td>\n",
              "      <td>0.263514</td>\n",
              "      <td>0.466581</td>\n",
              "    </tr>\n",
              "    <tr>\n",
              "      <th>BloodPressure</th>\n",
              "      <td>0.141282</td>\n",
              "      <td>0.152590</td>\n",
              "      <td>1.000000</td>\n",
              "      <td>0.207371</td>\n",
              "      <td>0.088933</td>\n",
              "      <td>0.281805</td>\n",
              "      <td>0.041265</td>\n",
              "      <td>0.239528</td>\n",
              "      <td>0.065068</td>\n",
              "    </tr>\n",
              "    <tr>\n",
              "      <th>SkinThickness</th>\n",
              "      <td>-0.081672</td>\n",
              "      <td>0.057328</td>\n",
              "      <td>0.207371</td>\n",
              "      <td>1.000000</td>\n",
              "      <td>0.436783</td>\n",
              "      <td>0.392573</td>\n",
              "      <td>0.183928</td>\n",
              "      <td>-0.113970</td>\n",
              "      <td>0.074752</td>\n",
              "    </tr>\n",
              "    <tr>\n",
              "      <th>Insulin</th>\n",
              "      <td>-0.073535</td>\n",
              "      <td>0.331357</td>\n",
              "      <td>0.088933</td>\n",
              "      <td>0.436783</td>\n",
              "      <td>1.000000</td>\n",
              "      <td>0.197859</td>\n",
              "      <td>0.185071</td>\n",
              "      <td>-0.042163</td>\n",
              "      <td>0.130548</td>\n",
              "    </tr>\n",
              "    <tr>\n",
              "      <th>BMI</th>\n",
              "      <td>0.017683</td>\n",
              "      <td>0.221071</td>\n",
              "      <td>0.281805</td>\n",
              "      <td>0.392573</td>\n",
              "      <td>0.197859</td>\n",
              "      <td>1.000000</td>\n",
              "      <td>0.140647</td>\n",
              "      <td>0.036242</td>\n",
              "      <td>0.292695</td>\n",
              "    </tr>\n",
              "    <tr>\n",
              "      <th>DiabetesPedigreeFunction</th>\n",
              "      <td>-0.033523</td>\n",
              "      <td>0.137337</td>\n",
              "      <td>0.041265</td>\n",
              "      <td>0.183928</td>\n",
              "      <td>0.185071</td>\n",
              "      <td>0.140647</td>\n",
              "      <td>1.000000</td>\n",
              "      <td>0.033561</td>\n",
              "      <td>0.173844</td>\n",
              "    </tr>\n",
              "    <tr>\n",
              "      <th>Age</th>\n",
              "      <td>0.544341</td>\n",
              "      <td>0.263514</td>\n",
              "      <td>0.239528</td>\n",
              "      <td>-0.113970</td>\n",
              "      <td>-0.042163</td>\n",
              "      <td>0.036242</td>\n",
              "      <td>0.033561</td>\n",
              "      <td>1.000000</td>\n",
              "      <td>0.238356</td>\n",
              "    </tr>\n",
              "    <tr>\n",
              "      <th>Outcome</th>\n",
              "      <td>0.221898</td>\n",
              "      <td>0.466581</td>\n",
              "      <td>0.065068</td>\n",
              "      <td>0.074752</td>\n",
              "      <td>0.130548</td>\n",
              "      <td>0.292695</td>\n",
              "      <td>0.173844</td>\n",
              "      <td>0.238356</td>\n",
              "      <td>1.000000</td>\n",
              "    </tr>\n",
              "  </tbody>\n",
              "</table>\n",
              "</div>"
            ]
          },
          "metadata": {},
          "execution_count": 8
        }
      ],
      "metadata": {
        "id": "GGF3OEG1IZQm",
        "outputId": "3e550eb9-1113-402e-93b8-831a389a133b"
      }
    },
    {
      "cell_type": "markdown",
      "source": [
        "# Data Preprocessing"
      ],
      "metadata": {
        "id": "p3uNs93IIZQn"
      }
    },
    {
      "cell_type": "code",
      "execution_count": 9,
      "source": [
        "X = data.iloc[:,:-1]\r\n",
        "y = data.iloc[:,-1]"
      ],
      "outputs": [],
      "metadata": {
        "id": "3ZkSWM3hIZQo"
      }
    },
    {
      "cell_type": "code",
      "execution_count": 10,
      "source": [
        "X"
      ],
      "outputs": [
        {
          "output_type": "execute_result",
          "data": {
            "text/plain": [
              "     Pregnancies  Glucose  BloodPressure  SkinThickness  Insulin   BMI  \\\n",
              "0              6      148             72             35        0  33.6   \n",
              "1              1       85             66             29        0  26.6   \n",
              "2              8      183             64              0        0  23.3   \n",
              "3              1       89             66             23       94  28.1   \n",
              "4              0      137             40             35      168  43.1   \n",
              "..           ...      ...            ...            ...      ...   ...   \n",
              "763           10      101             76             48      180  32.9   \n",
              "764            2      122             70             27        0  36.8   \n",
              "765            5      121             72             23      112  26.2   \n",
              "766            1      126             60              0        0  30.1   \n",
              "767            1       93             70             31        0  30.4   \n",
              "\n",
              "     DiabetesPedigreeFunction  Age  \n",
              "0                       0.627   50  \n",
              "1                       0.351   31  \n",
              "2                       0.672   32  \n",
              "3                       0.167   21  \n",
              "4                       2.288   33  \n",
              "..                        ...  ...  \n",
              "763                     0.171   63  \n",
              "764                     0.340   27  \n",
              "765                     0.245   30  \n",
              "766                     0.349   47  \n",
              "767                     0.315   23  \n",
              "\n",
              "[768 rows x 8 columns]"
            ],
            "text/html": [
              "<div>\n",
              "<style scoped>\n",
              "    .dataframe tbody tr th:only-of-type {\n",
              "        vertical-align: middle;\n",
              "    }\n",
              "\n",
              "    .dataframe tbody tr th {\n",
              "        vertical-align: top;\n",
              "    }\n",
              "\n",
              "    .dataframe thead th {\n",
              "        text-align: right;\n",
              "    }\n",
              "</style>\n",
              "<table border=\"1\" class=\"dataframe\">\n",
              "  <thead>\n",
              "    <tr style=\"text-align: right;\">\n",
              "      <th></th>\n",
              "      <th>Pregnancies</th>\n",
              "      <th>Glucose</th>\n",
              "      <th>BloodPressure</th>\n",
              "      <th>SkinThickness</th>\n",
              "      <th>Insulin</th>\n",
              "      <th>BMI</th>\n",
              "      <th>DiabetesPedigreeFunction</th>\n",
              "      <th>Age</th>\n",
              "    </tr>\n",
              "  </thead>\n",
              "  <tbody>\n",
              "    <tr>\n",
              "      <th>0</th>\n",
              "      <td>6</td>\n",
              "      <td>148</td>\n",
              "      <td>72</td>\n",
              "      <td>35</td>\n",
              "      <td>0</td>\n",
              "      <td>33.6</td>\n",
              "      <td>0.627</td>\n",
              "      <td>50</td>\n",
              "    </tr>\n",
              "    <tr>\n",
              "      <th>1</th>\n",
              "      <td>1</td>\n",
              "      <td>85</td>\n",
              "      <td>66</td>\n",
              "      <td>29</td>\n",
              "      <td>0</td>\n",
              "      <td>26.6</td>\n",
              "      <td>0.351</td>\n",
              "      <td>31</td>\n",
              "    </tr>\n",
              "    <tr>\n",
              "      <th>2</th>\n",
              "      <td>8</td>\n",
              "      <td>183</td>\n",
              "      <td>64</td>\n",
              "      <td>0</td>\n",
              "      <td>0</td>\n",
              "      <td>23.3</td>\n",
              "      <td>0.672</td>\n",
              "      <td>32</td>\n",
              "    </tr>\n",
              "    <tr>\n",
              "      <th>3</th>\n",
              "      <td>1</td>\n",
              "      <td>89</td>\n",
              "      <td>66</td>\n",
              "      <td>23</td>\n",
              "      <td>94</td>\n",
              "      <td>28.1</td>\n",
              "      <td>0.167</td>\n",
              "      <td>21</td>\n",
              "    </tr>\n",
              "    <tr>\n",
              "      <th>4</th>\n",
              "      <td>0</td>\n",
              "      <td>137</td>\n",
              "      <td>40</td>\n",
              "      <td>35</td>\n",
              "      <td>168</td>\n",
              "      <td>43.1</td>\n",
              "      <td>2.288</td>\n",
              "      <td>33</td>\n",
              "    </tr>\n",
              "    <tr>\n",
              "      <th>...</th>\n",
              "      <td>...</td>\n",
              "      <td>...</td>\n",
              "      <td>...</td>\n",
              "      <td>...</td>\n",
              "      <td>...</td>\n",
              "      <td>...</td>\n",
              "      <td>...</td>\n",
              "      <td>...</td>\n",
              "    </tr>\n",
              "    <tr>\n",
              "      <th>763</th>\n",
              "      <td>10</td>\n",
              "      <td>101</td>\n",
              "      <td>76</td>\n",
              "      <td>48</td>\n",
              "      <td>180</td>\n",
              "      <td>32.9</td>\n",
              "      <td>0.171</td>\n",
              "      <td>63</td>\n",
              "    </tr>\n",
              "    <tr>\n",
              "      <th>764</th>\n",
              "      <td>2</td>\n",
              "      <td>122</td>\n",
              "      <td>70</td>\n",
              "      <td>27</td>\n",
              "      <td>0</td>\n",
              "      <td>36.8</td>\n",
              "      <td>0.340</td>\n",
              "      <td>27</td>\n",
              "    </tr>\n",
              "    <tr>\n",
              "      <th>765</th>\n",
              "      <td>5</td>\n",
              "      <td>121</td>\n",
              "      <td>72</td>\n",
              "      <td>23</td>\n",
              "      <td>112</td>\n",
              "      <td>26.2</td>\n",
              "      <td>0.245</td>\n",
              "      <td>30</td>\n",
              "    </tr>\n",
              "    <tr>\n",
              "      <th>766</th>\n",
              "      <td>1</td>\n",
              "      <td>126</td>\n",
              "      <td>60</td>\n",
              "      <td>0</td>\n",
              "      <td>0</td>\n",
              "      <td>30.1</td>\n",
              "      <td>0.349</td>\n",
              "      <td>47</td>\n",
              "    </tr>\n",
              "    <tr>\n",
              "      <th>767</th>\n",
              "      <td>1</td>\n",
              "      <td>93</td>\n",
              "      <td>70</td>\n",
              "      <td>31</td>\n",
              "      <td>0</td>\n",
              "      <td>30.4</td>\n",
              "      <td>0.315</td>\n",
              "      <td>23</td>\n",
              "    </tr>\n",
              "  </tbody>\n",
              "</table>\n",
              "<p>768 rows × 8 columns</p>\n",
              "</div>"
            ]
          },
          "metadata": {},
          "execution_count": 10
        }
      ],
      "metadata": {
        "id": "kcXdf8qEIZQp",
        "outputId": "c9e43fd0-bf5b-4e54-faf0-b65efb0e8d9b"
      }
    },
    {
      "cell_type": "code",
      "execution_count": 11,
      "source": [
        "y"
      ],
      "outputs": [
        {
          "output_type": "execute_result",
          "data": {
            "text/plain": [
              "0      1\n",
              "1      0\n",
              "2      1\n",
              "3      0\n",
              "4      1\n",
              "      ..\n",
              "763    0\n",
              "764    0\n",
              "765    0\n",
              "766    1\n",
              "767    0\n",
              "Name: Outcome, Length: 768, dtype: int64"
            ]
          },
          "metadata": {},
          "execution_count": 11
        }
      ],
      "metadata": {
        "id": "SkxeuEAhIZQq",
        "outputId": "9aed7b4c-e848-4cc7-f264-cb78e2ac2770"
      }
    },
    {
      "cell_type": "markdown",
      "source": [
        "## Train - Test Split"
      ],
      "metadata": {
        "id": "Tl18SM7RIZQq"
      }
    },
    {
      "cell_type": "code",
      "execution_count": 12,
      "source": [
        "from sklearn.model_selection import train_test_split"
      ],
      "outputs": [],
      "metadata": {
        "id": "qUl1K13PIZQr"
      }
    },
    {
      "cell_type": "code",
      "execution_count": 13,
      "source": [
        "X_train, X_test, y_train, y_test = train_test_split(X,y, test_size=0.2, random_state=10)"
      ],
      "outputs": [],
      "metadata": {
        "id": "qxh3hszTIZQr"
      }
    },
    {
      "cell_type": "code",
      "execution_count": 14,
      "source": [
        "from collections import Counter"
      ],
      "outputs": [],
      "metadata": {
        "id": "E6Q-2E9KIZQs"
      }
    },
    {
      "cell_type": "code",
      "execution_count": 15,
      "source": [
        "print(f'Banyak train: {Counter(y_train)}')\r\n",
        "print(f'Banyak test: {Counter(y_test)}')"
      ],
      "outputs": [
        {
          "output_type": "stream",
          "name": "stdout",
          "text": [
            "Banyak train: Counter({0: 405, 1: 209})\n",
            "Banyak test: Counter({0: 95, 1: 59})\n"
          ]
        }
      ],
      "metadata": {
        "id": "JagM33CZIZQs",
        "outputId": "d8fcba2a-88b1-4821-dbfe-672fb349d60d"
      }
    },
    {
      "cell_type": "markdown",
      "source": [
        "## Scaling `[0,1]`"
      ],
      "metadata": {
        "id": "5scpRP_tIZQs"
      }
    },
    {
      "cell_type": "code",
      "execution_count": 16,
      "source": [
        "from sklearn.preprocessing import MinMaxScaler"
      ],
      "outputs": [],
      "metadata": {
        "id": "lZMnAnRpIZQt"
      }
    },
    {
      "cell_type": "code",
      "execution_count": 17,
      "source": [
        "sc = MinMaxScaler()\r\n",
        "sc.fit(X_train)"
      ],
      "outputs": [
        {
          "output_type": "execute_result",
          "data": {
            "text/plain": [
              "MinMaxScaler()"
            ]
          },
          "metadata": {},
          "execution_count": 17
        }
      ],
      "metadata": {
        "id": "P5b2NqTLIZQt",
        "outputId": "be881d14-b3e2-4300-d7cc-c77260fa7503"
      }
    },
    {
      "cell_type": "code",
      "execution_count": 18,
      "source": [
        "X_train = sc.transform(X_train)\r\n",
        "X_test = sc.transform(X_test)"
      ],
      "outputs": [],
      "metadata": {
        "id": "vxFfSr5YIZQt"
      }
    },
    {
      "cell_type": "code",
      "execution_count": 19,
      "source": [
        "(X_train, X_test)"
      ],
      "outputs": [
        {
          "output_type": "execute_result",
          "data": {
            "text/plain": [
              "(array([[0.        , 0.81407035, 0.62295082, ..., 0.7928465 , 0.29077711,\n",
              "         0.06666667],\n",
              "        [0.11764706, 0.43718593, 0.        , ..., 0.43070045, 0.29675491,\n",
              "         0.06666667],\n",
              "        [0.        , 0.68844221, 0.55737705, ..., 0.36959762, 0.02775406,\n",
              "         0.        ],\n",
              "        ...,\n",
              "        [0.17647059, 0.58291457, 0.60655738, ..., 0.39195231, 0.01238258,\n",
              "         0.05      ],\n",
              "        [0.05882353, 0.44221106, 0.24590164, ..., 0.81967213, 0.17847993,\n",
              "         0.08333333],\n",
              "        [0.29411765, 0.48241206, 0.60655738, ..., 0.50074516, 0.39239966,\n",
              "         0.36666667]]),\n",
              " array([[0.23529412, 0.77386935, 0.59016393, ..., 0.46646796, 0.11101623,\n",
              "         0.26666667],\n",
              "        [0.11764706, 0.56281407, 0.70491803, ..., 0.57228018, 0.07173356,\n",
              "         0.11666667],\n",
              "        [0.05882353, 0.67839196, 0.44262295, ..., 0.39791356, 0.26003416,\n",
              "         0.68333333],\n",
              "        ...,\n",
              "        [0.47058824, 0.42713568, 0.45081967, ..., 0.36363636, 0.02476516,\n",
              "         0.35      ],\n",
              "        [0.29411765, 0.65326633, 0.67213115, ..., 0.58271237, 0.37489325,\n",
              "         0.26666667],\n",
              "        [0.17647059, 0.49748744, 0.44262295, ..., 0.38152012, 0.0324509 ,\n",
              "         0.05      ]]))"
            ]
          },
          "metadata": {},
          "execution_count": 19
        }
      ],
      "metadata": {
        "id": "kztKeWhqIZQt",
        "outputId": "346237e7-6501-4f55-f6dc-ac5f6b292ab4"
      }
    },
    {
      "cell_type": "markdown",
      "source": [
        "# Deep Neural Network"
      ],
      "metadata": {
        "id": "mGsREGAlIZQu"
      }
    },
    {
      "cell_type": "code",
      "execution_count": 20,
      "source": [
        "X.shape"
      ],
      "outputs": [
        {
          "output_type": "execute_result",
          "data": {
            "text/plain": [
              "(768, 8)"
            ]
          },
          "metadata": {},
          "execution_count": 20
        }
      ],
      "metadata": {
        "id": "jiIhOyj7IZQu",
        "outputId": "ce987484-03ba-442e-b83f-6cbc7f952b44"
      }
    },
    {
      "cell_type": "code",
      "execution_count": 21,
      "source": [
        "from keras.models import Sequential\r\n",
        "from keras.layers import Dense"
      ],
      "outputs": [],
      "metadata": {
        "id": "d_yPv79XIZQv"
      }
    },
    {
      "cell_type": "code",
      "execution_count": 22,
      "source": [
        "model = Sequential()\r\n",
        "\r\n",
        "model.add(Dense(15, input_dim=8, activation='relu'))\r\n",
        "model.add(Dense(40, activation='relu'))\r\n",
        "model.add(Dense(20, activation='relu'))\r\n",
        "model.add(Dense(2, activation='softmax'))"
      ],
      "outputs": [],
      "metadata": {
        "id": "LgagA0VbIZQv"
      }
    },
    {
      "cell_type": "code",
      "execution_count": 23,
      "source": [
        "model.summary()"
      ],
      "outputs": [
        {
          "output_type": "stream",
          "name": "stdout",
          "text": [
            "Model: \"sequential\"\n",
            "_________________________________________________________________\n",
            "Layer (type)                 Output Shape              Param #   \n",
            "=================================================================\n",
            "dense (Dense)                (None, 15)                135       \n",
            "_________________________________________________________________\n",
            "dense_1 (Dense)              (None, 40)                640       \n",
            "_________________________________________________________________\n",
            "dense_2 (Dense)              (None, 20)                820       \n",
            "_________________________________________________________________\n",
            "dense_3 (Dense)              (None, 2)                 42        \n",
            "=================================================================\n",
            "Total params: 1,637\n",
            "Trainable params: 1,637\n",
            "Non-trainable params: 0\n",
            "_________________________________________________________________\n"
          ]
        }
      ],
      "metadata": {
        "id": "5zFGN30SIZQv",
        "outputId": "54c49df2-f987-428e-a173-1e9e3d99c159"
      }
    },
    {
      "cell_type": "code",
      "execution_count": 24,
      "source": [
        "from keras.callbacks import ModelCheckpoint\r\n",
        "import os"
      ],
      "outputs": [],
      "metadata": {
        "id": "BnAXl9xPIZQv"
      }
    },
    {
      "cell_type": "code",
      "execution_count": 25,
      "source": [
        "checkpoint_path = \"Covid19-dataset\\model_result\\cp-{epoch:04d}.hdf5\"\r\n",
        "checkpoint_dir = os.path.dirname(checkpoint_path)\r\n",
        "\r\n",
        "cp_callback = ModelCheckpoint(\r\n",
        "    checkpoint_path, verbose = 1, save_weights_only = True,\r\n",
        "    save_freq = 'epoch'\r\n",
        ")"
      ],
      "outputs": [],
      "metadata": {
        "id": "1Jx_nUwOIZQw"
      }
    },
    {
      "cell_type": "code",
      "execution_count": 26,
      "source": [
        "model.compile(loss='sparse_categorical_crossentropy',optimizer='adam',metrics=['accuracy'])"
      ],
      "outputs": [],
      "metadata": {
        "id": "O6A4sIP3IZQw"
      }
    },
    {
      "cell_type": "code",
      "execution_count": 33,
      "source": [
        "history = model.fit(X_train,y_train,validation_split=0.15, epochs = 100, batch_size = 16, verbose=1, callbacks = [cp_callback])"
      ],
      "outputs": [
        {
          "output_type": "stream",
          "name": "stdout",
          "text": [
            "Epoch 1/100\n",
            "33/33 [==============================] - 0s 3ms/step - loss: 0.4262 - accuracy: 0.8042 - val_loss: 0.5333 - val_accuracy: 0.7419\n",
            "\n",
            "Epoch 00001: saving model to Covid19-dataset\\model_result\\cp-0001.hdf5\n",
            "Epoch 2/100\n",
            "33/33 [==============================] - 0s 3ms/step - loss: 0.4226 - accuracy: 0.8023 - val_loss: 0.5314 - val_accuracy: 0.7312\n",
            "\n",
            "Epoch 00002: saving model to Covid19-dataset\\model_result\\cp-0002.hdf5\n",
            "Epoch 3/100\n",
            "33/33 [==============================] - 0s 2ms/step - loss: 0.4119 - accuracy: 0.8023 - val_loss: 0.5393 - val_accuracy: 0.7527\n",
            "\n",
            "Epoch 00003: saving model to Covid19-dataset\\model_result\\cp-0003.hdf5\n",
            "Epoch 4/100\n",
            "33/33 [==============================] - 0s 2ms/step - loss: 0.4129 - accuracy: 0.8157 - val_loss: 0.5413 - val_accuracy: 0.7312\n",
            "\n",
            "Epoch 00004: saving model to Covid19-dataset\\model_result\\cp-0004.hdf5\n",
            "Epoch 5/100\n",
            "33/33 [==============================] - 0s 2ms/step - loss: 0.4164 - accuracy: 0.8100 - val_loss: 0.5524 - val_accuracy: 0.7312\n",
            "\n",
            "Epoch 00005: saving model to Covid19-dataset\\model_result\\cp-0005.hdf5\n",
            "Epoch 6/100\n",
            "33/33 [==============================] - 0s 2ms/step - loss: 0.4102 - accuracy: 0.8138 - val_loss: 0.5501 - val_accuracy: 0.7419\n",
            "\n",
            "Epoch 00006: saving model to Covid19-dataset\\model_result\\cp-0006.hdf5\n",
            "Epoch 7/100\n",
            "33/33 [==============================] - 0s 2ms/step - loss: 0.4127 - accuracy: 0.8081 - val_loss: 0.5464 - val_accuracy: 0.7312\n",
            "\n",
            "Epoch 00007: saving model to Covid19-dataset\\model_result\\cp-0007.hdf5\n",
            "Epoch 8/100\n",
            "33/33 [==============================] - 0s 2ms/step - loss: 0.4091 - accuracy: 0.8177 - val_loss: 0.5568 - val_accuracy: 0.7312\n",
            "\n",
            "Epoch 00008: saving model to Covid19-dataset\\model_result\\cp-0008.hdf5\n",
            "Epoch 9/100\n",
            "33/33 [==============================] - 0s 3ms/step - loss: 0.4136 - accuracy: 0.8042 - val_loss: 0.5412 - val_accuracy: 0.7312\n",
            "\n",
            "Epoch 00009: saving model to Covid19-dataset\\model_result\\cp-0009.hdf5\n",
            "Epoch 10/100\n",
            "33/33 [==============================] - 0s 2ms/step - loss: 0.4048 - accuracy: 0.8311 - val_loss: 0.5396 - val_accuracy: 0.7634\n",
            "\n",
            "Epoch 00010: saving model to Covid19-dataset\\model_result\\cp-0010.hdf5\n",
            "Epoch 11/100\n",
            "33/33 [==============================] - 0s 2ms/step - loss: 0.4121 - accuracy: 0.8081 - val_loss: 0.5621 - val_accuracy: 0.7312\n",
            "\n",
            "Epoch 00011: saving model to Covid19-dataset\\model_result\\cp-0011.hdf5\n",
            "Epoch 12/100\n",
            "33/33 [==============================] - 0s 3ms/step - loss: 0.4070 - accuracy: 0.8215 - val_loss: 0.5423 - val_accuracy: 0.7742\n",
            "\n",
            "Epoch 00012: saving model to Covid19-dataset\\model_result\\cp-0012.hdf5\n",
            "Epoch 13/100\n",
            "33/33 [==============================] - 0s 2ms/step - loss: 0.4048 - accuracy: 0.8177 - val_loss: 0.5473 - val_accuracy: 0.7312\n",
            "\n",
            "Epoch 00013: saving model to Covid19-dataset\\model_result\\cp-0013.hdf5\n",
            "Epoch 14/100\n",
            "33/33 [==============================] - 0s 2ms/step - loss: 0.4060 - accuracy: 0.8196 - val_loss: 0.5635 - val_accuracy: 0.7419\n",
            "\n",
            "Epoch 00014: saving model to Covid19-dataset\\model_result\\cp-0014.hdf5\n",
            "Epoch 15/100\n",
            "33/33 [==============================] - 0s 2ms/step - loss: 0.4096 - accuracy: 0.8177 - val_loss: 0.5427 - val_accuracy: 0.7527\n",
            "\n",
            "Epoch 00015: saving model to Covid19-dataset\\model_result\\cp-0015.hdf5\n",
            "Epoch 16/100\n",
            "33/33 [==============================] - 0s 2ms/step - loss: 0.4066 - accuracy: 0.8215 - val_loss: 0.5494 - val_accuracy: 0.7419\n",
            "\n",
            "Epoch 00016: saving model to Covid19-dataset\\model_result\\cp-0016.hdf5\n",
            "Epoch 17/100\n",
            "33/33 [==============================] - 0s 2ms/step - loss: 0.4129 - accuracy: 0.8042 - val_loss: 0.5415 - val_accuracy: 0.7527\n",
            "\n",
            "Epoch 00017: saving model to Covid19-dataset\\model_result\\cp-0017.hdf5\n",
            "Epoch 18/100\n",
            "33/33 [==============================] - 0s 4ms/step - loss: 0.4083 - accuracy: 0.8119 - val_loss: 0.5494 - val_accuracy: 0.7419\n",
            "\n",
            "Epoch 00018: saving model to Covid19-dataset\\model_result\\cp-0018.hdf5\n",
            "Epoch 19/100\n",
            "33/33 [==============================] - 0s 2ms/step - loss: 0.4008 - accuracy: 0.8196 - val_loss: 0.5513 - val_accuracy: 0.7527\n",
            "\n",
            "Epoch 00019: saving model to Covid19-dataset\\model_result\\cp-0019.hdf5\n",
            "Epoch 20/100\n",
            "33/33 [==============================] - 0s 2ms/step - loss: 0.4014 - accuracy: 0.8177 - val_loss: 0.5557 - val_accuracy: 0.7419\n",
            "\n",
            "Epoch 00020: saving model to Covid19-dataset\\model_result\\cp-0020.hdf5\n",
            "Epoch 21/100\n",
            "33/33 [==============================] - 0s 2ms/step - loss: 0.4003 - accuracy: 0.8177 - val_loss: 0.5617 - val_accuracy: 0.7419\n",
            "\n",
            "Epoch 00021: saving model to Covid19-dataset\\model_result\\cp-0021.hdf5\n",
            "Epoch 22/100\n",
            "33/33 [==============================] - 0s 2ms/step - loss: 0.4007 - accuracy: 0.8157 - val_loss: 0.5591 - val_accuracy: 0.7312\n",
            "\n",
            "Epoch 00022: saving model to Covid19-dataset\\model_result\\cp-0022.hdf5\n",
            "Epoch 23/100\n",
            "33/33 [==============================] - 0s 2ms/step - loss: 0.4047 - accuracy: 0.8253 - val_loss: 0.5692 - val_accuracy: 0.7204\n",
            "\n",
            "Epoch 00023: saving model to Covid19-dataset\\model_result\\cp-0023.hdf5\n",
            "Epoch 24/100\n",
            "33/33 [==============================] - 0s 3ms/step - loss: 0.3970 - accuracy: 0.8119 - val_loss: 0.5586 - val_accuracy: 0.7419\n",
            "\n",
            "Epoch 00024: saving model to Covid19-dataset\\model_result\\cp-0024.hdf5\n",
            "Epoch 25/100\n",
            "33/33 [==============================] - 0s 3ms/step - loss: 0.4017 - accuracy: 0.8177 - val_loss: 0.5638 - val_accuracy: 0.7527\n",
            "\n",
            "Epoch 00025: saving model to Covid19-dataset\\model_result\\cp-0025.hdf5\n",
            "Epoch 26/100\n",
            "33/33 [==============================] - 0s 3ms/step - loss: 0.3976 - accuracy: 0.8234 - val_loss: 0.5868 - val_accuracy: 0.7312\n",
            "\n",
            "Epoch 00026: saving model to Covid19-dataset\\model_result\\cp-0026.hdf5\n",
            "Epoch 27/100\n",
            "33/33 [==============================] - 0s 2ms/step - loss: 0.4121 - accuracy: 0.8042 - val_loss: 0.5797 - val_accuracy: 0.7097\n",
            "\n",
            "Epoch 00027: saving model to Covid19-dataset\\model_result\\cp-0027.hdf5\n",
            "Epoch 28/100\n",
            "33/33 [==============================] - 0s 2ms/step - loss: 0.3952 - accuracy: 0.8177 - val_loss: 0.5659 - val_accuracy: 0.7204\n",
            "\n",
            "Epoch 00028: saving model to Covid19-dataset\\model_result\\cp-0028.hdf5\n",
            "Epoch 29/100\n",
            "33/33 [==============================] - 0s 2ms/step - loss: 0.3932 - accuracy: 0.8253 - val_loss: 0.5696 - val_accuracy: 0.7204\n",
            "\n",
            "Epoch 00029: saving model to Covid19-dataset\\model_result\\cp-0029.hdf5\n",
            "Epoch 30/100\n",
            "33/33 [==============================] - 0s 2ms/step - loss: 0.3973 - accuracy: 0.8215 - val_loss: 0.5758 - val_accuracy: 0.7312\n",
            "\n",
            "Epoch 00030: saving model to Covid19-dataset\\model_result\\cp-0030.hdf5\n",
            "Epoch 31/100\n",
            "33/33 [==============================] - 0s 3ms/step - loss: 0.3996 - accuracy: 0.8196 - val_loss: 0.5695 - val_accuracy: 0.7204\n",
            "\n",
            "Epoch 00031: saving model to Covid19-dataset\\model_result\\cp-0031.hdf5\n",
            "Epoch 32/100\n",
            "33/33 [==============================] - 0s 2ms/step - loss: 0.3916 - accuracy: 0.8292 - val_loss: 0.5782 - val_accuracy: 0.7097\n",
            "\n",
            "Epoch 00032: saving model to Covid19-dataset\\model_result\\cp-0032.hdf5\n",
            "Epoch 33/100\n",
            "33/33 [==============================] - 0s 2ms/step - loss: 0.3986 - accuracy: 0.8234 - val_loss: 0.5710 - val_accuracy: 0.7097\n",
            "\n",
            "Epoch 00033: saving model to Covid19-dataset\\model_result\\cp-0033.hdf5\n",
            "Epoch 34/100\n",
            "33/33 [==============================] - 0s 2ms/step - loss: 0.3911 - accuracy: 0.8138 - val_loss: 0.5642 - val_accuracy: 0.7204\n",
            "\n",
            "Epoch 00034: saving model to Covid19-dataset\\model_result\\cp-0034.hdf5\n",
            "Epoch 35/100\n",
            "33/33 [==============================] - 0s 2ms/step - loss: 0.3927 - accuracy: 0.8369 - val_loss: 0.5844 - val_accuracy: 0.7097\n",
            "\n",
            "Epoch 00035: saving model to Covid19-dataset\\model_result\\cp-0035.hdf5\n",
            "Epoch 36/100\n",
            "33/33 [==============================] - 0s 3ms/step - loss: 0.4026 - accuracy: 0.8100 - val_loss: 0.5755 - val_accuracy: 0.7204\n",
            "\n",
            "Epoch 00036: saving model to Covid19-dataset\\model_result\\cp-0036.hdf5\n",
            "Epoch 37/100\n",
            "33/33 [==============================] - 0s 2ms/step - loss: 0.3936 - accuracy: 0.8253 - val_loss: 0.5688 - val_accuracy: 0.7527\n",
            "\n",
            "Epoch 00037: saving model to Covid19-dataset\\model_result\\cp-0037.hdf5\n",
            "Epoch 38/100\n",
            "33/33 [==============================] - 0s 2ms/step - loss: 0.4030 - accuracy: 0.8196 - val_loss: 0.5725 - val_accuracy: 0.7419\n",
            "\n",
            "Epoch 00038: saving model to Covid19-dataset\\model_result\\cp-0038.hdf5\n",
            "Epoch 39/100\n",
            "33/33 [==============================] - 0s 2ms/step - loss: 0.3869 - accuracy: 0.8273 - val_loss: 0.6108 - val_accuracy: 0.7204\n",
            "\n",
            "Epoch 00039: saving model to Covid19-dataset\\model_result\\cp-0039.hdf5\n",
            "Epoch 40/100\n",
            "33/33 [==============================] - 0s 2ms/step - loss: 0.3994 - accuracy: 0.8196 - val_loss: 0.6594 - val_accuracy: 0.7419\n",
            "\n",
            "Epoch 00040: saving model to Covid19-dataset\\model_result\\cp-0040.hdf5\n",
            "Epoch 41/100\n",
            "33/33 [==============================] - 0s 2ms/step - loss: 0.3955 - accuracy: 0.8157 - val_loss: 0.5631 - val_accuracy: 0.7634\n",
            "\n",
            "Epoch 00041: saving model to Covid19-dataset\\model_result\\cp-0041.hdf5\n",
            "Epoch 42/100\n",
            "33/33 [==============================] - 0s 2ms/step - loss: 0.3913 - accuracy: 0.8273 - val_loss: 0.6000 - val_accuracy: 0.7204\n",
            "\n",
            "Epoch 00042: saving model to Covid19-dataset\\model_result\\cp-0042.hdf5\n",
            "Epoch 43/100\n",
            "33/33 [==============================] - 0s 2ms/step - loss: 0.3906 - accuracy: 0.8311 - val_loss: 0.5839 - val_accuracy: 0.7204\n",
            "\n",
            "Epoch 00043: saving model to Covid19-dataset\\model_result\\cp-0043.hdf5\n",
            "Epoch 44/100\n",
            "33/33 [==============================] - 0s 2ms/step - loss: 0.3899 - accuracy: 0.8234 - val_loss: 0.5799 - val_accuracy: 0.7312\n",
            "\n",
            "Epoch 00044: saving model to Covid19-dataset\\model_result\\cp-0044.hdf5\n",
            "Epoch 45/100\n",
            "33/33 [==============================] - 0s 2ms/step - loss: 0.3882 - accuracy: 0.8273 - val_loss: 0.5928 - val_accuracy: 0.7204\n",
            "\n",
            "Epoch 00045: saving model to Covid19-dataset\\model_result\\cp-0045.hdf5\n",
            "Epoch 46/100\n",
            "33/33 [==============================] - 0s 2ms/step - loss: 0.3844 - accuracy: 0.8311 - val_loss: 0.6052 - val_accuracy: 0.7097\n",
            "\n",
            "Epoch 00046: saving model to Covid19-dataset\\model_result\\cp-0046.hdf5\n",
            "Epoch 47/100\n",
            "33/33 [==============================] - 0s 2ms/step - loss: 0.4010 - accuracy: 0.8119 - val_loss: 0.6213 - val_accuracy: 0.7312\n",
            "\n",
            "Epoch 00047: saving model to Covid19-dataset\\model_result\\cp-0047.hdf5\n",
            "Epoch 48/100\n",
            "33/33 [==============================] - 0s 2ms/step - loss: 0.3908 - accuracy: 0.8177 - val_loss: 0.5806 - val_accuracy: 0.7419\n",
            "\n",
            "Epoch 00048: saving model to Covid19-dataset\\model_result\\cp-0048.hdf5\n",
            "Epoch 49/100\n",
            "33/33 [==============================] - 0s 2ms/step - loss: 0.3915 - accuracy: 0.8292 - val_loss: 0.6014 - val_accuracy: 0.7527\n",
            "\n",
            "Epoch 00049: saving model to Covid19-dataset\\model_result\\cp-0049.hdf5\n",
            "Epoch 50/100\n",
            "33/33 [==============================] - 0s 2ms/step - loss: 0.3877 - accuracy: 0.8215 - val_loss: 0.5961 - val_accuracy: 0.7204\n",
            "\n",
            "Epoch 00050: saving model to Covid19-dataset\\model_result\\cp-0050.hdf5\n",
            "Epoch 51/100\n",
            "33/33 [==============================] - 0s 5ms/step - loss: 0.3861 - accuracy: 0.8330 - val_loss: 0.5907 - val_accuracy: 0.7419\n",
            "\n",
            "Epoch 00051: saving model to Covid19-dataset\\model_result\\cp-0051.hdf5\n",
            "Epoch 52/100\n",
            "33/33 [==============================] - 0s 2ms/step - loss: 0.3933 - accuracy: 0.8177 - val_loss: 0.5840 - val_accuracy: 0.7204\n",
            "\n",
            "Epoch 00052: saving model to Covid19-dataset\\model_result\\cp-0052.hdf5\n",
            "Epoch 53/100\n",
            "33/33 [==============================] - 0s 2ms/step - loss: 0.3859 - accuracy: 0.8177 - val_loss: 0.6058 - val_accuracy: 0.7204\n",
            "\n",
            "Epoch 00053: saving model to Covid19-dataset\\model_result\\cp-0053.hdf5\n",
            "Epoch 54/100\n",
            "33/33 [==============================] - 0s 3ms/step - loss: 0.3907 - accuracy: 0.8369 - val_loss: 0.6116 - val_accuracy: 0.7312\n",
            "\n",
            "Epoch 00054: saving model to Covid19-dataset\\model_result\\cp-0054.hdf5\n",
            "Epoch 55/100\n",
            "33/33 [==============================] - 0s 3ms/step - loss: 0.3963 - accuracy: 0.8273 - val_loss: 0.5862 - val_accuracy: 0.7527\n",
            "\n",
            "Epoch 00055: saving model to Covid19-dataset\\model_result\\cp-0055.hdf5\n",
            "Epoch 56/100\n",
            "33/33 [==============================] - 0s 2ms/step - loss: 0.3973 - accuracy: 0.8426 - val_loss: 0.5896 - val_accuracy: 0.7419\n",
            "\n",
            "Epoch 00056: saving model to Covid19-dataset\\model_result\\cp-0056.hdf5\n",
            "Epoch 57/100\n",
            "33/33 [==============================] - 0s 2ms/step - loss: 0.3896 - accuracy: 0.8177 - val_loss: 0.6014 - val_accuracy: 0.7419\n",
            "\n",
            "Epoch 00057: saving model to Covid19-dataset\\model_result\\cp-0057.hdf5\n",
            "Epoch 58/100\n",
            "33/33 [==============================] - 0s 2ms/step - loss: 0.4003 - accuracy: 0.8157 - val_loss: 0.6113 - val_accuracy: 0.7204\n",
            "\n",
            "Epoch 00058: saving model to Covid19-dataset\\model_result\\cp-0058.hdf5\n",
            "Epoch 59/100\n",
            "33/33 [==============================] - 0s 2ms/step - loss: 0.3925 - accuracy: 0.8215 - val_loss: 0.5998 - val_accuracy: 0.7097\n",
            "\n",
            "Epoch 00059: saving model to Covid19-dataset\\model_result\\cp-0059.hdf5\n",
            "Epoch 60/100\n",
            "33/33 [==============================] - 0s 2ms/step - loss: 0.3887 - accuracy: 0.8157 - val_loss: 0.6057 - val_accuracy: 0.7204\n",
            "\n",
            "Epoch 00060: saving model to Covid19-dataset\\model_result\\cp-0060.hdf5\n",
            "Epoch 61/100\n",
            "33/33 [==============================] - 0s 2ms/step - loss: 0.3790 - accuracy: 0.8273 - val_loss: 0.5952 - val_accuracy: 0.7312\n",
            "\n",
            "Epoch 00061: saving model to Covid19-dataset\\model_result\\cp-0061.hdf5\n",
            "Epoch 62/100\n",
            "33/33 [==============================] - 0s 2ms/step - loss: 0.3761 - accuracy: 0.8273 - val_loss: 0.6349 - val_accuracy: 0.7312\n",
            "\n",
            "Epoch 00062: saving model to Covid19-dataset\\model_result\\cp-0062.hdf5\n",
            "Epoch 63/100\n",
            "33/33 [==============================] - 0s 2ms/step - loss: 0.3876 - accuracy: 0.8330 - val_loss: 0.6071 - val_accuracy: 0.7097\n",
            "\n",
            "Epoch 00063: saving model to Covid19-dataset\\model_result\\cp-0063.hdf5\n",
            "Epoch 64/100\n",
            "33/33 [==============================] - 0s 3ms/step - loss: 0.3801 - accuracy: 0.8253 - val_loss: 0.6007 - val_accuracy: 0.7419\n",
            "\n",
            "Epoch 00064: saving model to Covid19-dataset\\model_result\\cp-0064.hdf5\n",
            "Epoch 65/100\n",
            "33/33 [==============================] - 0s 2ms/step - loss: 0.3779 - accuracy: 0.8330 - val_loss: 0.6084 - val_accuracy: 0.7097\n",
            "\n",
            "Epoch 00065: saving model to Covid19-dataset\\model_result\\cp-0065.hdf5\n",
            "Epoch 66/100\n",
            "33/33 [==============================] - 0s 3ms/step - loss: 0.3933 - accuracy: 0.8253 - val_loss: 0.6114 - val_accuracy: 0.7204\n",
            "\n",
            "Epoch 00066: saving model to Covid19-dataset\\model_result\\cp-0066.hdf5\n",
            "Epoch 67/100\n",
            "33/33 [==============================] - 0s 2ms/step - loss: 0.3825 - accuracy: 0.8253 - val_loss: 0.6269 - val_accuracy: 0.7312\n",
            "\n",
            "Epoch 00067: saving model to Covid19-dataset\\model_result\\cp-0067.hdf5\n",
            "Epoch 68/100\n",
            "33/33 [==============================] - 0s 2ms/step - loss: 0.3789 - accuracy: 0.8292 - val_loss: 0.6427 - val_accuracy: 0.7312\n",
            "\n",
            "Epoch 00068: saving model to Covid19-dataset\\model_result\\cp-0068.hdf5\n",
            "Epoch 69/100\n",
            "33/33 [==============================] - 0s 3ms/step - loss: 0.3843 - accuracy: 0.8253 - val_loss: 0.6302 - val_accuracy: 0.7312\n",
            "\n",
            "Epoch 00069: saving model to Covid19-dataset\\model_result\\cp-0069.hdf5\n",
            "Epoch 70/100\n",
            "33/33 [==============================] - 0s 2ms/step - loss: 0.4007 - accuracy: 0.8273 - val_loss: 0.6197 - val_accuracy: 0.7204\n",
            "\n",
            "Epoch 00070: saving model to Covid19-dataset\\model_result\\cp-0070.hdf5\n",
            "Epoch 71/100\n",
            "33/33 [==============================] - 0s 2ms/step - loss: 0.3832 - accuracy: 0.8388 - val_loss: 0.6084 - val_accuracy: 0.7097\n",
            "\n",
            "Epoch 00071: saving model to Covid19-dataset\\model_result\\cp-0071.hdf5\n",
            "Epoch 72/100\n",
            "33/33 [==============================] - 0s 3ms/step - loss: 0.3765 - accuracy: 0.8273 - val_loss: 0.5983 - val_accuracy: 0.7419\n",
            "\n",
            "Epoch 00072: saving model to Covid19-dataset\\model_result\\cp-0072.hdf5\n",
            "Epoch 73/100\n",
            "33/33 [==============================] - 0s 2ms/step - loss: 0.3820 - accuracy: 0.8215 - val_loss: 0.6010 - val_accuracy: 0.7419\n",
            "\n",
            "Epoch 00073: saving model to Covid19-dataset\\model_result\\cp-0073.hdf5\n",
            "Epoch 74/100\n",
            "33/33 [==============================] - 0s 5ms/step - loss: 0.3748 - accuracy: 0.8369 - val_loss: 0.6397 - val_accuracy: 0.7097\n",
            "\n",
            "Epoch 00074: saving model to Covid19-dataset\\model_result\\cp-0074.hdf5\n",
            "Epoch 75/100\n",
            "33/33 [==============================] - 0s 3ms/step - loss: 0.3807 - accuracy: 0.8292 - val_loss: 0.6243 - val_accuracy: 0.7097\n",
            "\n",
            "Epoch 00075: saving model to Covid19-dataset\\model_result\\cp-0075.hdf5\n",
            "Epoch 76/100\n",
            "33/33 [==============================] - 0s 2ms/step - loss: 0.3767 - accuracy: 0.8426 - val_loss: 0.6111 - val_accuracy: 0.7419\n",
            "\n",
            "Epoch 00076: saving model to Covid19-dataset\\model_result\\cp-0076.hdf5\n",
            "Epoch 77/100\n",
            "33/33 [==============================] - 0s 3ms/step - loss: 0.3787 - accuracy: 0.8369 - val_loss: 0.6096 - val_accuracy: 0.7419\n",
            "\n",
            "Epoch 00077: saving model to Covid19-dataset\\model_result\\cp-0077.hdf5\n",
            "Epoch 78/100\n",
            "33/33 [==============================] - 0s 3ms/step - loss: 0.3798 - accuracy: 0.8292 - val_loss: 0.6299 - val_accuracy: 0.7204\n",
            "\n",
            "Epoch 00078: saving model to Covid19-dataset\\model_result\\cp-0078.hdf5\n",
            "Epoch 79/100\n",
            "33/33 [==============================] - 0s 3ms/step - loss: 0.3746 - accuracy: 0.8311 - val_loss: 0.6122 - val_accuracy: 0.7419\n",
            "\n",
            "Epoch 00079: saving model to Covid19-dataset\\model_result\\cp-0079.hdf5\n",
            "Epoch 80/100\n",
            "33/33 [==============================] - 0s 3ms/step - loss: 0.3756 - accuracy: 0.8369 - val_loss: 0.6177 - val_accuracy: 0.7419\n",
            "\n",
            "Epoch 00080: saving model to Covid19-dataset\\model_result\\cp-0080.hdf5\n",
            "Epoch 81/100\n",
            "33/33 [==============================] - 0s 2ms/step - loss: 0.3750 - accuracy: 0.8234 - val_loss: 0.6152 - val_accuracy: 0.7527\n",
            "\n",
            "Epoch 00081: saving model to Covid19-dataset\\model_result\\cp-0081.hdf5\n",
            "Epoch 82/100\n",
            "33/33 [==============================] - 0s 2ms/step - loss: 0.3832 - accuracy: 0.8292 - val_loss: 0.6195 - val_accuracy: 0.7312\n",
            "\n",
            "Epoch 00082: saving model to Covid19-dataset\\model_result\\cp-0082.hdf5\n",
            "Epoch 83/100\n",
            "33/33 [==============================] - 0s 2ms/step - loss: 0.3775 - accuracy: 0.8311 - val_loss: 0.6289 - val_accuracy: 0.7312\n",
            "\n",
            "Epoch 00083: saving model to Covid19-dataset\\model_result\\cp-0083.hdf5\n",
            "Epoch 84/100\n",
            "33/33 [==============================] - 0s 2ms/step - loss: 0.3763 - accuracy: 0.8445 - val_loss: 0.6328 - val_accuracy: 0.7419\n",
            "\n",
            "Epoch 00084: saving model to Covid19-dataset\\model_result\\cp-0084.hdf5\n",
            "Epoch 85/100\n",
            "33/33 [==============================] - 0s 2ms/step - loss: 0.3816 - accuracy: 0.8253 - val_loss: 0.6153 - val_accuracy: 0.7419\n",
            "\n",
            "Epoch 00085: saving model to Covid19-dataset\\model_result\\cp-0085.hdf5\n",
            "Epoch 86/100\n",
            "33/33 [==============================] - 0s 2ms/step - loss: 0.3743 - accuracy: 0.8253 - val_loss: 0.6312 - val_accuracy: 0.7312\n",
            "\n",
            "Epoch 00086: saving model to Covid19-dataset\\model_result\\cp-0086.hdf5\n",
            "Epoch 87/100\n",
            "33/33 [==============================] - 0s 2ms/step - loss: 0.3726 - accuracy: 0.8234 - val_loss: 0.6270 - val_accuracy: 0.7527\n",
            "\n",
            "Epoch 00087: saving model to Covid19-dataset\\model_result\\cp-0087.hdf5\n",
            "Epoch 88/100\n",
            "33/33 [==============================] - 0s 2ms/step - loss: 0.3770 - accuracy: 0.8253 - val_loss: 0.6509 - val_accuracy: 0.7312\n",
            "\n",
            "Epoch 00088: saving model to Covid19-dataset\\model_result\\cp-0088.hdf5\n",
            "Epoch 89/100\n",
            "33/33 [==============================] - 0s 2ms/step - loss: 0.3745 - accuracy: 0.8369 - val_loss: 0.6235 - val_accuracy: 0.7527\n",
            "\n",
            "Epoch 00089: saving model to Covid19-dataset\\model_result\\cp-0089.hdf5\n",
            "Epoch 90/100\n",
            "33/33 [==============================] - 0s 2ms/step - loss: 0.3753 - accuracy: 0.8234 - val_loss: 0.6238 - val_accuracy: 0.7419\n",
            "\n",
            "Epoch 00090: saving model to Covid19-dataset\\model_result\\cp-0090.hdf5\n",
            "Epoch 91/100\n",
            "33/33 [==============================] - 0s 2ms/step - loss: 0.3730 - accuracy: 0.8369 - val_loss: 0.6483 - val_accuracy: 0.7097\n",
            "\n",
            "Epoch 00091: saving model to Covid19-dataset\\model_result\\cp-0091.hdf5\n",
            "Epoch 92/100\n",
            "33/33 [==============================] - 0s 2ms/step - loss: 0.3688 - accuracy: 0.8407 - val_loss: 0.6616 - val_accuracy: 0.7097\n",
            "\n",
            "Epoch 00092: saving model to Covid19-dataset\\model_result\\cp-0092.hdf5\n",
            "Epoch 93/100\n",
            "33/33 [==============================] - 0s 3ms/step - loss: 0.3677 - accuracy: 0.8445 - val_loss: 0.6358 - val_accuracy: 0.7419\n",
            "\n",
            "Epoch 00093: saving model to Covid19-dataset\\model_result\\cp-0093.hdf5\n",
            "Epoch 94/100\n",
            "33/33 [==============================] - 0s 2ms/step - loss: 0.3647 - accuracy: 0.8388 - val_loss: 0.6746 - val_accuracy: 0.7204\n",
            "\n",
            "Epoch 00094: saving model to Covid19-dataset\\model_result\\cp-0094.hdf5\n",
            "Epoch 95/100\n",
            "33/33 [==============================] - 0s 2ms/step - loss: 0.3684 - accuracy: 0.8369 - val_loss: 0.6390 - val_accuracy: 0.7312\n",
            "\n",
            "Epoch 00095: saving model to Covid19-dataset\\model_result\\cp-0095.hdf5\n",
            "Epoch 96/100\n",
            "33/33 [==============================] - 0s 2ms/step - loss: 0.3746 - accuracy: 0.8388 - val_loss: 0.6503 - val_accuracy: 0.7097\n",
            "\n",
            "Epoch 00096: saving model to Covid19-dataset\\model_result\\cp-0096.hdf5\n",
            "Epoch 97/100\n",
            "33/33 [==============================] - 0s 2ms/step - loss: 0.3683 - accuracy: 0.8445 - val_loss: 0.6346 - val_accuracy: 0.7204\n",
            "\n",
            "Epoch 00097: saving model to Covid19-dataset\\model_result\\cp-0097.hdf5\n",
            "Epoch 98/100\n",
            "33/33 [==============================] - 0s 2ms/step - loss: 0.3655 - accuracy: 0.8426 - val_loss: 0.6309 - val_accuracy: 0.7419\n",
            "\n",
            "Epoch 00098: saving model to Covid19-dataset\\model_result\\cp-0098.hdf5\n",
            "Epoch 99/100\n",
            "33/33 [==============================] - 0s 2ms/step - loss: 0.3709 - accuracy: 0.8426 - val_loss: 0.6530 - val_accuracy: 0.7312\n",
            "\n",
            "Epoch 00099: saving model to Covid19-dataset\\model_result\\cp-0099.hdf5\n",
            "Epoch 100/100\n",
            "33/33 [==============================] - 0s 2ms/step - loss: 0.3693 - accuracy: 0.8369 - val_loss: 0.6519 - val_accuracy: 0.7312\n",
            "\n",
            "Epoch 00100: saving model to Covid19-dataset\\model_result\\cp-0100.hdf5\n"
          ]
        }
      ],
      "metadata": {
        "id": "_spjBoH6IZQw",
        "outputId": "1be9228f-5bf8-4777-a53a-6c8ea3c461bd"
      }
    },
    {
      "cell_type": "code",
      "execution_count": 28,
      "source": [
        "plt.plot(history.history['accuracy'], label = 'train accuracy')\r\n",
        "plt.plot(history.history['val_accuracy'], label = 'val accuracy')\r\n",
        "plt.title('Model Accuracy')\r\n",
        "plt.ylabel('Accuraacy')\r\n",
        "plt.xlabel('Epoch')\r\n",
        "plt.legend()\r\n",
        "plt.show()"
      ],
      "outputs": [
        {
          "output_type": "display_data",
          "data": {
            "text/plain": [
              "<Figure size 640x480 with 1 Axes>"
            ],
            "image/svg+xml": "<?xml version=\"1.0\" encoding=\"utf-8\" standalone=\"no\"?>\r\n<!DOCTYPE svg PUBLIC \"-//W3C//DTD SVG 1.1//EN\"\r\n  \"http://www.w3.org/Graphics/SVG/1.1/DTD/svg11.dtd\">\r\n<svg height=\"325.986375pt\" version=\"1.1\" viewBox=\"0 0 414.46375 325.986375\" width=\"414.46375pt\" xmlns=\"http://www.w3.org/2000/svg\" xmlns:xlink=\"http://www.w3.org/1999/xlink\">\r\n <metadata>\r\n  <rdf:RDF xmlns:cc=\"http://creativecommons.org/ns#\" xmlns:dc=\"http://purl.org/dc/elements/1.1/\" xmlns:rdf=\"http://www.w3.org/1999/02/22-rdf-syntax-ns#\">\r\n   <cc:Work>\r\n    <dc:type rdf:resource=\"http://purl.org/dc/dcmitype/StillImage\"/>\r\n    <dc:date>2021-08-31T08:36:10.045620</dc:date>\r\n    <dc:format>image/svg+xml</dc:format>\r\n    <dc:creator>\r\n     <cc:Agent>\r\n      <dc:title>Matplotlib v3.4.2, https://matplotlib.org/</dc:title>\r\n     </cc:Agent>\r\n    </dc:creator>\r\n   </cc:Work>\r\n  </rdf:RDF>\r\n </metadata>\r\n <defs>\r\n  <style type=\"text/css\">*{stroke-linecap:butt;stroke-linejoin:round;}</style>\r\n </defs>\r\n <g id=\"figure_1\">\r\n  <g id=\"patch_1\">\r\n   <path d=\"M 0 325.986375 \r\nL 414.46375 325.986375 \r\nL 414.46375 0 \r\nL 0 0 \r\nz\r\n\" style=\"fill:#ffffff;\"/>\r\n  </g>\r\n  <g id=\"axes_1\">\r\n   <g id=\"patch_2\">\r\n    <path d=\"M 50.14375 288.430125 \r\nL 407.26375 288.430125 \r\nL 407.26375 22.318125 \r\nL 50.14375 22.318125 \r\nz\r\n\" style=\"fill:#ffffff;\"/>\r\n   </g>\r\n   <g id=\"matplotlib.axis_1\">\r\n    <g id=\"xtick_1\">\r\n     <g id=\"line2d_1\">\r\n      <defs>\r\n       <path d=\"M 0 0 \r\nL 0 3.5 \r\n\" id=\"m4ecb7206e5\" style=\"stroke:#000000;stroke-width:0.8;\"/>\r\n      </defs>\r\n      <g>\r\n       <use style=\"stroke:#000000;stroke-width:0.8;\" x=\"66.376477\" xlink:href=\"#m4ecb7206e5\" y=\"288.430125\"/>\r\n      </g>\r\n     </g>\r\n     <g id=\"text_1\">\r\n      <!-- 0 -->\r\n      <g transform=\"translate(63.195227 303.028562)scale(0.1 -0.1)\">\r\n       <defs>\r\n        <path d=\"M 2034 4250 \r\nQ 1547 4250 1301 3770 \r\nQ 1056 3291 1056 2328 \r\nQ 1056 1369 1301 889 \r\nQ 1547 409 2034 409 \r\nQ 2525 409 2770 889 \r\nQ 3016 1369 3016 2328 \r\nQ 3016 3291 2770 3770 \r\nQ 2525 4250 2034 4250 \r\nz\r\nM 2034 4750 \r\nQ 2819 4750 3233 4129 \r\nQ 3647 3509 3647 2328 \r\nQ 3647 1150 3233 529 \r\nQ 2819 -91 2034 -91 \r\nQ 1250 -91 836 529 \r\nQ 422 1150 422 2328 \r\nQ 422 3509 836 4129 \r\nQ 1250 4750 2034 4750 \r\nz\r\n\" id=\"DejaVuSans-30\" transform=\"scale(0.015625)\"/>\r\n       </defs>\r\n       <use xlink:href=\"#DejaVuSans-30\"/>\r\n      </g>\r\n     </g>\r\n    </g>\r\n    <g id=\"xtick_2\">\r\n     <g id=\"line2d_2\">\r\n      <g>\r\n       <use style=\"stroke:#000000;stroke-width:0.8;\" x=\"132.632507\" xlink:href=\"#m4ecb7206e5\" y=\"288.430125\"/>\r\n      </g>\r\n     </g>\r\n     <g id=\"text_2\">\r\n      <!-- 10 -->\r\n      <g transform=\"translate(126.270007 303.028562)scale(0.1 -0.1)\">\r\n       <defs>\r\n        <path d=\"M 794 531 \r\nL 1825 531 \r\nL 1825 4091 \r\nL 703 3866 \r\nL 703 4441 \r\nL 1819 4666 \r\nL 2450 4666 \r\nL 2450 531 \r\nL 3481 531 \r\nL 3481 0 \r\nL 794 0 \r\nL 794 531 \r\nz\r\n\" id=\"DejaVuSans-31\" transform=\"scale(0.015625)\"/>\r\n       </defs>\r\n       <use xlink:href=\"#DejaVuSans-31\"/>\r\n       <use x=\"63.623047\" xlink:href=\"#DejaVuSans-30\"/>\r\n      </g>\r\n     </g>\r\n    </g>\r\n    <g id=\"xtick_3\">\r\n     <g id=\"line2d_3\">\r\n      <g>\r\n       <use style=\"stroke:#000000;stroke-width:0.8;\" x=\"198.888537\" xlink:href=\"#m4ecb7206e5\" y=\"288.430125\"/>\r\n      </g>\r\n     </g>\r\n     <g id=\"text_3\">\r\n      <!-- 20 -->\r\n      <g transform=\"translate(192.526037 303.028562)scale(0.1 -0.1)\">\r\n       <defs>\r\n        <path d=\"M 1228 531 \r\nL 3431 531 \r\nL 3431 0 \r\nL 469 0 \r\nL 469 531 \r\nQ 828 903 1448 1529 \r\nQ 2069 2156 2228 2338 \r\nQ 2531 2678 2651 2914 \r\nQ 2772 3150 2772 3378 \r\nQ 2772 3750 2511 3984 \r\nQ 2250 4219 1831 4219 \r\nQ 1534 4219 1204 4116 \r\nQ 875 4013 500 3803 \r\nL 500 4441 \r\nQ 881 4594 1212 4672 \r\nQ 1544 4750 1819 4750 \r\nQ 2544 4750 2975 4387 \r\nQ 3406 4025 3406 3419 \r\nQ 3406 3131 3298 2873 \r\nQ 3191 2616 2906 2266 \r\nQ 2828 2175 2409 1742 \r\nQ 1991 1309 1228 531 \r\nz\r\n\" id=\"DejaVuSans-32\" transform=\"scale(0.015625)\"/>\r\n       </defs>\r\n       <use xlink:href=\"#DejaVuSans-32\"/>\r\n       <use x=\"63.623047\" xlink:href=\"#DejaVuSans-30\"/>\r\n      </g>\r\n     </g>\r\n    </g>\r\n    <g id=\"xtick_4\">\r\n     <g id=\"line2d_4\">\r\n      <g>\r\n       <use style=\"stroke:#000000;stroke-width:0.8;\" x=\"265.144566\" xlink:href=\"#m4ecb7206e5\" y=\"288.430125\"/>\r\n      </g>\r\n     </g>\r\n     <g id=\"text_4\">\r\n      <!-- 30 -->\r\n      <g transform=\"translate(258.782066 303.028562)scale(0.1 -0.1)\">\r\n       <defs>\r\n        <path d=\"M 2597 2516 \r\nQ 3050 2419 3304 2112 \r\nQ 3559 1806 3559 1356 \r\nQ 3559 666 3084 287 \r\nQ 2609 -91 1734 -91 \r\nQ 1441 -91 1130 -33 \r\nQ 819 25 488 141 \r\nL 488 750 \r\nQ 750 597 1062 519 \r\nQ 1375 441 1716 441 \r\nQ 2309 441 2620 675 \r\nQ 2931 909 2931 1356 \r\nQ 2931 1769 2642 2001 \r\nQ 2353 2234 1838 2234 \r\nL 1294 2234 \r\nL 1294 2753 \r\nL 1863 2753 \r\nQ 2328 2753 2575 2939 \r\nQ 2822 3125 2822 3475 \r\nQ 2822 3834 2567 4026 \r\nQ 2313 4219 1838 4219 \r\nQ 1578 4219 1281 4162 \r\nQ 984 4106 628 3988 \r\nL 628 4550 \r\nQ 988 4650 1302 4700 \r\nQ 1616 4750 1894 4750 \r\nQ 2613 4750 3031 4423 \r\nQ 3450 4097 3450 3541 \r\nQ 3450 3153 3228 2886 \r\nQ 3006 2619 2597 2516 \r\nz\r\n\" id=\"DejaVuSans-33\" transform=\"scale(0.015625)\"/>\r\n       </defs>\r\n       <use xlink:href=\"#DejaVuSans-33\"/>\r\n       <use x=\"63.623047\" xlink:href=\"#DejaVuSans-30\"/>\r\n      </g>\r\n     </g>\r\n    </g>\r\n    <g id=\"xtick_5\">\r\n     <g id=\"line2d_5\">\r\n      <g>\r\n       <use style=\"stroke:#000000;stroke-width:0.8;\" x=\"331.400596\" xlink:href=\"#m4ecb7206e5\" y=\"288.430125\"/>\r\n      </g>\r\n     </g>\r\n     <g id=\"text_5\">\r\n      <!-- 40 -->\r\n      <g transform=\"translate(325.038096 303.028562)scale(0.1 -0.1)\">\r\n       <defs>\r\n        <path d=\"M 2419 4116 \r\nL 825 1625 \r\nL 2419 1625 \r\nL 2419 4116 \r\nz\r\nM 2253 4666 \r\nL 3047 4666 \r\nL 3047 1625 \r\nL 3713 1625 \r\nL 3713 1100 \r\nL 3047 1100 \r\nL 3047 0 \r\nL 2419 0 \r\nL 2419 1100 \r\nL 313 1100 \r\nL 313 1709 \r\nL 2253 4666 \r\nz\r\n\" id=\"DejaVuSans-34\" transform=\"scale(0.015625)\"/>\r\n       </defs>\r\n       <use xlink:href=\"#DejaVuSans-34\"/>\r\n       <use x=\"63.623047\" xlink:href=\"#DejaVuSans-30\"/>\r\n      </g>\r\n     </g>\r\n    </g>\r\n    <g id=\"xtick_6\">\r\n     <g id=\"line2d_6\">\r\n      <g>\r\n       <use style=\"stroke:#000000;stroke-width:0.8;\" x=\"397.656626\" xlink:href=\"#m4ecb7206e5\" y=\"288.430125\"/>\r\n      </g>\r\n     </g>\r\n     <g id=\"text_6\">\r\n      <!-- 50 -->\r\n      <g transform=\"translate(391.294126 303.028562)scale(0.1 -0.1)\">\r\n       <defs>\r\n        <path d=\"M 691 4666 \r\nL 3169 4666 \r\nL 3169 4134 \r\nL 1269 4134 \r\nL 1269 2991 \r\nQ 1406 3038 1543 3061 \r\nQ 1681 3084 1819 3084 \r\nQ 2600 3084 3056 2656 \r\nQ 3513 2228 3513 1497 \r\nQ 3513 744 3044 326 \r\nQ 2575 -91 1722 -91 \r\nQ 1428 -91 1123 -41 \r\nQ 819 9 494 109 \r\nL 494 744 \r\nQ 775 591 1075 516 \r\nQ 1375 441 1709 441 \r\nQ 2250 441 2565 725 \r\nQ 2881 1009 2881 1497 \r\nQ 2881 1984 2565 2268 \r\nQ 2250 2553 1709 2553 \r\nQ 1456 2553 1204 2497 \r\nQ 953 2441 691 2322 \r\nL 691 4666 \r\nz\r\n\" id=\"DejaVuSans-35\" transform=\"scale(0.015625)\"/>\r\n       </defs>\r\n       <use xlink:href=\"#DejaVuSans-35\"/>\r\n       <use x=\"63.623047\" xlink:href=\"#DejaVuSans-30\"/>\r\n      </g>\r\n     </g>\r\n    </g>\r\n    <g id=\"text_7\">\r\n     <!-- Epoch -->\r\n     <g transform=\"translate(213.392813 316.706687)scale(0.1 -0.1)\">\r\n      <defs>\r\n       <path d=\"M 628 4666 \r\nL 3578 4666 \r\nL 3578 4134 \r\nL 1259 4134 \r\nL 1259 2753 \r\nL 3481 2753 \r\nL 3481 2222 \r\nL 1259 2222 \r\nL 1259 531 \r\nL 3634 531 \r\nL 3634 0 \r\nL 628 0 \r\nL 628 4666 \r\nz\r\n\" id=\"DejaVuSans-45\" transform=\"scale(0.015625)\"/>\r\n       <path d=\"M 1159 525 \r\nL 1159 -1331 \r\nL 581 -1331 \r\nL 581 3500 \r\nL 1159 3500 \r\nL 1159 2969 \r\nQ 1341 3281 1617 3432 \r\nQ 1894 3584 2278 3584 \r\nQ 2916 3584 3314 3078 \r\nQ 3713 2572 3713 1747 \r\nQ 3713 922 3314 415 \r\nQ 2916 -91 2278 -91 \r\nQ 1894 -91 1617 61 \r\nQ 1341 213 1159 525 \r\nz\r\nM 3116 1747 \r\nQ 3116 2381 2855 2742 \r\nQ 2594 3103 2138 3103 \r\nQ 1681 3103 1420 2742 \r\nQ 1159 2381 1159 1747 \r\nQ 1159 1113 1420 752 \r\nQ 1681 391 2138 391 \r\nQ 2594 391 2855 752 \r\nQ 3116 1113 3116 1747 \r\nz\r\n\" id=\"DejaVuSans-70\" transform=\"scale(0.015625)\"/>\r\n       <path d=\"M 1959 3097 \r\nQ 1497 3097 1228 2736 \r\nQ 959 2375 959 1747 \r\nQ 959 1119 1226 758 \r\nQ 1494 397 1959 397 \r\nQ 2419 397 2687 759 \r\nQ 2956 1122 2956 1747 \r\nQ 2956 2369 2687 2733 \r\nQ 2419 3097 1959 3097 \r\nz\r\nM 1959 3584 \r\nQ 2709 3584 3137 3096 \r\nQ 3566 2609 3566 1747 \r\nQ 3566 888 3137 398 \r\nQ 2709 -91 1959 -91 \r\nQ 1206 -91 779 398 \r\nQ 353 888 353 1747 \r\nQ 353 2609 779 3096 \r\nQ 1206 3584 1959 3584 \r\nz\r\n\" id=\"DejaVuSans-6f\" transform=\"scale(0.015625)\"/>\r\n       <path d=\"M 3122 3366 \r\nL 3122 2828 \r\nQ 2878 2963 2633 3030 \r\nQ 2388 3097 2138 3097 \r\nQ 1578 3097 1268 2742 \r\nQ 959 2388 959 1747 \r\nQ 959 1106 1268 751 \r\nQ 1578 397 2138 397 \r\nQ 2388 397 2633 464 \r\nQ 2878 531 3122 666 \r\nL 3122 134 \r\nQ 2881 22 2623 -34 \r\nQ 2366 -91 2075 -91 \r\nQ 1284 -91 818 406 \r\nQ 353 903 353 1747 \r\nQ 353 2603 823 3093 \r\nQ 1294 3584 2113 3584 \r\nQ 2378 3584 2631 3529 \r\nQ 2884 3475 3122 3366 \r\nz\r\n\" id=\"DejaVuSans-63\" transform=\"scale(0.015625)\"/>\r\n       <path d=\"M 3513 2113 \r\nL 3513 0 \r\nL 2938 0 \r\nL 2938 2094 \r\nQ 2938 2591 2744 2837 \r\nQ 2550 3084 2163 3084 \r\nQ 1697 3084 1428 2787 \r\nQ 1159 2491 1159 1978 \r\nL 1159 0 \r\nL 581 0 \r\nL 581 4863 \r\nL 1159 4863 \r\nL 1159 2956 \r\nQ 1366 3272 1645 3428 \r\nQ 1925 3584 2291 3584 \r\nQ 2894 3584 3203 3211 \r\nQ 3513 2838 3513 2113 \r\nz\r\n\" id=\"DejaVuSans-68\" transform=\"scale(0.015625)\"/>\r\n      </defs>\r\n      <use xlink:href=\"#DejaVuSans-45\"/>\r\n      <use x=\"63.183594\" xlink:href=\"#DejaVuSans-70\"/>\r\n      <use x=\"126.660156\" xlink:href=\"#DejaVuSans-6f\"/>\r\n      <use x=\"187.841797\" xlink:href=\"#DejaVuSans-63\"/>\r\n      <use x=\"242.822266\" xlink:href=\"#DejaVuSans-68\"/>\r\n     </g>\r\n    </g>\r\n   </g>\r\n   <g id=\"matplotlib.axis_2\">\r\n    <g id=\"ytick_1\">\r\n     <g id=\"line2d_7\">\r\n      <defs>\r\n       <path d=\"M 0 0 \r\nL -3.5 0 \r\n\" id=\"mcbf55a07de\" style=\"stroke:#000000;stroke-width:0.8;\"/>\r\n      </defs>\r\n      <g>\r\n       <use style=\"stroke:#000000;stroke-width:0.8;\" x=\"50.14375\" xlink:href=\"#mcbf55a07de\" y=\"269.918096\"/>\r\n      </g>\r\n     </g>\r\n     <g id=\"text_8\">\r\n      <!-- 0.66 -->\r\n      <g transform=\"translate(20.878125 273.717315)scale(0.1 -0.1)\">\r\n       <defs>\r\n        <path d=\"M 684 794 \r\nL 1344 794 \r\nL 1344 0 \r\nL 684 0 \r\nL 684 794 \r\nz\r\n\" id=\"DejaVuSans-2e\" transform=\"scale(0.015625)\"/>\r\n        <path d=\"M 2113 2584 \r\nQ 1688 2584 1439 2293 \r\nQ 1191 2003 1191 1497 \r\nQ 1191 994 1439 701 \r\nQ 1688 409 2113 409 \r\nQ 2538 409 2786 701 \r\nQ 3034 994 3034 1497 \r\nQ 3034 2003 2786 2293 \r\nQ 2538 2584 2113 2584 \r\nz\r\nM 3366 4563 \r\nL 3366 3988 \r\nQ 3128 4100 2886 4159 \r\nQ 2644 4219 2406 4219 \r\nQ 1781 4219 1451 3797 \r\nQ 1122 3375 1075 2522 \r\nQ 1259 2794 1537 2939 \r\nQ 1816 3084 2150 3084 \r\nQ 2853 3084 3261 2657 \r\nQ 3669 2231 3669 1497 \r\nQ 3669 778 3244 343 \r\nQ 2819 -91 2113 -91 \r\nQ 1303 -91 875 529 \r\nQ 447 1150 447 2328 \r\nQ 447 3434 972 4092 \r\nQ 1497 4750 2381 4750 \r\nQ 2619 4750 2861 4703 \r\nQ 3103 4656 3366 4563 \r\nz\r\n\" id=\"DejaVuSans-36\" transform=\"scale(0.015625)\"/>\r\n       </defs>\r\n       <use xlink:href=\"#DejaVuSans-30\"/>\r\n       <use x=\"63.623047\" xlink:href=\"#DejaVuSans-2e\"/>\r\n       <use x=\"95.410156\" xlink:href=\"#DejaVuSans-36\"/>\r\n       <use x=\"159.033203\" xlink:href=\"#DejaVuSans-36\"/>\r\n      </g>\r\n     </g>\r\n    </g>\r\n    <g id=\"ytick_2\">\r\n     <g id=\"line2d_8\">\r\n      <g>\r\n       <use style=\"stroke:#000000;stroke-width:0.8;\" x=\"50.14375\" xlink:href=\"#mcbf55a07de\" y=\"238.513549\"/>\r\n      </g>\r\n     </g>\r\n     <g id=\"text_9\">\r\n      <!-- 0.68 -->\r\n      <g transform=\"translate(20.878125 242.312767)scale(0.1 -0.1)\">\r\n       <defs>\r\n        <path d=\"M 2034 2216 \r\nQ 1584 2216 1326 1975 \r\nQ 1069 1734 1069 1313 \r\nQ 1069 891 1326 650 \r\nQ 1584 409 2034 409 \r\nQ 2484 409 2743 651 \r\nQ 3003 894 3003 1313 \r\nQ 3003 1734 2745 1975 \r\nQ 2488 2216 2034 2216 \r\nz\r\nM 1403 2484 \r\nQ 997 2584 770 2862 \r\nQ 544 3141 544 3541 \r\nQ 544 4100 942 4425 \r\nQ 1341 4750 2034 4750 \r\nQ 2731 4750 3128 4425 \r\nQ 3525 4100 3525 3541 \r\nQ 3525 3141 3298 2862 \r\nQ 3072 2584 2669 2484 \r\nQ 3125 2378 3379 2068 \r\nQ 3634 1759 3634 1313 \r\nQ 3634 634 3220 271 \r\nQ 2806 -91 2034 -91 \r\nQ 1263 -91 848 271 \r\nQ 434 634 434 1313 \r\nQ 434 1759 690 2068 \r\nQ 947 2378 1403 2484 \r\nz\r\nM 1172 3481 \r\nQ 1172 3119 1398 2916 \r\nQ 1625 2713 2034 2713 \r\nQ 2441 2713 2670 2916 \r\nQ 2900 3119 2900 3481 \r\nQ 2900 3844 2670 4047 \r\nQ 2441 4250 2034 4250 \r\nQ 1625 4250 1398 4047 \r\nQ 1172 3844 1172 3481 \r\nz\r\n\" id=\"DejaVuSans-38\" transform=\"scale(0.015625)\"/>\r\n       </defs>\r\n       <use xlink:href=\"#DejaVuSans-30\"/>\r\n       <use x=\"63.623047\" xlink:href=\"#DejaVuSans-2e\"/>\r\n       <use x=\"95.410156\" xlink:href=\"#DejaVuSans-36\"/>\r\n       <use x=\"159.033203\" xlink:href=\"#DejaVuSans-38\"/>\r\n      </g>\r\n     </g>\r\n    </g>\r\n    <g id=\"ytick_3\">\r\n     <g id=\"line2d_9\">\r\n      <g>\r\n       <use style=\"stroke:#000000;stroke-width:0.8;\" x=\"50.14375\" xlink:href=\"#mcbf55a07de\" y=\"207.109002\"/>\r\n      </g>\r\n     </g>\r\n     <g id=\"text_10\">\r\n      <!-- 0.70 -->\r\n      <g transform=\"translate(20.878125 210.90822)scale(0.1 -0.1)\">\r\n       <defs>\r\n        <path d=\"M 525 4666 \r\nL 3525 4666 \r\nL 3525 4397 \r\nL 1831 0 \r\nL 1172 0 \r\nL 2766 4134 \r\nL 525 4134 \r\nL 525 4666 \r\nz\r\n\" id=\"DejaVuSans-37\" transform=\"scale(0.015625)\"/>\r\n       </defs>\r\n       <use xlink:href=\"#DejaVuSans-30\"/>\r\n       <use x=\"63.623047\" xlink:href=\"#DejaVuSans-2e\"/>\r\n       <use x=\"95.410156\" xlink:href=\"#DejaVuSans-37\"/>\r\n       <use x=\"159.033203\" xlink:href=\"#DejaVuSans-30\"/>\r\n      </g>\r\n     </g>\r\n    </g>\r\n    <g id=\"ytick_4\">\r\n     <g id=\"line2d_10\">\r\n      <g>\r\n       <use style=\"stroke:#000000;stroke-width:0.8;\" x=\"50.14375\" xlink:href=\"#mcbf55a07de\" y=\"175.704454\"/>\r\n      </g>\r\n     </g>\r\n     <g id=\"text_11\">\r\n      <!-- 0.72 -->\r\n      <g transform=\"translate(20.878125 179.503673)scale(0.1 -0.1)\">\r\n       <use xlink:href=\"#DejaVuSans-30\"/>\r\n       <use x=\"63.623047\" xlink:href=\"#DejaVuSans-2e\"/>\r\n       <use x=\"95.410156\" xlink:href=\"#DejaVuSans-37\"/>\r\n       <use x=\"159.033203\" xlink:href=\"#DejaVuSans-32\"/>\r\n      </g>\r\n     </g>\r\n    </g>\r\n    <g id=\"ytick_5\">\r\n     <g id=\"line2d_11\">\r\n      <g>\r\n       <use style=\"stroke:#000000;stroke-width:0.8;\" x=\"50.14375\" xlink:href=\"#mcbf55a07de\" y=\"144.299907\"/>\r\n      </g>\r\n     </g>\r\n     <g id=\"text_12\">\r\n      <!-- 0.74 -->\r\n      <g transform=\"translate(20.878125 148.099126)scale(0.1 -0.1)\">\r\n       <use xlink:href=\"#DejaVuSans-30\"/>\r\n       <use x=\"63.623047\" xlink:href=\"#DejaVuSans-2e\"/>\r\n       <use x=\"95.410156\" xlink:href=\"#DejaVuSans-37\"/>\r\n       <use x=\"159.033203\" xlink:href=\"#DejaVuSans-34\"/>\r\n      </g>\r\n     </g>\r\n    </g>\r\n    <g id=\"ytick_6\">\r\n     <g id=\"line2d_12\">\r\n      <g>\r\n       <use style=\"stroke:#000000;stroke-width:0.8;\" x=\"50.14375\" xlink:href=\"#mcbf55a07de\" y=\"112.89536\"/>\r\n      </g>\r\n     </g>\r\n     <g id=\"text_13\">\r\n      <!-- 0.76 -->\r\n      <g transform=\"translate(20.878125 116.694579)scale(0.1 -0.1)\">\r\n       <use xlink:href=\"#DejaVuSans-30\"/>\r\n       <use x=\"63.623047\" xlink:href=\"#DejaVuSans-2e\"/>\r\n       <use x=\"95.410156\" xlink:href=\"#DejaVuSans-37\"/>\r\n       <use x=\"159.033203\" xlink:href=\"#DejaVuSans-36\"/>\r\n      </g>\r\n     </g>\r\n    </g>\r\n    <g id=\"ytick_7\">\r\n     <g id=\"line2d_13\">\r\n      <g>\r\n       <use style=\"stroke:#000000;stroke-width:0.8;\" x=\"50.14375\" xlink:href=\"#mcbf55a07de\" y=\"81.490813\"/>\r\n      </g>\r\n     </g>\r\n     <g id=\"text_14\">\r\n      <!-- 0.78 -->\r\n      <g transform=\"translate(20.878125 85.290031)scale(0.1 -0.1)\">\r\n       <use xlink:href=\"#DejaVuSans-30\"/>\r\n       <use x=\"63.623047\" xlink:href=\"#DejaVuSans-2e\"/>\r\n       <use x=\"95.410156\" xlink:href=\"#DejaVuSans-37\"/>\r\n       <use x=\"159.033203\" xlink:href=\"#DejaVuSans-38\"/>\r\n      </g>\r\n     </g>\r\n    </g>\r\n    <g id=\"ytick_8\">\r\n     <g id=\"line2d_14\">\r\n      <g>\r\n       <use style=\"stroke:#000000;stroke-width:0.8;\" x=\"50.14375\" xlink:href=\"#mcbf55a07de\" y=\"50.086265\"/>\r\n      </g>\r\n     </g>\r\n     <g id=\"text_15\">\r\n      <!-- 0.80 -->\r\n      <g transform=\"translate(20.878125 53.885484)scale(0.1 -0.1)\">\r\n       <use xlink:href=\"#DejaVuSans-30\"/>\r\n       <use x=\"63.623047\" xlink:href=\"#DejaVuSans-2e\"/>\r\n       <use x=\"95.410156\" xlink:href=\"#DejaVuSans-38\"/>\r\n       <use x=\"159.033203\" xlink:href=\"#DejaVuSans-30\"/>\r\n      </g>\r\n     </g>\r\n    </g>\r\n    <g id=\"text_16\">\r\n     <!-- Accuraacy -->\r\n     <g transform=\"translate(14.798438 181.266312)rotate(-90)scale(0.1 -0.1)\">\r\n      <defs>\r\n       <path d=\"M 2188 4044 \r\nL 1331 1722 \r\nL 3047 1722 \r\nL 2188 4044 \r\nz\r\nM 1831 4666 \r\nL 2547 4666 \r\nL 4325 0 \r\nL 3669 0 \r\nL 3244 1197 \r\nL 1141 1197 \r\nL 716 0 \r\nL 50 0 \r\nL 1831 4666 \r\nz\r\n\" id=\"DejaVuSans-41\" transform=\"scale(0.015625)\"/>\r\n       <path d=\"M 544 1381 \r\nL 544 3500 \r\nL 1119 3500 \r\nL 1119 1403 \r\nQ 1119 906 1312 657 \r\nQ 1506 409 1894 409 \r\nQ 2359 409 2629 706 \r\nQ 2900 1003 2900 1516 \r\nL 2900 3500 \r\nL 3475 3500 \r\nL 3475 0 \r\nL 2900 0 \r\nL 2900 538 \r\nQ 2691 219 2414 64 \r\nQ 2138 -91 1772 -91 \r\nQ 1169 -91 856 284 \r\nQ 544 659 544 1381 \r\nz\r\nM 1991 3584 \r\nL 1991 3584 \r\nz\r\n\" id=\"DejaVuSans-75\" transform=\"scale(0.015625)\"/>\r\n       <path d=\"M 2631 2963 \r\nQ 2534 3019 2420 3045 \r\nQ 2306 3072 2169 3072 \r\nQ 1681 3072 1420 2755 \r\nQ 1159 2438 1159 1844 \r\nL 1159 0 \r\nL 581 0 \r\nL 581 3500 \r\nL 1159 3500 \r\nL 1159 2956 \r\nQ 1341 3275 1631 3429 \r\nQ 1922 3584 2338 3584 \r\nQ 2397 3584 2469 3576 \r\nQ 2541 3569 2628 3553 \r\nL 2631 2963 \r\nz\r\n\" id=\"DejaVuSans-72\" transform=\"scale(0.015625)\"/>\r\n       <path d=\"M 2194 1759 \r\nQ 1497 1759 1228 1600 \r\nQ 959 1441 959 1056 \r\nQ 959 750 1161 570 \r\nQ 1363 391 1709 391 \r\nQ 2188 391 2477 730 \r\nQ 2766 1069 2766 1631 \r\nL 2766 1759 \r\nL 2194 1759 \r\nz\r\nM 3341 1997 \r\nL 3341 0 \r\nL 2766 0 \r\nL 2766 531 \r\nQ 2569 213 2275 61 \r\nQ 1981 -91 1556 -91 \r\nQ 1019 -91 701 211 \r\nQ 384 513 384 1019 \r\nQ 384 1609 779 1909 \r\nQ 1175 2209 1959 2209 \r\nL 2766 2209 \r\nL 2766 2266 \r\nQ 2766 2663 2505 2880 \r\nQ 2244 3097 1772 3097 \r\nQ 1472 3097 1187 3025 \r\nQ 903 2953 641 2809 \r\nL 641 3341 \r\nQ 956 3463 1253 3523 \r\nQ 1550 3584 1831 3584 \r\nQ 2591 3584 2966 3190 \r\nQ 3341 2797 3341 1997 \r\nz\r\n\" id=\"DejaVuSans-61\" transform=\"scale(0.015625)\"/>\r\n       <path d=\"M 2059 -325 \r\nQ 1816 -950 1584 -1140 \r\nQ 1353 -1331 966 -1331 \r\nL 506 -1331 \r\nL 506 -850 \r\nL 844 -850 \r\nQ 1081 -850 1212 -737 \r\nQ 1344 -625 1503 -206 \r\nL 1606 56 \r\nL 191 3500 \r\nL 800 3500 \r\nL 1894 763 \r\nL 2988 3500 \r\nL 3597 3500 \r\nL 2059 -325 \r\nz\r\n\" id=\"DejaVuSans-79\" transform=\"scale(0.015625)\"/>\r\n      </defs>\r\n      <use xlink:href=\"#DejaVuSans-41\"/>\r\n      <use x=\"66.658203\" xlink:href=\"#DejaVuSans-63\"/>\r\n      <use x=\"121.638672\" xlink:href=\"#DejaVuSans-63\"/>\r\n      <use x=\"176.619141\" xlink:href=\"#DejaVuSans-75\"/>\r\n      <use x=\"239.998047\" xlink:href=\"#DejaVuSans-72\"/>\r\n      <use x=\"281.111328\" xlink:href=\"#DejaVuSans-61\"/>\r\n      <use x=\"342.390625\" xlink:href=\"#DejaVuSans-61\"/>\r\n      <use x=\"403.669922\" xlink:href=\"#DejaVuSans-63\"/>\r\n      <use x=\"458.650391\" xlink:href=\"#DejaVuSans-79\"/>\r\n     </g>\r\n    </g>\r\n   </g>\r\n   <g id=\"line2d_15\">\r\n    <path clip-path=\"url(#p0dcd8d3a5e)\" d=\"M 66.376477 269.496138 \r\nL 73.00208 269.496138 \r\nL 79.627683 269.496138 \r\nL 86.253286 269.496138 \r\nL 92.878889 269.496138 \r\nL 99.504492 269.496138 \r\nL 106.130095 254.426754 \r\nL 112.755698 191.135436 \r\nL 119.381301 179.080022 \r\nL 126.006904 170.038392 \r\nL 132.632507 151.955132 \r\nL 139.25811 136.885748 \r\nL 145.883713 145.927378 \r\nL 152.509316 115.788704 \r\nL 159.134919 112.774827 \r\nL 165.760522 100.71932 \r\nL 172.386125 118.802581 \r\nL 179.011728 97.705443 \r\nL 185.637331 97.705443 \r\nL 192.262934 88.663813 \r\nL 198.888537 85.649936 \r\nL 205.51414 91.67769 \r\nL 212.139743 91.67769 \r\nL 218.765346 94.691567 \r\nL 225.390949 64.552893 \r\nL 232.016551 85.649936 \r\nL 238.642154 73.594429 \r\nL 245.267757 82.63606 \r\nL 251.89336 67.566769 \r\nL 258.518963 55.511262 \r\nL 265.144566 61.539016 \r\nL 271.770169 70.580553 \r\nL 278.395772 64.552893 \r\nL 285.021375 70.580553 \r\nL 291.646978 82.63606 \r\nL 298.272581 55.511262 \r\nL 304.898184 70.580553 \r\nL 311.523787 52.497386 \r\nL 318.14939 64.552893 \r\nL 324.774993 67.566769 \r\nL 331.400596 40.441879 \r\nL 338.026199 52.497386 \r\nL 344.651802 34.414125 \r\nL 351.277405 37.428002 \r\nL 357.903008 55.511262 \r\nL 364.528611 52.497386 \r\nL 371.154214 40.441879 \r\nL 377.779817 34.414125 \r\nL 384.40542 40.441879 \r\nL 391.031023 49.483509 \r\n\" style=\"fill:none;stroke:#1f77b4;stroke-linecap:square;stroke-width:1.5;\"/>\r\n   </g>\r\n   <g id=\"line2d_16\">\r\n    <path clip-path=\"url(#p0dcd8d3a5e)\" d=\"M 66.376477 276.334125 \r\nL 73.00208 276.334125 \r\nL 79.627683 276.334125 \r\nL 86.253286 276.334125 \r\nL 92.878889 276.334125 \r\nL 99.504492 276.334125 \r\nL 106.130095 259.449882 \r\nL 112.755698 242.565733 \r\nL 119.381301 158.144894 \r\nL 126.006904 175.029043 \r\nL 132.632507 158.144894 \r\nL 139.25811 175.029043 \r\nL 145.883713 158.144894 \r\nL 152.509316 141.260745 \r\nL 159.134919 158.144894 \r\nL 165.760522 225.681584 \r\nL 172.386125 124.376596 \r\nL 179.011728 124.376596 \r\nL 185.637331 107.492447 \r\nL 192.262934 107.492447 \r\nL 198.888537 107.492447 \r\nL 205.51414 124.376596 \r\nL 212.139743 141.260745 \r\nL 218.765346 90.608298 \r\nL 225.390949 124.376596 \r\nL 232.016551 90.608298 \r\nL 238.642154 124.376596 \r\nL 245.267757 90.608298 \r\nL 251.89336 124.376596 \r\nL 258.518963 107.492447 \r\nL 265.144566 141.260745 \r\nL 271.770169 90.608298 \r\nL 278.395772 141.260745 \r\nL 285.021375 107.492447 \r\nL 291.646978 90.608298 \r\nL 298.272581 141.260745 \r\nL 304.898184 90.608298 \r\nL 311.523787 158.144894 \r\nL 318.14939 107.492447 \r\nL 324.774993 141.260745 \r\nL 331.400596 141.260745 \r\nL 338.026199 141.260745 \r\nL 344.651802 107.492447 \r\nL 351.277405 124.376596 \r\nL 357.903008 158.144894 \r\nL 364.528611 124.376596 \r\nL 371.154214 141.260745 \r\nL 377.779817 90.608298 \r\nL 384.40542 124.376596 \r\nL 391.031023 141.260745 \r\n\" style=\"fill:none;stroke:#ff7f0e;stroke-linecap:square;stroke-width:1.5;\"/>\r\n   </g>\r\n   <g id=\"patch_3\">\r\n    <path d=\"M 50.14375 288.430125 \r\nL 50.14375 22.318125 \r\n\" style=\"fill:none;stroke:#000000;stroke-linecap:square;stroke-linejoin:miter;stroke-width:0.8;\"/>\r\n   </g>\r\n   <g id=\"patch_4\">\r\n    <path d=\"M 407.26375 288.430125 \r\nL 407.26375 22.318125 \r\n\" style=\"fill:none;stroke:#000000;stroke-linecap:square;stroke-linejoin:miter;stroke-width:0.8;\"/>\r\n   </g>\r\n   <g id=\"patch_5\">\r\n    <path d=\"M 50.14375 288.430125 \r\nL 407.26375 288.430125 \r\n\" style=\"fill:none;stroke:#000000;stroke-linecap:square;stroke-linejoin:miter;stroke-width:0.8;\"/>\r\n   </g>\r\n   <g id=\"patch_6\">\r\n    <path d=\"M 50.14375 22.318125 \r\nL 407.26375 22.318125 \r\n\" style=\"fill:none;stroke:#000000;stroke-linecap:square;stroke-linejoin:miter;stroke-width:0.8;\"/>\r\n   </g>\r\n   <g id=\"text_17\">\r\n    <!-- Model Accuracy -->\r\n    <g transform=\"translate(181.387188 16.318125)scale(0.12 -0.12)\">\r\n     <defs>\r\n      <path d=\"M 628 4666 \r\nL 1569 4666 \r\nL 2759 1491 \r\nL 3956 4666 \r\nL 4897 4666 \r\nL 4897 0 \r\nL 4281 0 \r\nL 4281 4097 \r\nL 3078 897 \r\nL 2444 897 \r\nL 1241 4097 \r\nL 1241 0 \r\nL 628 0 \r\nL 628 4666 \r\nz\r\n\" id=\"DejaVuSans-4d\" transform=\"scale(0.015625)\"/>\r\n      <path d=\"M 2906 2969 \r\nL 2906 4863 \r\nL 3481 4863 \r\nL 3481 0 \r\nL 2906 0 \r\nL 2906 525 \r\nQ 2725 213 2448 61 \r\nQ 2172 -91 1784 -91 \r\nQ 1150 -91 751 415 \r\nQ 353 922 353 1747 \r\nQ 353 2572 751 3078 \r\nQ 1150 3584 1784 3584 \r\nQ 2172 3584 2448 3432 \r\nQ 2725 3281 2906 2969 \r\nz\r\nM 947 1747 \r\nQ 947 1113 1208 752 \r\nQ 1469 391 1925 391 \r\nQ 2381 391 2643 752 \r\nQ 2906 1113 2906 1747 \r\nQ 2906 2381 2643 2742 \r\nQ 2381 3103 1925 3103 \r\nQ 1469 3103 1208 2742 \r\nQ 947 2381 947 1747 \r\nz\r\n\" id=\"DejaVuSans-64\" transform=\"scale(0.015625)\"/>\r\n      <path d=\"M 3597 1894 \r\nL 3597 1613 \r\nL 953 1613 \r\nQ 991 1019 1311 708 \r\nQ 1631 397 2203 397 \r\nQ 2534 397 2845 478 \r\nQ 3156 559 3463 722 \r\nL 3463 178 \r\nQ 3153 47 2828 -22 \r\nQ 2503 -91 2169 -91 \r\nQ 1331 -91 842 396 \r\nQ 353 884 353 1716 \r\nQ 353 2575 817 3079 \r\nQ 1281 3584 2069 3584 \r\nQ 2775 3584 3186 3129 \r\nQ 3597 2675 3597 1894 \r\nz\r\nM 3022 2063 \r\nQ 3016 2534 2758 2815 \r\nQ 2500 3097 2075 3097 \r\nQ 1594 3097 1305 2825 \r\nQ 1016 2553 972 2059 \r\nL 3022 2063 \r\nz\r\n\" id=\"DejaVuSans-65\" transform=\"scale(0.015625)\"/>\r\n      <path d=\"M 603 4863 \r\nL 1178 4863 \r\nL 1178 0 \r\nL 603 0 \r\nL 603 4863 \r\nz\r\n\" id=\"DejaVuSans-6c\" transform=\"scale(0.015625)\"/>\r\n      <path id=\"DejaVuSans-20\" transform=\"scale(0.015625)\"/>\r\n     </defs>\r\n     <use xlink:href=\"#DejaVuSans-4d\"/>\r\n     <use x=\"86.279297\" xlink:href=\"#DejaVuSans-6f\"/>\r\n     <use x=\"147.460938\" xlink:href=\"#DejaVuSans-64\"/>\r\n     <use x=\"210.9375\" xlink:href=\"#DejaVuSans-65\"/>\r\n     <use x=\"272.460938\" xlink:href=\"#DejaVuSans-6c\"/>\r\n     <use x=\"300.244141\" xlink:href=\"#DejaVuSans-20\"/>\r\n     <use x=\"332.03125\" xlink:href=\"#DejaVuSans-41\"/>\r\n     <use x=\"398.689453\" xlink:href=\"#DejaVuSans-63\"/>\r\n     <use x=\"453.669922\" xlink:href=\"#DejaVuSans-63\"/>\r\n     <use x=\"508.650391\" xlink:href=\"#DejaVuSans-75\"/>\r\n     <use x=\"572.029297\" xlink:href=\"#DejaVuSans-72\"/>\r\n     <use x=\"613.142578\" xlink:href=\"#DejaVuSans-61\"/>\r\n     <use x=\"674.421875\" xlink:href=\"#DejaVuSans-63\"/>\r\n     <use x=\"729.402344\" xlink:href=\"#DejaVuSans-79\"/>\r\n    </g>\r\n   </g>\r\n   <g id=\"legend_1\">\r\n    <g id=\"patch_7\">\r\n     <path d=\"M 57.14375 59.674375 \r\nL 160.715625 59.674375 \r\nQ 162.715625 59.674375 162.715625 57.674375 \r\nL 162.715625 29.318125 \r\nQ 162.715625 27.318125 160.715625 27.318125 \r\nL 57.14375 27.318125 \r\nQ 55.14375 27.318125 55.14375 29.318125 \r\nL 55.14375 57.674375 \r\nQ 55.14375 59.674375 57.14375 59.674375 \r\nz\r\n\" style=\"fill:#ffffff;opacity:0.8;stroke:#cccccc;stroke-linejoin:miter;\"/>\r\n    </g>\r\n    <g id=\"line2d_17\">\r\n     <path d=\"M 59.14375 35.416562 \r\nL 79.14375 35.416562 \r\n\" style=\"fill:none;stroke:#1f77b4;stroke-linecap:square;stroke-width:1.5;\"/>\r\n    </g>\r\n    <g id=\"line2d_18\"/>\r\n    <g id=\"text_18\">\r\n     <!-- train accuracy -->\r\n     <g transform=\"translate(87.14375 38.916562)scale(0.1 -0.1)\">\r\n      <defs>\r\n       <path d=\"M 1172 4494 \r\nL 1172 3500 \r\nL 2356 3500 \r\nL 2356 3053 \r\nL 1172 3053 \r\nL 1172 1153 \r\nQ 1172 725 1289 603 \r\nQ 1406 481 1766 481 \r\nL 2356 481 \r\nL 2356 0 \r\nL 1766 0 \r\nQ 1100 0 847 248 \r\nQ 594 497 594 1153 \r\nL 594 3053 \r\nL 172 3053 \r\nL 172 3500 \r\nL 594 3500 \r\nL 594 4494 \r\nL 1172 4494 \r\nz\r\n\" id=\"DejaVuSans-74\" transform=\"scale(0.015625)\"/>\r\n       <path d=\"M 603 3500 \r\nL 1178 3500 \r\nL 1178 0 \r\nL 603 0 \r\nL 603 3500 \r\nz\r\nM 603 4863 \r\nL 1178 4863 \r\nL 1178 4134 \r\nL 603 4134 \r\nL 603 4863 \r\nz\r\n\" id=\"DejaVuSans-69\" transform=\"scale(0.015625)\"/>\r\n       <path d=\"M 3513 2113 \r\nL 3513 0 \r\nL 2938 0 \r\nL 2938 2094 \r\nQ 2938 2591 2744 2837 \r\nQ 2550 3084 2163 3084 \r\nQ 1697 3084 1428 2787 \r\nQ 1159 2491 1159 1978 \r\nL 1159 0 \r\nL 581 0 \r\nL 581 3500 \r\nL 1159 3500 \r\nL 1159 2956 \r\nQ 1366 3272 1645 3428 \r\nQ 1925 3584 2291 3584 \r\nQ 2894 3584 3203 3211 \r\nQ 3513 2838 3513 2113 \r\nz\r\n\" id=\"DejaVuSans-6e\" transform=\"scale(0.015625)\"/>\r\n      </defs>\r\n      <use xlink:href=\"#DejaVuSans-74\"/>\r\n      <use x=\"39.208984\" xlink:href=\"#DejaVuSans-72\"/>\r\n      <use x=\"80.322266\" xlink:href=\"#DejaVuSans-61\"/>\r\n      <use x=\"141.601562\" xlink:href=\"#DejaVuSans-69\"/>\r\n      <use x=\"169.384766\" xlink:href=\"#DejaVuSans-6e\"/>\r\n      <use x=\"232.763672\" xlink:href=\"#DejaVuSans-20\"/>\r\n      <use x=\"264.550781\" xlink:href=\"#DejaVuSans-61\"/>\r\n      <use x=\"325.830078\" xlink:href=\"#DejaVuSans-63\"/>\r\n      <use x=\"380.810547\" xlink:href=\"#DejaVuSans-63\"/>\r\n      <use x=\"435.791016\" xlink:href=\"#DejaVuSans-75\"/>\r\n      <use x=\"499.169922\" xlink:href=\"#DejaVuSans-72\"/>\r\n      <use x=\"540.283203\" xlink:href=\"#DejaVuSans-61\"/>\r\n      <use x=\"601.5625\" xlink:href=\"#DejaVuSans-63\"/>\r\n      <use x=\"656.542969\" xlink:href=\"#DejaVuSans-79\"/>\r\n     </g>\r\n    </g>\r\n    <g id=\"line2d_19\">\r\n     <path d=\"M 59.14375 50.094687 \r\nL 79.14375 50.094687 \r\n\" style=\"fill:none;stroke:#ff7f0e;stroke-linecap:square;stroke-width:1.5;\"/>\r\n    </g>\r\n    <g id=\"line2d_20\"/>\r\n    <g id=\"text_19\">\r\n     <!-- val accuracy -->\r\n     <g transform=\"translate(87.14375 53.594687)scale(0.1 -0.1)\">\r\n      <defs>\r\n       <path d=\"M 191 3500 \r\nL 800 3500 \r\nL 1894 563 \r\nL 2988 3500 \r\nL 3597 3500 \r\nL 2284 0 \r\nL 1503 0 \r\nL 191 3500 \r\nz\r\n\" id=\"DejaVuSans-76\" transform=\"scale(0.015625)\"/>\r\n      </defs>\r\n      <use xlink:href=\"#DejaVuSans-76\"/>\r\n      <use x=\"59.179688\" xlink:href=\"#DejaVuSans-61\"/>\r\n      <use x=\"120.458984\" xlink:href=\"#DejaVuSans-6c\"/>\r\n      <use x=\"148.242188\" xlink:href=\"#DejaVuSans-20\"/>\r\n      <use x=\"180.029297\" xlink:href=\"#DejaVuSans-61\"/>\r\n      <use x=\"241.308594\" xlink:href=\"#DejaVuSans-63\"/>\r\n      <use x=\"296.289062\" xlink:href=\"#DejaVuSans-63\"/>\r\n      <use x=\"351.269531\" xlink:href=\"#DejaVuSans-75\"/>\r\n      <use x=\"414.648438\" xlink:href=\"#DejaVuSans-72\"/>\r\n      <use x=\"455.761719\" xlink:href=\"#DejaVuSans-61\"/>\r\n      <use x=\"517.041016\" xlink:href=\"#DejaVuSans-63\"/>\r\n      <use x=\"572.021484\" xlink:href=\"#DejaVuSans-79\"/>\r\n     </g>\r\n    </g>\r\n   </g>\r\n  </g>\r\n </g>\r\n <defs>\r\n  <clipPath id=\"p0dcd8d3a5e\">\r\n   <rect height=\"266.112\" width=\"357.12\" x=\"50.14375\" y=\"22.318125\"/>\r\n  </clipPath>\r\n </defs>\r\n</svg>\r\n",
            "image/png": "[encoded data removed]"
          },
          "metadata": {}
        }
      ],
      "metadata": {
        "id": "_LzD2-4SIZQw",
        "outputId": "5b46a91b-32ea-4dc8-b14c-802103edb2c0"
      }
    },
    {
      "cell_type": "code",
      "execution_count": 29,
      "source": [
        "plt.plot(history.history['loss'], label = 'train loss')\r\n",
        "plt.plot(history.history['val_loss'], label = 'val loss')\r\n",
        "plt.title('Model Loss')\r\n",
        "plt.ylabel('Loss')\r\n",
        "plt.xlabel('Epoch')\r\n",
        "plt.legend()\r\n",
        "plt.show()"
      ],
      "outputs": [
        {
          "output_type": "display_data",
          "data": {
            "text/plain": [
              "<Figure size 640x480 with 1 Axes>"
            ],
            "image/svg+xml": "<?xml version=\"1.0\" encoding=\"utf-8\" standalone=\"no\"?>\r\n<!DOCTYPE svg PUBLIC \"-//W3C//DTD SVG 1.1//EN\"\r\n  \"http://www.w3.org/Graphics/SVG/1.1/DTD/svg11.dtd\">\r\n<svg height=\"325.986375pt\" version=\"1.1\" viewBox=\"0 0 414.46375 325.986375\" width=\"414.46375pt\" xmlns=\"http://www.w3.org/2000/svg\" xmlns:xlink=\"http://www.w3.org/1999/xlink\">\r\n <metadata>\r\n  <rdf:RDF xmlns:cc=\"http://creativecommons.org/ns#\" xmlns:dc=\"http://purl.org/dc/elements/1.1/\" xmlns:rdf=\"http://www.w3.org/1999/02/22-rdf-syntax-ns#\">\r\n   <cc:Work>\r\n    <dc:type rdf:resource=\"http://purl.org/dc/dcmitype/StillImage\"/>\r\n    <dc:date>2021-08-31T08:36:12.984351</dc:date>\r\n    <dc:format>image/svg+xml</dc:format>\r\n    <dc:creator>\r\n     <cc:Agent>\r\n      <dc:title>Matplotlib v3.4.2, https://matplotlib.org/</dc:title>\r\n     </cc:Agent>\r\n    </dc:creator>\r\n   </cc:Work>\r\n  </rdf:RDF>\r\n </metadata>\r\n <defs>\r\n  <style type=\"text/css\">*{stroke-linecap:butt;stroke-linejoin:round;}</style>\r\n </defs>\r\n <g id=\"figure_1\">\r\n  <g id=\"patch_1\">\r\n   <path d=\"M 0 325.986375 \r\nL 414.46375 325.986375 \r\nL 414.46375 0 \r\nL 0 0 \r\nz\r\n\" style=\"fill:#ffffff;\"/>\r\n  </g>\r\n  <g id=\"axes_1\">\r\n   <g id=\"patch_2\">\r\n    <path d=\"M 50.14375 288.430125 \r\nL 407.26375 288.430125 \r\nL 407.26375 22.318125 \r\nL 50.14375 22.318125 \r\nz\r\n\" style=\"fill:#ffffff;\"/>\r\n   </g>\r\n   <g id=\"matplotlib.axis_1\">\r\n    <g id=\"xtick_1\">\r\n     <g id=\"line2d_1\">\r\n      <defs>\r\n       <path d=\"M 0 0 \r\nL 0 3.5 \r\n\" id=\"m528860f4f3\" style=\"stroke:#000000;stroke-width:0.8;\"/>\r\n      </defs>\r\n      <g>\r\n       <use style=\"stroke:#000000;stroke-width:0.8;\" x=\"66.376477\" xlink:href=\"#m528860f4f3\" y=\"288.430125\"/>\r\n      </g>\r\n     </g>\r\n     <g id=\"text_1\">\r\n      <!-- 0 -->\r\n      <g transform=\"translate(63.195227 303.028562)scale(0.1 -0.1)\">\r\n       <defs>\r\n        <path d=\"M 2034 4250 \r\nQ 1547 4250 1301 3770 \r\nQ 1056 3291 1056 2328 \r\nQ 1056 1369 1301 889 \r\nQ 1547 409 2034 409 \r\nQ 2525 409 2770 889 \r\nQ 3016 1369 3016 2328 \r\nQ 3016 3291 2770 3770 \r\nQ 2525 4250 2034 4250 \r\nz\r\nM 2034 4750 \r\nQ 2819 4750 3233 4129 \r\nQ 3647 3509 3647 2328 \r\nQ 3647 1150 3233 529 \r\nQ 2819 -91 2034 -91 \r\nQ 1250 -91 836 529 \r\nQ 422 1150 422 2328 \r\nQ 422 3509 836 4129 \r\nQ 1250 4750 2034 4750 \r\nz\r\n\" id=\"DejaVuSans-30\" transform=\"scale(0.015625)\"/>\r\n       </defs>\r\n       <use xlink:href=\"#DejaVuSans-30\"/>\r\n      </g>\r\n     </g>\r\n    </g>\r\n    <g id=\"xtick_2\">\r\n     <g id=\"line2d_2\">\r\n      <g>\r\n       <use style=\"stroke:#000000;stroke-width:0.8;\" x=\"132.632507\" xlink:href=\"#m528860f4f3\" y=\"288.430125\"/>\r\n      </g>\r\n     </g>\r\n     <g id=\"text_2\">\r\n      <!-- 10 -->\r\n      <g transform=\"translate(126.270007 303.028562)scale(0.1 -0.1)\">\r\n       <defs>\r\n        <path d=\"M 794 531 \r\nL 1825 531 \r\nL 1825 4091 \r\nL 703 3866 \r\nL 703 4441 \r\nL 1819 4666 \r\nL 2450 4666 \r\nL 2450 531 \r\nL 3481 531 \r\nL 3481 0 \r\nL 794 0 \r\nL 794 531 \r\nz\r\n\" id=\"DejaVuSans-31\" transform=\"scale(0.015625)\"/>\r\n       </defs>\r\n       <use xlink:href=\"#DejaVuSans-31\"/>\r\n       <use x=\"63.623047\" xlink:href=\"#DejaVuSans-30\"/>\r\n      </g>\r\n     </g>\r\n    </g>\r\n    <g id=\"xtick_3\">\r\n     <g id=\"line2d_3\">\r\n      <g>\r\n       <use style=\"stroke:#000000;stroke-width:0.8;\" x=\"198.888537\" xlink:href=\"#m528860f4f3\" y=\"288.430125\"/>\r\n      </g>\r\n     </g>\r\n     <g id=\"text_3\">\r\n      <!-- 20 -->\r\n      <g transform=\"translate(192.526037 303.028562)scale(0.1 -0.1)\">\r\n       <defs>\r\n        <path d=\"M 1228 531 \r\nL 3431 531 \r\nL 3431 0 \r\nL 469 0 \r\nL 469 531 \r\nQ 828 903 1448 1529 \r\nQ 2069 2156 2228 2338 \r\nQ 2531 2678 2651 2914 \r\nQ 2772 3150 2772 3378 \r\nQ 2772 3750 2511 3984 \r\nQ 2250 4219 1831 4219 \r\nQ 1534 4219 1204 4116 \r\nQ 875 4013 500 3803 \r\nL 500 4441 \r\nQ 881 4594 1212 4672 \r\nQ 1544 4750 1819 4750 \r\nQ 2544 4750 2975 4387 \r\nQ 3406 4025 3406 3419 \r\nQ 3406 3131 3298 2873 \r\nQ 3191 2616 2906 2266 \r\nQ 2828 2175 2409 1742 \r\nQ 1991 1309 1228 531 \r\nz\r\n\" id=\"DejaVuSans-32\" transform=\"scale(0.015625)\"/>\r\n       </defs>\r\n       <use xlink:href=\"#DejaVuSans-32\"/>\r\n       <use x=\"63.623047\" xlink:href=\"#DejaVuSans-30\"/>\r\n      </g>\r\n     </g>\r\n    </g>\r\n    <g id=\"xtick_4\">\r\n     <g id=\"line2d_4\">\r\n      <g>\r\n       <use style=\"stroke:#000000;stroke-width:0.8;\" x=\"265.144566\" xlink:href=\"#m528860f4f3\" y=\"288.430125\"/>\r\n      </g>\r\n     </g>\r\n     <g id=\"text_4\">\r\n      <!-- 30 -->\r\n      <g transform=\"translate(258.782066 303.028562)scale(0.1 -0.1)\">\r\n       <defs>\r\n        <path d=\"M 2597 2516 \r\nQ 3050 2419 3304 2112 \r\nQ 3559 1806 3559 1356 \r\nQ 3559 666 3084 287 \r\nQ 2609 -91 1734 -91 \r\nQ 1441 -91 1130 -33 \r\nQ 819 25 488 141 \r\nL 488 750 \r\nQ 750 597 1062 519 \r\nQ 1375 441 1716 441 \r\nQ 2309 441 2620 675 \r\nQ 2931 909 2931 1356 \r\nQ 2931 1769 2642 2001 \r\nQ 2353 2234 1838 2234 \r\nL 1294 2234 \r\nL 1294 2753 \r\nL 1863 2753 \r\nQ 2328 2753 2575 2939 \r\nQ 2822 3125 2822 3475 \r\nQ 2822 3834 2567 4026 \r\nQ 2313 4219 1838 4219 \r\nQ 1578 4219 1281 4162 \r\nQ 984 4106 628 3988 \r\nL 628 4550 \r\nQ 988 4650 1302 4700 \r\nQ 1616 4750 1894 4750 \r\nQ 2613 4750 3031 4423 \r\nQ 3450 4097 3450 3541 \r\nQ 3450 3153 3228 2886 \r\nQ 3006 2619 2597 2516 \r\nz\r\n\" id=\"DejaVuSans-33\" transform=\"scale(0.015625)\"/>\r\n       </defs>\r\n       <use xlink:href=\"#DejaVuSans-33\"/>\r\n       <use x=\"63.623047\" xlink:href=\"#DejaVuSans-30\"/>\r\n      </g>\r\n     </g>\r\n    </g>\r\n    <g id=\"xtick_5\">\r\n     <g id=\"line2d_5\">\r\n      <g>\r\n       <use style=\"stroke:#000000;stroke-width:0.8;\" x=\"331.400596\" xlink:href=\"#m528860f4f3\" y=\"288.430125\"/>\r\n      </g>\r\n     </g>\r\n     <g id=\"text_5\">\r\n      <!-- 40 -->\r\n      <g transform=\"translate(325.038096 303.028562)scale(0.1 -0.1)\">\r\n       <defs>\r\n        <path d=\"M 2419 4116 \r\nL 825 1625 \r\nL 2419 1625 \r\nL 2419 4116 \r\nz\r\nM 2253 4666 \r\nL 3047 4666 \r\nL 3047 1625 \r\nL 3713 1625 \r\nL 3713 1100 \r\nL 3047 1100 \r\nL 3047 0 \r\nL 2419 0 \r\nL 2419 1100 \r\nL 313 1100 \r\nL 313 1709 \r\nL 2253 4666 \r\nz\r\n\" id=\"DejaVuSans-34\" transform=\"scale(0.015625)\"/>\r\n       </defs>\r\n       <use xlink:href=\"#DejaVuSans-34\"/>\r\n       <use x=\"63.623047\" xlink:href=\"#DejaVuSans-30\"/>\r\n      </g>\r\n     </g>\r\n    </g>\r\n    <g id=\"xtick_6\">\r\n     <g id=\"line2d_6\">\r\n      <g>\r\n       <use style=\"stroke:#000000;stroke-width:0.8;\" x=\"397.656626\" xlink:href=\"#m528860f4f3\" y=\"288.430125\"/>\r\n      </g>\r\n     </g>\r\n     <g id=\"text_6\">\r\n      <!-- 50 -->\r\n      <g transform=\"translate(391.294126 303.028562)scale(0.1 -0.1)\">\r\n       <defs>\r\n        <path d=\"M 691 4666 \r\nL 3169 4666 \r\nL 3169 4134 \r\nL 1269 4134 \r\nL 1269 2991 \r\nQ 1406 3038 1543 3061 \r\nQ 1681 3084 1819 3084 \r\nQ 2600 3084 3056 2656 \r\nQ 3513 2228 3513 1497 \r\nQ 3513 744 3044 326 \r\nQ 2575 -91 1722 -91 \r\nQ 1428 -91 1123 -41 \r\nQ 819 9 494 109 \r\nL 494 744 \r\nQ 775 591 1075 516 \r\nQ 1375 441 1709 441 \r\nQ 2250 441 2565 725 \r\nQ 2881 1009 2881 1497 \r\nQ 2881 1984 2565 2268 \r\nQ 2250 2553 1709 2553 \r\nQ 1456 2553 1204 2497 \r\nQ 953 2441 691 2322 \r\nL 691 4666 \r\nz\r\n\" id=\"DejaVuSans-35\" transform=\"scale(0.015625)\"/>\r\n       </defs>\r\n       <use xlink:href=\"#DejaVuSans-35\"/>\r\n       <use x=\"63.623047\" xlink:href=\"#DejaVuSans-30\"/>\r\n      </g>\r\n     </g>\r\n    </g>\r\n    <g id=\"text_7\">\r\n     <!-- Epoch -->\r\n     <g transform=\"translate(213.392813 316.706687)scale(0.1 -0.1)\">\r\n      <defs>\r\n       <path d=\"M 628 4666 \r\nL 3578 4666 \r\nL 3578 4134 \r\nL 1259 4134 \r\nL 1259 2753 \r\nL 3481 2753 \r\nL 3481 2222 \r\nL 1259 2222 \r\nL 1259 531 \r\nL 3634 531 \r\nL 3634 0 \r\nL 628 0 \r\nL 628 4666 \r\nz\r\n\" id=\"DejaVuSans-45\" transform=\"scale(0.015625)\"/>\r\n       <path d=\"M 1159 525 \r\nL 1159 -1331 \r\nL 581 -1331 \r\nL 581 3500 \r\nL 1159 3500 \r\nL 1159 2969 \r\nQ 1341 3281 1617 3432 \r\nQ 1894 3584 2278 3584 \r\nQ 2916 3584 3314 3078 \r\nQ 3713 2572 3713 1747 \r\nQ 3713 922 3314 415 \r\nQ 2916 -91 2278 -91 \r\nQ 1894 -91 1617 61 \r\nQ 1341 213 1159 525 \r\nz\r\nM 3116 1747 \r\nQ 3116 2381 2855 2742 \r\nQ 2594 3103 2138 3103 \r\nQ 1681 3103 1420 2742 \r\nQ 1159 2381 1159 1747 \r\nQ 1159 1113 1420 752 \r\nQ 1681 391 2138 391 \r\nQ 2594 391 2855 752 \r\nQ 3116 1113 3116 1747 \r\nz\r\n\" id=\"DejaVuSans-70\" transform=\"scale(0.015625)\"/>\r\n       <path d=\"M 1959 3097 \r\nQ 1497 3097 1228 2736 \r\nQ 959 2375 959 1747 \r\nQ 959 1119 1226 758 \r\nQ 1494 397 1959 397 \r\nQ 2419 397 2687 759 \r\nQ 2956 1122 2956 1747 \r\nQ 2956 2369 2687 2733 \r\nQ 2419 3097 1959 3097 \r\nz\r\nM 1959 3584 \r\nQ 2709 3584 3137 3096 \r\nQ 3566 2609 3566 1747 \r\nQ 3566 888 3137 398 \r\nQ 2709 -91 1959 -91 \r\nQ 1206 -91 779 398 \r\nQ 353 888 353 1747 \r\nQ 353 2609 779 3096 \r\nQ 1206 3584 1959 3584 \r\nz\r\n\" id=\"DejaVuSans-6f\" transform=\"scale(0.015625)\"/>\r\n       <path d=\"M 3122 3366 \r\nL 3122 2828 \r\nQ 2878 2963 2633 3030 \r\nQ 2388 3097 2138 3097 \r\nQ 1578 3097 1268 2742 \r\nQ 959 2388 959 1747 \r\nQ 959 1106 1268 751 \r\nQ 1578 397 2138 397 \r\nQ 2388 397 2633 464 \r\nQ 2878 531 3122 666 \r\nL 3122 134 \r\nQ 2881 22 2623 -34 \r\nQ 2366 -91 2075 -91 \r\nQ 1284 -91 818 406 \r\nQ 353 903 353 1747 \r\nQ 353 2603 823 3093 \r\nQ 1294 3584 2113 3584 \r\nQ 2378 3584 2631 3529 \r\nQ 2884 3475 3122 3366 \r\nz\r\n\" id=\"DejaVuSans-63\" transform=\"scale(0.015625)\"/>\r\n       <path d=\"M 3513 2113 \r\nL 3513 0 \r\nL 2938 0 \r\nL 2938 2094 \r\nQ 2938 2591 2744 2837 \r\nQ 2550 3084 2163 3084 \r\nQ 1697 3084 1428 2787 \r\nQ 1159 2491 1159 1978 \r\nL 1159 0 \r\nL 581 0 \r\nL 581 4863 \r\nL 1159 4863 \r\nL 1159 2956 \r\nQ 1366 3272 1645 3428 \r\nQ 1925 3584 2291 3584 \r\nQ 2894 3584 3203 3211 \r\nQ 3513 2838 3513 2113 \r\nz\r\n\" id=\"DejaVuSans-68\" transform=\"scale(0.015625)\"/>\r\n      </defs>\r\n      <use xlink:href=\"#DejaVuSans-45\"/>\r\n      <use x=\"63.183594\" xlink:href=\"#DejaVuSans-70\"/>\r\n      <use x=\"126.660156\" xlink:href=\"#DejaVuSans-6f\"/>\r\n      <use x=\"187.841797\" xlink:href=\"#DejaVuSans-63\"/>\r\n      <use x=\"242.822266\" xlink:href=\"#DejaVuSans-68\"/>\r\n     </g>\r\n    </g>\r\n   </g>\r\n   <g id=\"matplotlib.axis_2\">\r\n    <g id=\"ytick_1\">\r\n     <g id=\"line2d_7\">\r\n      <defs>\r\n       <path d=\"M 0 0 \r\nL -3.5 0 \r\n\" id=\"meb73922089\" style=\"stroke:#000000;stroke-width:0.8;\"/>\r\n      </defs>\r\n      <g>\r\n       <use style=\"stroke:#000000;stroke-width:0.8;\" x=\"50.14375\" xlink:href=\"#meb73922089\" y=\"243.830346\"/>\r\n      </g>\r\n     </g>\r\n     <g id=\"text_8\">\r\n      <!-- 0.45 -->\r\n      <g transform=\"translate(20.878125 247.629565)scale(0.1 -0.1)\">\r\n       <defs>\r\n        <path d=\"M 684 794 \r\nL 1344 794 \r\nL 1344 0 \r\nL 684 0 \r\nL 684 794 \r\nz\r\n\" id=\"DejaVuSans-2e\" transform=\"scale(0.015625)\"/>\r\n       </defs>\r\n       <use xlink:href=\"#DejaVuSans-30\"/>\r\n       <use x=\"63.623047\" xlink:href=\"#DejaVuSans-2e\"/>\r\n       <use x=\"95.410156\" xlink:href=\"#DejaVuSans-34\"/>\r\n       <use x=\"159.033203\" xlink:href=\"#DejaVuSans-35\"/>\r\n      </g>\r\n     </g>\r\n    </g>\r\n    <g id=\"ytick_2\">\r\n     <g id=\"line2d_8\">\r\n      <g>\r\n       <use style=\"stroke:#000000;stroke-width:0.8;\" x=\"50.14375\" xlink:href=\"#meb73922089\" y=\"195.353983\"/>\r\n      </g>\r\n     </g>\r\n     <g id=\"text_9\">\r\n      <!-- 0.50 -->\r\n      <g transform=\"translate(20.878125 199.153202)scale(0.1 -0.1)\">\r\n       <use xlink:href=\"#DejaVuSans-30\"/>\r\n       <use x=\"63.623047\" xlink:href=\"#DejaVuSans-2e\"/>\r\n       <use x=\"95.410156\" xlink:href=\"#DejaVuSans-35\"/>\r\n       <use x=\"159.033203\" xlink:href=\"#DejaVuSans-30\"/>\r\n      </g>\r\n     </g>\r\n    </g>\r\n    <g id=\"ytick_3\">\r\n     <g id=\"line2d_9\">\r\n      <g>\r\n       <use style=\"stroke:#000000;stroke-width:0.8;\" x=\"50.14375\" xlink:href=\"#meb73922089\" y=\"146.87762\"/>\r\n      </g>\r\n     </g>\r\n     <g id=\"text_10\">\r\n      <!-- 0.55 -->\r\n      <g transform=\"translate(20.878125 150.676839)scale(0.1 -0.1)\">\r\n       <use xlink:href=\"#DejaVuSans-30\"/>\r\n       <use x=\"63.623047\" xlink:href=\"#DejaVuSans-2e\"/>\r\n       <use x=\"95.410156\" xlink:href=\"#DejaVuSans-35\"/>\r\n       <use x=\"159.033203\" xlink:href=\"#DejaVuSans-35\"/>\r\n      </g>\r\n     </g>\r\n    </g>\r\n    <g id=\"ytick_4\">\r\n     <g id=\"line2d_10\">\r\n      <g>\r\n       <use style=\"stroke:#000000;stroke-width:0.8;\" x=\"50.14375\" xlink:href=\"#meb73922089\" y=\"98.401257\"/>\r\n      </g>\r\n     </g>\r\n     <g id=\"text_11\">\r\n      <!-- 0.60 -->\r\n      <g transform=\"translate(20.878125 102.200475)scale(0.1 -0.1)\">\r\n       <defs>\r\n        <path d=\"M 2113 2584 \r\nQ 1688 2584 1439 2293 \r\nQ 1191 2003 1191 1497 \r\nQ 1191 994 1439 701 \r\nQ 1688 409 2113 409 \r\nQ 2538 409 2786 701 \r\nQ 3034 994 3034 1497 \r\nQ 3034 2003 2786 2293 \r\nQ 2538 2584 2113 2584 \r\nz\r\nM 3366 4563 \r\nL 3366 3988 \r\nQ 3128 4100 2886 4159 \r\nQ 2644 4219 2406 4219 \r\nQ 1781 4219 1451 3797 \r\nQ 1122 3375 1075 2522 \r\nQ 1259 2794 1537 2939 \r\nQ 1816 3084 2150 3084 \r\nQ 2853 3084 3261 2657 \r\nQ 3669 2231 3669 1497 \r\nQ 3669 778 3244 343 \r\nQ 2819 -91 2113 -91 \r\nQ 1303 -91 875 529 \r\nQ 447 1150 447 2328 \r\nQ 447 3434 972 4092 \r\nQ 1497 4750 2381 4750 \r\nQ 2619 4750 2861 4703 \r\nQ 3103 4656 3366 4563 \r\nz\r\n\" id=\"DejaVuSans-36\" transform=\"scale(0.015625)\"/>\r\n       </defs>\r\n       <use xlink:href=\"#DejaVuSans-30\"/>\r\n       <use x=\"63.623047\" xlink:href=\"#DejaVuSans-2e\"/>\r\n       <use x=\"95.410156\" xlink:href=\"#DejaVuSans-36\"/>\r\n       <use x=\"159.033203\" xlink:href=\"#DejaVuSans-30\"/>\r\n      </g>\r\n     </g>\r\n    </g>\r\n    <g id=\"ytick_5\">\r\n     <g id=\"line2d_11\">\r\n      <g>\r\n       <use style=\"stroke:#000000;stroke-width:0.8;\" x=\"50.14375\" xlink:href=\"#meb73922089\" y=\"49.924894\"/>\r\n      </g>\r\n     </g>\r\n     <g id=\"text_12\">\r\n      <!-- 0.65 -->\r\n      <g transform=\"translate(20.878125 53.724112)scale(0.1 -0.1)\">\r\n       <use xlink:href=\"#DejaVuSans-30\"/>\r\n       <use x=\"63.623047\" xlink:href=\"#DejaVuSans-2e\"/>\r\n       <use x=\"95.410156\" xlink:href=\"#DejaVuSans-36\"/>\r\n       <use x=\"159.033203\" xlink:href=\"#DejaVuSans-35\"/>\r\n      </g>\r\n     </g>\r\n    </g>\r\n    <g id=\"text_13\">\r\n     <!-- Loss -->\r\n     <g transform=\"translate(14.798438 166.341312)rotate(-90)scale(0.1 -0.1)\">\r\n      <defs>\r\n       <path d=\"M 628 4666 \r\nL 1259 4666 \r\nL 1259 531 \r\nL 3531 531 \r\nL 3531 0 \r\nL 628 0 \r\nL 628 4666 \r\nz\r\n\" id=\"DejaVuSans-4c\" transform=\"scale(0.015625)\"/>\r\n       <path d=\"M 2834 3397 \r\nL 2834 2853 \r\nQ 2591 2978 2328 3040 \r\nQ 2066 3103 1784 3103 \r\nQ 1356 3103 1142 2972 \r\nQ 928 2841 928 2578 \r\nQ 928 2378 1081 2264 \r\nQ 1234 2150 1697 2047 \r\nL 1894 2003 \r\nQ 2506 1872 2764 1633 \r\nQ 3022 1394 3022 966 \r\nQ 3022 478 2636 193 \r\nQ 2250 -91 1575 -91 \r\nQ 1294 -91 989 -36 \r\nQ 684 19 347 128 \r\nL 347 722 \r\nQ 666 556 975 473 \r\nQ 1284 391 1588 391 \r\nQ 1994 391 2212 530 \r\nQ 2431 669 2431 922 \r\nQ 2431 1156 2273 1281 \r\nQ 2116 1406 1581 1522 \r\nL 1381 1569 \r\nQ 847 1681 609 1914 \r\nQ 372 2147 372 2553 \r\nQ 372 3047 722 3315 \r\nQ 1072 3584 1716 3584 \r\nQ 2034 3584 2315 3537 \r\nQ 2597 3491 2834 3397 \r\nz\r\n\" id=\"DejaVuSans-73\" transform=\"scale(0.015625)\"/>\r\n      </defs>\r\n      <use xlink:href=\"#DejaVuSans-4c\"/>\r\n      <use x=\"53.962891\" xlink:href=\"#DejaVuSans-6f\"/>\r\n      <use x=\"115.144531\" xlink:href=\"#DejaVuSans-73\"/>\r\n      <use x=\"167.244141\" xlink:href=\"#DejaVuSans-73\"/>\r\n     </g>\r\n    </g>\r\n   </g>\r\n   <g id=\"line2d_12\">\r\n    <path clip-path=\"url(#pcc18e71e85)\" d=\"M 66.376477 34.414125 \r\nL 73.00208 45.939256 \r\nL 79.627683 54.161899 \r\nL 86.253286 61.542336 \r\nL 92.878889 69.840682 \r\nL 99.504492 89.562971 \r\nL 106.130095 106.891206 \r\nL 112.755698 121.822612 \r\nL 119.381301 143.064792 \r\nL 126.006904 155.756034 \r\nL 132.632507 169.815934 \r\nL 139.25811 175.299931 \r\nL 145.883713 180.616226 \r\nL 152.509316 191.769084 \r\nL 159.134919 197.96093 \r\nL 165.760522 206.843083 \r\nL 172.386125 195.167558 \r\nL 179.011728 211.976102 \r\nL 185.637331 214.951941 \r\nL 192.262934 216.45672 \r\nL 198.888537 212.493452 \r\nL 205.51414 222.167334 \r\nL 212.139743 227.793201 \r\nL 218.765346 229.808078 \r\nL 225.390949 234.797088 \r\nL 232.016551 238.888329 \r\nL 238.642154 237.747298 \r\nL 245.267757 238.667606 \r\nL 251.89336 243.342191 \r\nL 258.518963 248.637711 \r\nL 265.144566 250.751145 \r\nL 271.770169 242.569387 \r\nL 278.395772 248.952888 \r\nL 285.021375 256.11084 \r\nL 291.646978 252.664084 \r\nL 298.272581 255.662864 \r\nL 304.898184 248.115391 \r\nL 311.523787 261.36403 \r\nL 318.14939 260.019209 \r\nL 324.774993 264.997471 \r\nL 331.400596 264.497891 \r\nL 338.026199 265.690151 \r\nL 344.651802 258.428787 \r\nL 351.277405 273.875261 \r\nL 357.903008 266.404183 \r\nL 364.528611 270.649458 \r\nL 371.154214 271.285852 \r\nL 377.779817 274.731019 \r\nL 384.40542 273.615531 \r\nL 391.031023 276.334125 \r\n\" style=\"fill:none;stroke:#1f77b4;stroke-linecap:square;stroke-width:1.5;\"/>\r\n   </g>\r\n   <g id=\"line2d_13\">\r\n    <path clip-path=\"url(#pcc18e71e85)\" d=\"M 66.376477 43.808138 \r\nL 73.00208 50.980998 \r\nL 79.627683 59.309395 \r\nL 86.253286 67.603984 \r\nL 92.878889 77.629624 \r\nL 99.504492 90.261343 \r\nL 106.130095 104.495591 \r\nL 112.755698 119.491893 \r\nL 119.381301 130.1183 \r\nL 126.006904 140.448368 \r\nL 132.632507 153.735869 \r\nL 139.25811 150.056949 \r\nL 145.883713 145.108245 \r\nL 152.509316 160.809103 \r\nL 159.134919 163.937127 \r\nL 165.760522 151.962114 \r\nL 172.386125 167.578601 \r\nL 179.011728 168.521129 \r\nL 185.637331 167.701748 \r\nL 192.262934 166.575742 \r\nL 198.888537 168.765226 \r\nL 205.51414 163.675288 \r\nL 212.139743 169.188295 \r\nL 218.765346 163.035629 \r\nL 225.390949 164.507903 \r\nL 232.016551 158.590378 \r\nL 238.642154 164.904042 \r\nL 245.267757 159.176467 \r\nL 251.89336 168.109676 \r\nL 258.518963 168.589608 \r\nL 265.144566 163.047649 \r\nL 271.770169 159.185077 \r\nL 278.395772 164.698257 \r\nL 285.021375 164.149095 \r\nL 291.646978 161.442405 \r\nL 298.272581 166.758873 \r\nL 304.898184 159.27124 \r\nL 311.523787 164.604467 \r\nL 318.14939 156.713586 \r\nL 324.774993 165.37623 \r\nL 331.400596 168.853122 \r\nL 338.026199 161.99648 \r\nL 344.651802 162.197063 \r\nL 351.277405 158.334953 \r\nL 357.903008 162.356385 \r\nL 364.528611 154.838297 \r\nL 371.154214 161.467948 \r\nL 377.779817 162.5201 \r\nL 384.40542 144.846926 \r\nL 391.031023 158.343622 \r\n\" style=\"fill:none;stroke:#ff7f0e;stroke-linecap:square;stroke-width:1.5;\"/>\r\n   </g>\r\n   <g id=\"patch_3\">\r\n    <path d=\"M 50.14375 288.430125 \r\nL 50.14375 22.318125 \r\n\" style=\"fill:none;stroke:#000000;stroke-linecap:square;stroke-linejoin:miter;stroke-width:0.8;\"/>\r\n   </g>\r\n   <g id=\"patch_4\">\r\n    <path d=\"M 407.26375 288.430125 \r\nL 407.26375 22.318125 \r\n\" style=\"fill:none;stroke:#000000;stroke-linecap:square;stroke-linejoin:miter;stroke-width:0.8;\"/>\r\n   </g>\r\n   <g id=\"patch_5\">\r\n    <path d=\"M 50.14375 288.430125 \r\nL 407.26375 288.430125 \r\n\" style=\"fill:none;stroke:#000000;stroke-linecap:square;stroke-linejoin:miter;stroke-width:0.8;\"/>\r\n   </g>\r\n   <g id=\"patch_6\">\r\n    <path d=\"M 50.14375 22.318125 \r\nL 407.26375 22.318125 \r\n\" style=\"fill:none;stroke:#000000;stroke-linecap:square;stroke-linejoin:miter;stroke-width:0.8;\"/>\r\n   </g>\r\n   <g id=\"text_14\">\r\n    <!-- Model Loss -->\r\n    <g transform=\"translate(195.620313 16.318125)scale(0.12 -0.12)\">\r\n     <defs>\r\n      <path d=\"M 628 4666 \r\nL 1569 4666 \r\nL 2759 1491 \r\nL 3956 4666 \r\nL 4897 4666 \r\nL 4897 0 \r\nL 4281 0 \r\nL 4281 4097 \r\nL 3078 897 \r\nL 2444 897 \r\nL 1241 4097 \r\nL 1241 0 \r\nL 628 0 \r\nL 628 4666 \r\nz\r\n\" id=\"DejaVuSans-4d\" transform=\"scale(0.015625)\"/>\r\n      <path d=\"M 2906 2969 \r\nL 2906 4863 \r\nL 3481 4863 \r\nL 3481 0 \r\nL 2906 0 \r\nL 2906 525 \r\nQ 2725 213 2448 61 \r\nQ 2172 -91 1784 -91 \r\nQ 1150 -91 751 415 \r\nQ 353 922 353 1747 \r\nQ 353 2572 751 3078 \r\nQ 1150 3584 1784 3584 \r\nQ 2172 3584 2448 3432 \r\nQ 2725 3281 2906 2969 \r\nz\r\nM 947 1747 \r\nQ 947 1113 1208 752 \r\nQ 1469 391 1925 391 \r\nQ 2381 391 2643 752 \r\nQ 2906 1113 2906 1747 \r\nQ 2906 2381 2643 2742 \r\nQ 2381 3103 1925 3103 \r\nQ 1469 3103 1208 2742 \r\nQ 947 2381 947 1747 \r\nz\r\n\" id=\"DejaVuSans-64\" transform=\"scale(0.015625)\"/>\r\n      <path d=\"M 3597 1894 \r\nL 3597 1613 \r\nL 953 1613 \r\nQ 991 1019 1311 708 \r\nQ 1631 397 2203 397 \r\nQ 2534 397 2845 478 \r\nQ 3156 559 3463 722 \r\nL 3463 178 \r\nQ 3153 47 2828 -22 \r\nQ 2503 -91 2169 -91 \r\nQ 1331 -91 842 396 \r\nQ 353 884 353 1716 \r\nQ 353 2575 817 3079 \r\nQ 1281 3584 2069 3584 \r\nQ 2775 3584 3186 3129 \r\nQ 3597 2675 3597 1894 \r\nz\r\nM 3022 2063 \r\nQ 3016 2534 2758 2815 \r\nQ 2500 3097 2075 3097 \r\nQ 1594 3097 1305 2825 \r\nQ 1016 2553 972 2059 \r\nL 3022 2063 \r\nz\r\n\" id=\"DejaVuSans-65\" transform=\"scale(0.015625)\"/>\r\n      <path d=\"M 603 4863 \r\nL 1178 4863 \r\nL 1178 0 \r\nL 603 0 \r\nL 603 4863 \r\nz\r\n\" id=\"DejaVuSans-6c\" transform=\"scale(0.015625)\"/>\r\n      <path id=\"DejaVuSans-20\" transform=\"scale(0.015625)\"/>\r\n     </defs>\r\n     <use xlink:href=\"#DejaVuSans-4d\"/>\r\n     <use x=\"86.279297\" xlink:href=\"#DejaVuSans-6f\"/>\r\n     <use x=\"147.460938\" xlink:href=\"#DejaVuSans-64\"/>\r\n     <use x=\"210.9375\" xlink:href=\"#DejaVuSans-65\"/>\r\n     <use x=\"272.460938\" xlink:href=\"#DejaVuSans-6c\"/>\r\n     <use x=\"300.244141\" xlink:href=\"#DejaVuSans-20\"/>\r\n     <use x=\"332.03125\" xlink:href=\"#DejaVuSans-4c\"/>\r\n     <use x=\"385.994141\" xlink:href=\"#DejaVuSans-6f\"/>\r\n     <use x=\"447.175781\" xlink:href=\"#DejaVuSans-73\"/>\r\n     <use x=\"499.275391\" xlink:href=\"#DejaVuSans-73\"/>\r\n    </g>\r\n   </g>\r\n   <g id=\"legend_1\">\r\n    <g id=\"patch_7\">\r\n     <path d=\"M 322.495 59.674375 \r\nL 400.26375 59.674375 \r\nQ 402.26375 59.674375 402.26375 57.674375 \r\nL 402.26375 29.318125 \r\nQ 402.26375 27.318125 400.26375 27.318125 \r\nL 322.495 27.318125 \r\nQ 320.495 27.318125 320.495 29.318125 \r\nL 320.495 57.674375 \r\nQ 320.495 59.674375 322.495 59.674375 \r\nz\r\n\" style=\"fill:#ffffff;opacity:0.8;stroke:#cccccc;stroke-linejoin:miter;\"/>\r\n    </g>\r\n    <g id=\"line2d_14\">\r\n     <path d=\"M 324.495 35.416562 \r\nL 344.495 35.416562 \r\n\" style=\"fill:none;stroke:#1f77b4;stroke-linecap:square;stroke-width:1.5;\"/>\r\n    </g>\r\n    <g id=\"line2d_15\"/>\r\n    <g id=\"text_15\">\r\n     <!-- train loss -->\r\n     <g transform=\"translate(352.495 38.916562)scale(0.1 -0.1)\">\r\n      <defs>\r\n       <path d=\"M 1172 4494 \r\nL 1172 3500 \r\nL 2356 3500 \r\nL 2356 3053 \r\nL 1172 3053 \r\nL 1172 1153 \r\nQ 1172 725 1289 603 \r\nQ 1406 481 1766 481 \r\nL 2356 481 \r\nL 2356 0 \r\nL 1766 0 \r\nQ 1100 0 847 248 \r\nQ 594 497 594 1153 \r\nL 594 3053 \r\nL 172 3053 \r\nL 172 3500 \r\nL 594 3500 \r\nL 594 4494 \r\nL 1172 4494 \r\nz\r\n\" id=\"DejaVuSans-74\" transform=\"scale(0.015625)\"/>\r\n       <path d=\"M 2631 2963 \r\nQ 2534 3019 2420 3045 \r\nQ 2306 3072 2169 3072 \r\nQ 1681 3072 1420 2755 \r\nQ 1159 2438 1159 1844 \r\nL 1159 0 \r\nL 581 0 \r\nL 581 3500 \r\nL 1159 3500 \r\nL 1159 2956 \r\nQ 1341 3275 1631 3429 \r\nQ 1922 3584 2338 3584 \r\nQ 2397 3584 2469 3576 \r\nQ 2541 3569 2628 3553 \r\nL 2631 2963 \r\nz\r\n\" id=\"DejaVuSans-72\" transform=\"scale(0.015625)\"/>\r\n       <path d=\"M 2194 1759 \r\nQ 1497 1759 1228 1600 \r\nQ 959 1441 959 1056 \r\nQ 959 750 1161 570 \r\nQ 1363 391 1709 391 \r\nQ 2188 391 2477 730 \r\nQ 2766 1069 2766 1631 \r\nL 2766 1759 \r\nL 2194 1759 \r\nz\r\nM 3341 1997 \r\nL 3341 0 \r\nL 2766 0 \r\nL 2766 531 \r\nQ 2569 213 2275 61 \r\nQ 1981 -91 1556 -91 \r\nQ 1019 -91 701 211 \r\nQ 384 513 384 1019 \r\nQ 384 1609 779 1909 \r\nQ 1175 2209 1959 2209 \r\nL 2766 2209 \r\nL 2766 2266 \r\nQ 2766 2663 2505 2880 \r\nQ 2244 3097 1772 3097 \r\nQ 1472 3097 1187 3025 \r\nQ 903 2953 641 2809 \r\nL 641 3341 \r\nQ 956 3463 1253 3523 \r\nQ 1550 3584 1831 3584 \r\nQ 2591 3584 2966 3190 \r\nQ 3341 2797 3341 1997 \r\nz\r\n\" id=\"DejaVuSans-61\" transform=\"scale(0.015625)\"/>\r\n       <path d=\"M 603 3500 \r\nL 1178 3500 \r\nL 1178 0 \r\nL 603 0 \r\nL 603 3500 \r\nz\r\nM 603 4863 \r\nL 1178 4863 \r\nL 1178 4134 \r\nL 603 4134 \r\nL 603 4863 \r\nz\r\n\" id=\"DejaVuSans-69\" transform=\"scale(0.015625)\"/>\r\n       <path d=\"M 3513 2113 \r\nL 3513 0 \r\nL 2938 0 \r\nL 2938 2094 \r\nQ 2938 2591 2744 2837 \r\nQ 2550 3084 2163 3084 \r\nQ 1697 3084 1428 2787 \r\nQ 1159 2491 1159 1978 \r\nL 1159 0 \r\nL 581 0 \r\nL 581 3500 \r\nL 1159 3500 \r\nL 1159 2956 \r\nQ 1366 3272 1645 3428 \r\nQ 1925 3584 2291 3584 \r\nQ 2894 3584 3203 3211 \r\nQ 3513 2838 3513 2113 \r\nz\r\n\" id=\"DejaVuSans-6e\" transform=\"scale(0.015625)\"/>\r\n      </defs>\r\n      <use xlink:href=\"#DejaVuSans-74\"/>\r\n      <use x=\"39.208984\" xlink:href=\"#DejaVuSans-72\"/>\r\n      <use x=\"80.322266\" xlink:href=\"#DejaVuSans-61\"/>\r\n      <use x=\"141.601562\" xlink:href=\"#DejaVuSans-69\"/>\r\n      <use x=\"169.384766\" xlink:href=\"#DejaVuSans-6e\"/>\r\n      <use x=\"232.763672\" xlink:href=\"#DejaVuSans-20\"/>\r\n      <use x=\"264.550781\" xlink:href=\"#DejaVuSans-6c\"/>\r\n      <use x=\"292.333984\" xlink:href=\"#DejaVuSans-6f\"/>\r\n      <use x=\"353.515625\" xlink:href=\"#DejaVuSans-73\"/>\r\n      <use x=\"405.615234\" xlink:href=\"#DejaVuSans-73\"/>\r\n     </g>\r\n    </g>\r\n    <g id=\"line2d_16\">\r\n     <path d=\"M 324.495 50.094687 \r\nL 344.495 50.094687 \r\n\" style=\"fill:none;stroke:#ff7f0e;stroke-linecap:square;stroke-width:1.5;\"/>\r\n    </g>\r\n    <g id=\"line2d_17\"/>\r\n    <g id=\"text_16\">\r\n     <!-- val loss -->\r\n     <g transform=\"translate(352.495 53.594687)scale(0.1 -0.1)\">\r\n      <defs>\r\n       <path d=\"M 191 3500 \r\nL 800 3500 \r\nL 1894 563 \r\nL 2988 3500 \r\nL 3597 3500 \r\nL 2284 0 \r\nL 1503 0 \r\nL 191 3500 \r\nz\r\n\" id=\"DejaVuSans-76\" transform=\"scale(0.015625)\"/>\r\n      </defs>\r\n      <use xlink:href=\"#DejaVuSans-76\"/>\r\n      <use x=\"59.179688\" xlink:href=\"#DejaVuSans-61\"/>\r\n      <use x=\"120.458984\" xlink:href=\"#DejaVuSans-6c\"/>\r\n      <use x=\"148.242188\" xlink:href=\"#DejaVuSans-20\"/>\r\n      <use x=\"180.029297\" xlink:href=\"#DejaVuSans-6c\"/>\r\n      <use x=\"207.8125\" xlink:href=\"#DejaVuSans-6f\"/>\r\n      <use x=\"268.994141\" xlink:href=\"#DejaVuSans-73\"/>\r\n      <use x=\"321.09375\" xlink:href=\"#DejaVuSans-73\"/>\r\n     </g>\r\n    </g>\r\n   </g>\r\n  </g>\r\n </g>\r\n <defs>\r\n  <clipPath id=\"pcc18e71e85\">\r\n   <rect height=\"266.112\" width=\"357.12\" x=\"50.14375\" y=\"22.318125\"/>\r\n  </clipPath>\r\n </defs>\r\n</svg>\r\n",
            "image/png": "[encoded data removed]"
          },
          "metadata": {}
        }
      ],
      "metadata": {
        "id": "8Eo5kMWGIZQx",
        "outputId": "da1987cc-320e-4be4-b409-88fc6887c5f6"
      }
    },
    {
      "cell_type": "code",
      "execution_count": 30,
      "source": [
        "pred = np.argmax(model.predict(X_test),axis=1)\r\n",
        "pred"
      ],
      "outputs": [
        {
          "output_type": "execute_result",
          "data": {
            "text/plain": [
              "array([1, 0, 0, 0, 0, 0, 0, 0, 0, 0, 0, 0, 1, 0, 0, 1, 1, 0, 0, 1, 0, 1,\n",
              "       0, 1, 0, 1, 0, 0, 1, 1, 0, 0, 0, 0, 0, 0, 0, 0, 1, 0, 0, 0, 0, 0,\n",
              "       1, 0, 1, 0, 1, 0, 0, 1, 0, 0, 0, 0, 0, 0, 0, 0, 0, 0, 0, 1, 0, 1,\n",
              "       1, 0, 0, 1, 1, 0, 0, 0, 0, 0, 1, 1, 0, 0, 0, 1, 0, 0, 0, 1, 1, 1,\n",
              "       1, 0, 0, 0, 0, 0, 0, 0, 1, 0, 0, 0, 0, 0, 1, 0, 0, 1, 1, 1, 0, 1,\n",
              "       0, 1, 0, 0, 0, 0, 0, 0, 0, 1, 0, 0, 0, 0, 0, 0, 0, 0, 0, 0, 1, 0,\n",
              "       1, 0, 0, 0, 0, 1, 1, 1, 0, 0, 0, 0, 1, 0, 0, 1, 0, 0, 0, 0, 1, 0],\n",
              "      dtype=int64)"
            ]
          },
          "metadata": {},
          "execution_count": 30
        }
      ],
      "metadata": {
        "id": "C3O6fFDXIZQx",
        "outputId": "94cc28aa-f5fd-4d54-b5d8-24e0da7c6a33"
      }
    },
    {
      "cell_type": "code",
      "execution_count": 31,
      "source": [
        "from sklearn.metrics import classification_report"
      ],
      "outputs": [],
      "metadata": {
        "id": "TYAYFIZiIZQy"
      }
    },
    {
      "cell_type": "code",
      "execution_count": 32,
      "source": [
        "print(classification_report(y_test,pred))"
      ],
      "outputs": [
        {
          "output_type": "stream",
          "name": "stdout",
          "text": [
            "              precision    recall  f1-score   support\n",
            "\n",
            "           0       0.76      0.88      0.82        95\n",
            "           1       0.74      0.54      0.63        59\n",
            "\n",
            "    accuracy                           0.75       154\n",
            "   macro avg       0.75      0.71      0.72       154\n",
            "weighted avg       0.75      0.75      0.74       154\n",
            "\n"
          ]
        }
      ],
      "metadata": {
        "id": "fj4-Q1GeIZQy",
        "outputId": "fbde4aa1-03ec-4b47-a9b8-17b4164918dc"
      }
    },
    {
      "cell_type": "markdown",
      "source": [
        "---"
      ],
      "metadata": {}
    },
    {
      "cell_type": "markdown",
      "source": [
        "# Image Recoqnition with Neural Network"
      ],
      "metadata": {}
    },
    {
      "cell_type": "markdown",
      "source": [
        "# Kasus Klasifikasi Gambar Covid-19"
      ],
      "metadata": {
        "id": "nbjCnk_cIZQy"
      }
    },
    {
      "cell_type": "code",
      "execution_count": 34,
      "source": [
        "import cv2"
      ],
      "outputs": [],
      "metadata": {
        "id": "zXFMn4XNIZQy"
      }
    },
    {
      "cell_type": "code",
      "execution_count": 35,
      "source": [
        "train_covid = 'Covid19-dataset/train/Covid'\r\n",
        "train_normal = 'Covid19-dataset/train/Normal'\r\n",
        "train_pneumonia = 'Covid19-dataset/train/Viral Pneumonia'\r\n",
        "\r\n",
        "test_covid = 'Covid19-dataset/test/Covid'\r\n",
        "test_normal = 'Covid19-dataset/test/Normal'\r\n",
        "test_pneumonia = 'Covid19-dataset/test/Viral Pneumonia'"
      ],
      "outputs": [],
      "metadata": {
        "id": "qmlh_0ULIZQy"
      }
    },
    {
      "cell_type": "markdown",
      "source": [
        "## Load Train Data"
      ],
      "metadata": {
        "id": "zDDXaVBIIZQz"
      }
    },
    {
      "cell_type": "code",
      "execution_count": 36,
      "source": [
        "covid_train = []\r\n",
        "covid_label = np.ones(len(os.listdir(train_covid)))\r\n",
        "\r\n",
        "for i in os.listdir(train_covid):\r\n",
        "    img = cv2.imread(train_covid + '/' + i)\r\n",
        "    img = cv2.resize(img, (50,50), interpolation = cv2.INTER_AREA)\r\n",
        "    img = img / 255\r\n",
        "    covid_train.append(img)"
      ],
      "outputs": [],
      "metadata": {
        "id": "LRu1bavnIZQz"
      }
    },
    {
      "cell_type": "code",
      "execution_count": 37,
      "source": [
        "normal_train = []\r\n",
        "normal_label = np.zeros(len(os.listdir(train_normal)))\r\n",
        "\r\n",
        "for i in os.listdir(train_normal):\r\n",
        "    img = cv2.imread(train_normal + '/' + i)\r\n",
        "    img = cv2.resize(img, (50,50), interpolation = cv2.INTER_AREA)\r\n",
        "    img = img / 255\r\n",
        "    normal_train.append(img)"
      ],
      "outputs": [],
      "metadata": {
        "id": "-8mlN-Q6IZQz"
      }
    },
    {
      "cell_type": "code",
      "execution_count": 38,
      "source": [
        "pneumonia_train = []\r\n",
        "pneumonia_label = np.full(len(os.listdir(train_pneumonia)),2)\r\n",
        "\r\n",
        "for i in os.listdir(train_pneumonia):\r\n",
        "    img = cv2.imread(train_pneumonia + '/' + i)\r\n",
        "    img = cv2.resize(img, (50,50), interpolation = cv2.INTER_AREA)\r\n",
        "    img = img / 255\r\n",
        "    pneumonia_train.append(img)"
      ],
      "outputs": [],
      "metadata": {
        "id": "wfff4Z8wIZQz"
      }
    },
    {
      "cell_type": "markdown",
      "source": [
        "## Load Data Test"
      ],
      "metadata": {
        "id": "5EzEEAlLIZQ0"
      }
    },
    {
      "cell_type": "code",
      "execution_count": 39,
      "source": [
        "covid_test = []\r\n",
        "covid_label_test = np.ones(len(os.listdir(test_covid)))\r\n",
        "\r\n",
        "for i in os.listdir(test_covid):\r\n",
        "    img = cv2.imread(test_covid + '/' + i)\r\n",
        "    img = cv2.resize(img, (50,50), interpolation = cv2.INTER_AREA)\r\n",
        "    img = img / 255\r\n",
        "    covid_test.append(img)"
      ],
      "outputs": [],
      "metadata": {
        "id": "WPvcQ1PbIZQ0"
      }
    },
    {
      "cell_type": "code",
      "execution_count": 40,
      "source": [
        "normal_test = []\r\n",
        "normal_label_test = np.zeros(len(os.listdir(test_normal)))\r\n",
        "\r\n",
        "for i in os.listdir(test_normal):\r\n",
        "    img = cv2.imread(test_normal + '/' + i)\r\n",
        "    img = cv2.resize(img, (50,50), interpolation = cv2.INTER_AREA)\r\n",
        "    img = img / 255\r\n",
        "    normal_test.append(img)"
      ],
      "outputs": [],
      "metadata": {
        "id": "oYHhkkILIZQ0"
      }
    },
    {
      "cell_type": "code",
      "execution_count": 41,
      "source": [
        "pneumonia_test = []\r\n",
        "pneumonia_label_test = np.full(len(os.listdir(test_pneumonia)),2)\r\n",
        "\r\n",
        "for i in os.listdir(test_pneumonia):\r\n",
        "    img = cv2.imread(test_pneumonia + '/' + i)\r\n",
        "    img = cv2.resize(img, (50,50), interpolation = cv2.INTER_AREA)\r\n",
        "    img = img / 255\r\n",
        "    pneumonia_test.append(img)"
      ],
      "outputs": [],
      "metadata": {
        "id": "t3ExnmVgIZQ0"
      }
    },
    {
      "cell_type": "code",
      "execution_count": 45,
      "source": [
        "plt.imshow(covid_train[0])"
      ],
      "outputs": [
        {
          "output_type": "execute_result",
          "data": {
            "text/plain": [
              "<matplotlib.image.AxesImage at 0x2aa55795b08>"
            ]
          },
          "metadata": {},
          "execution_count": 45
        }
      ],
      "metadata": {
        "id": "yHPVszOSIZQ1",
        "outputId": "e26c4e52-cbfb-4a14-f2a5-cc2bba84e3e3"
      }
    },
    {
      "cell_type": "markdown",
      "source": [
        "# Construct Data"
      ],
      "metadata": {
        "id": "vZHhxeX8IZQ2"
      }
    },
    {
      "cell_type": "code",
      "execution_count": 46,
      "source": [
        "X_train = np.concatenate((covid_train, normal_train, pneumonia_train), axis = 0)\r\n",
        "y_train = np.concatenate((covid_label, normal_label, pneumonia_label), axis = 0)"
      ],
      "outputs": [],
      "metadata": {
        "id": "seZ6Uql6IZQ2"
      }
    },
    {
      "cell_type": "code",
      "execution_count": 47,
      "source": [
        "len(y_train)"
      ],
      "outputs": [
        {
          "output_type": "execute_result",
          "data": {
            "text/plain": [
              "251"
            ]
          },
          "metadata": {},
          "execution_count": 47
        }
      ],
      "metadata": {
        "id": "iZpW-fQOIZQ2",
        "outputId": "7b7cb360-c2f5-469d-b3a1-255f0471ea6b"
      }
    },
    {
      "cell_type": "code",
      "execution_count": 48,
      "source": [
        "X_test = np.concatenate((covid_test, normal_test, pneumonia_test), axis = 0)\r\n",
        "y_test = np.concatenate((covid_label_test, normal_label_test, pneumonia_label_test), axis = 0)"
      ],
      "outputs": [],
      "metadata": {
        "id": "37ZGeYE3IZQ4"
      }
    },
    {
      "cell_type": "code",
      "execution_count": 49,
      "source": [
        "len(y_test)"
      ],
      "outputs": [
        {
          "output_type": "execute_result",
          "data": {
            "text/plain": [
              "66"
            ]
          },
          "metadata": {},
          "execution_count": 49
        }
      ],
      "metadata": {
        "id": "ho4cTATSIZQ4",
        "outputId": "9f3340ef-4cd9-47c0-d6bd-0870b37bdb3f"
      }
    },
    {
      "cell_type": "code",
      "execution_count": 50,
      "source": [
        "X_train.shape"
      ],
      "outputs": [
        {
          "output_type": "execute_result",
          "data": {
            "text/plain": [
              "(251, 50, 50, 3)"
            ]
          },
          "metadata": {},
          "execution_count": 50
        }
      ],
      "metadata": {
        "id": "VGb_OZNDIZQ4",
        "outputId": "5c77c3f5-012f-4117-cd8b-0ad3d1af9882"
      }
    },
    {
      "cell_type": "code",
      "execution_count": 51,
      "source": [
        "X_test.shape"
      ],
      "outputs": [
        {
          "output_type": "execute_result",
          "data": {
            "text/plain": [
              "(66, 50, 50, 3)"
            ]
          },
          "metadata": {},
          "execution_count": 51
        }
      ],
      "metadata": {
        "id": "9jpjo41lIZQ4",
        "outputId": "f3c9bc8e-2ca2-40d6-bffa-bb5020e725a1"
      }
    },
    {
      "cell_type": "markdown",
      "source": [
        "# CNN"
      ],
      "metadata": {
        "id": "N8C8eQgTIZQ5"
      }
    },
    {
      "cell_type": "code",
      "execution_count": 52,
      "source": [
        "from keras.models import Sequential\r\n",
        "from keras.layers import Dense, Flatten, Conv2D, MaxPool2D"
      ],
      "outputs": [],
      "metadata": {
        "id": "R4TdgpXeIZQ5"
      }
    },
    {
      "cell_type": "code",
      "execution_count": 53,
      "source": [
        "models = Sequential()\r\n",
        "\r\n",
        "models.add(Conv2D(filters = 16, kernel_size = (4,4), activation = 'relu', input_shape = (50,50,3)))\r\n",
        "models.add(MaxPool2D(pool_size = (2,2)))\r\n",
        "models.add(Conv2D(filters = 16, kernel_size = (3,3), activation = 'relu'))\r\n",
        "models.add(MaxPool2D(pool_size = (2,2), strides = (2,2)))\r\n",
        "\r\n",
        "models.add(Flatten())\r\n",
        "\r\n",
        "models.add(Dense(256, activation = 'relu'))\r\n",
        "models.add(Dense(3, activation = 'softmax'))"
      ],
      "outputs": [],
      "metadata": {
        "id": "BEUyGMTtIZQ5"
      }
    },
    {
      "cell_type": "code",
      "execution_count": 54,
      "source": [
        "models.summary()"
      ],
      "outputs": [
        {
          "output_type": "stream",
          "name": "stdout",
          "text": [
            "Model: \"sequential_1\"\n",
            "_________________________________________________________________\n",
            "Layer (type)                 Output Shape              Param #   \n",
            "=================================================================\n",
            "conv2d (Conv2D)              (None, 47, 47, 16)        784       \n",
            "_________________________________________________________________\n",
            "max_pooling2d (MaxPooling2D) (None, 23, 23, 16)        0         \n",
            "_________________________________________________________________\n",
            "conv2d_1 (Conv2D)            (None, 21, 21, 16)        2320      \n",
            "_________________________________________________________________\n",
            "max_pooling2d_1 (MaxPooling2 (None, 10, 10, 16)        0         \n",
            "_________________________________________________________________\n",
            "flatten (Flatten)            (None, 1600)              0         \n",
            "_________________________________________________________________\n",
            "dense_4 (Dense)              (None, 256)               409856    \n",
            "_________________________________________________________________\n",
            "dense_5 (Dense)              (None, 3)                 771       \n",
            "=================================================================\n",
            "Total params: 413,731\n",
            "Trainable params: 413,731\n",
            "Non-trainable params: 0\n",
            "_________________________________________________________________\n"
          ]
        }
      ],
      "metadata": {
        "id": "b24N47w4IZQ5",
        "outputId": "0f316853-b37d-433a-ed00-ee083abcf9bb"
      }
    },
    {
      "cell_type": "code",
      "execution_count": 55,
      "source": [
        "models.compile(optimizer = 'adam', loss = 'sparse_categorical_crossentropy', metrics = ['accuracy'])"
      ],
      "outputs": [],
      "metadata": {
        "id": "4XIUuAf6IZQ6"
      }
    },
    {
      "cell_type": "code",
      "execution_count": 59,
      "source": [
        "history1 = models.fit(X_train, y_train, epochs = 1000, validation_split = 0.1, batch_size = 10)"
      ],
      "outputs": [
        {
          "output_type": "stream",
          "name": "stdout",
          "text": [
            "Epoch 1/50\n",
            "23/23 [==============================] - 0s 19ms/step - loss: 7.1071e-05 - accuracy: 1.0000 - val_loss: 0.8961 - val_accuracy: 0.8846\n",
            "Epoch 2/50\n",
            "23/23 [==============================] - 0s 16ms/step - loss: 6.9745e-05 - accuracy: 1.0000 - val_loss: 0.8894 - val_accuracy: 0.8846\n",
            "Epoch 3/50\n",
            "23/23 [==============================] - 0s 16ms/step - loss: 6.7991e-05 - accuracy: 1.0000 - val_loss: 0.8936 - val_accuracy: 0.8846\n",
            "Epoch 4/50\n",
            "23/23 [==============================] - 0s 16ms/step - loss: 6.7578e-05 - accuracy: 1.0000 - val_loss: 0.9063 - val_accuracy: 0.8846\n",
            "Epoch 5/50\n",
            "23/23 [==============================] - 0s 15ms/step - loss: 6.5690e-05 - accuracy: 1.0000 - val_loss: 0.8943 - val_accuracy: 0.8846\n",
            "Epoch 6/50\n",
            "23/23 [==============================] - 0s 14ms/step - loss: 6.4076e-05 - accuracy: 1.0000 - val_loss: 0.8909 - val_accuracy: 0.8846\n",
            "Epoch 7/50\n",
            "23/23 [==============================] - 0s 15ms/step - loss: 6.2480e-05 - accuracy: 1.0000 - val_loss: 0.8934 - val_accuracy: 0.8846\n",
            "Epoch 8/50\n",
            "23/23 [==============================] - 0s 17ms/step - loss: 5.9989e-05 - accuracy: 1.0000 - val_loss: 0.9147 - val_accuracy: 0.8846\n",
            "Epoch 9/50\n",
            "23/23 [==============================] - 0s 15ms/step - loss: 6.1094e-05 - accuracy: 1.0000 - val_loss: 0.8912 - val_accuracy: 0.8846\n",
            "Epoch 10/50\n",
            "23/23 [==============================] - 0s 15ms/step - loss: 5.8734e-05 - accuracy: 1.0000 - val_loss: 0.9008 - val_accuracy: 0.8846\n",
            "Epoch 11/50\n",
            "23/23 [==============================] - 0s 15ms/step - loss: 5.6800e-05 - accuracy: 1.0000 - val_loss: 0.9093 - val_accuracy: 0.8846\n",
            "Epoch 12/50\n",
            "23/23 [==============================] - 0s 15ms/step - loss: 5.5841e-05 - accuracy: 1.0000 - val_loss: 0.9337 - val_accuracy: 0.8846\n",
            "Epoch 13/50\n",
            "23/23 [==============================] - 0s 15ms/step - loss: 5.5424e-05 - accuracy: 1.0000 - val_loss: 0.9051 - val_accuracy: 0.8846\n",
            "Epoch 14/50\n",
            "23/23 [==============================] - 0s 15ms/step - loss: 5.3144e-05 - accuracy: 1.0000 - val_loss: 0.9142 - val_accuracy: 0.8846\n",
            "Epoch 15/50\n",
            "23/23 [==============================] - 0s 15ms/step - loss: 5.3583e-05 - accuracy: 1.0000 - val_loss: 0.9119 - val_accuracy: 0.8846\n",
            "Epoch 16/50\n",
            "23/23 [==============================] - 0s 15ms/step - loss: 5.0863e-05 - accuracy: 1.0000 - val_loss: 0.9221 - val_accuracy: 0.8846\n",
            "Epoch 17/50\n",
            "23/23 [==============================] - 0s 15ms/step - loss: 5.1527e-05 - accuracy: 1.0000 - val_loss: 0.9199 - val_accuracy: 0.8846\n",
            "Epoch 18/50\n",
            "23/23 [==============================] - 0s 15ms/step - loss: 5.2254e-05 - accuracy: 1.0000 - val_loss: 0.9161 - val_accuracy: 0.8846\n",
            "Epoch 19/50\n",
            "23/23 [==============================] - 0s 15ms/step - loss: 4.7809e-05 - accuracy: 1.0000 - val_loss: 0.9363 - val_accuracy: 0.8846\n",
            "Epoch 20/50\n",
            "23/23 [==============================] - 0s 15ms/step - loss: 4.6756e-05 - accuracy: 1.0000 - val_loss: 0.9411 - val_accuracy: 0.8846\n",
            "Epoch 21/50\n",
            "23/23 [==============================] - 0s 15ms/step - loss: 4.5874e-05 - accuracy: 1.0000 - val_loss: 0.9362 - val_accuracy: 0.8846\n",
            "Epoch 22/50\n",
            "23/23 [==============================] - 0s 15ms/step - loss: 4.4955e-05 - accuracy: 1.0000 - val_loss: 0.9290 - val_accuracy: 0.8846\n",
            "Epoch 23/50\n",
            "23/23 [==============================] - 0s 15ms/step - loss: 4.5352e-05 - accuracy: 1.0000 - val_loss: 0.9389 - val_accuracy: 0.8846\n",
            "Epoch 24/50\n",
            "23/23 [==============================] - 0s 15ms/step - loss: 4.3434e-05 - accuracy: 1.0000 - val_loss: 0.9468 - val_accuracy: 0.8846\n",
            "Epoch 25/50\n",
            "23/23 [==============================] - 0s 15ms/step - loss: 4.3450e-05 - accuracy: 1.0000 - val_loss: 0.9353 - val_accuracy: 0.8846\n",
            "Epoch 26/50\n",
            "23/23 [==============================] - 0s 15ms/step - loss: 4.1886e-05 - accuracy: 1.0000 - val_loss: 0.9467 - val_accuracy: 0.8846\n",
            "Epoch 27/50\n",
            "23/23 [==============================] - 0s 15ms/step - loss: 4.1077e-05 - accuracy: 1.0000 - val_loss: 0.9464 - val_accuracy: 0.8846\n",
            "Epoch 28/50\n",
            "23/23 [==============================] - 0s 15ms/step - loss: 4.0841e-05 - accuracy: 1.0000 - val_loss: 0.9346 - val_accuracy: 0.8846\n",
            "Epoch 29/50\n",
            "23/23 [==============================] - 0s 15ms/step - loss: 3.8803e-05 - accuracy: 1.0000 - val_loss: 0.9709 - val_accuracy: 0.8846\n",
            "Epoch 30/50\n",
            "23/23 [==============================] - 0s 20ms/step - loss: 3.8671e-05 - accuracy: 1.0000 - val_loss: 0.9577 - val_accuracy: 0.8846\n",
            "Epoch 31/50\n",
            "23/23 [==============================] - 0s 15ms/step - loss: 3.8380e-05 - accuracy: 1.0000 - val_loss: 0.9496 - val_accuracy: 0.8846\n",
            "Epoch 32/50\n",
            "23/23 [==============================] - 0s 15ms/step - loss: 3.6666e-05 - accuracy: 1.0000 - val_loss: 0.9601 - val_accuracy: 0.8846\n",
            "Epoch 33/50\n",
            "23/23 [==============================] - 0s 15ms/step - loss: 3.6351e-05 - accuracy: 1.0000 - val_loss: 0.9610 - val_accuracy: 0.8846\n",
            "Epoch 34/50\n",
            "23/23 [==============================] - 0s 16ms/step - loss: 3.5442e-05 - accuracy: 1.0000 - val_loss: 0.9625 - val_accuracy: 0.8846\n",
            "Epoch 35/50\n",
            "23/23 [==============================] - 0s 15ms/step - loss: 3.4982e-05 - accuracy: 1.0000 - val_loss: 0.9582 - val_accuracy: 0.8846\n",
            "Epoch 36/50\n",
            "23/23 [==============================] - 0s 15ms/step - loss: 3.3912e-05 - accuracy: 1.0000 - val_loss: 0.9621 - val_accuracy: 0.8846\n",
            "Epoch 37/50\n",
            "23/23 [==============================] - 0s 15ms/step - loss: 3.3587e-05 - accuracy: 1.0000 - val_loss: 0.9508 - val_accuracy: 0.8846\n",
            "Epoch 38/50\n",
            "23/23 [==============================] - 0s 15ms/step - loss: 3.4107e-05 - accuracy: 1.0000 - val_loss: 0.9738 - val_accuracy: 0.8846\n",
            "Epoch 39/50\n",
            "23/23 [==============================] - 0s 18ms/step - loss: 3.2097e-05 - accuracy: 1.0000 - val_loss: 0.9903 - val_accuracy: 0.8846\n",
            "Epoch 40/50\n",
            "23/23 [==============================] - 0s 15ms/step - loss: 3.1467e-05 - accuracy: 1.0000 - val_loss: 0.9804 - val_accuracy: 0.8846\n",
            "Epoch 41/50\n",
            "23/23 [==============================] - 0s 15ms/step - loss: 3.0805e-05 - accuracy: 1.0000 - val_loss: 0.9710 - val_accuracy: 0.8846\n",
            "Epoch 42/50\n",
            "23/23 [==============================] - 0s 16ms/step - loss: 3.1133e-05 - accuracy: 1.0000 - val_loss: 0.9734 - val_accuracy: 0.8846\n",
            "Epoch 43/50\n",
            "23/23 [==============================] - 0s 15ms/step - loss: 2.9852e-05 - accuracy: 1.0000 - val_loss: 0.9765 - val_accuracy: 0.8846\n",
            "Epoch 44/50\n",
            "23/23 [==============================] - 0s 15ms/step - loss: 3.0800e-05 - accuracy: 1.0000 - val_loss: 0.9855 - val_accuracy: 0.8846\n",
            "Epoch 45/50\n",
            "23/23 [==============================] - 0s 15ms/step - loss: 2.8595e-05 - accuracy: 1.0000 - val_loss: 0.9877 - val_accuracy: 0.8846\n",
            "Epoch 46/50\n",
            "23/23 [==============================] - 0s 15ms/step - loss: 2.8502e-05 - accuracy: 1.0000 - val_loss: 0.9773 - val_accuracy: 0.8846\n",
            "Epoch 47/50\n",
            "23/23 [==============================] - 0s 15ms/step - loss: 2.7650e-05 - accuracy: 1.0000 - val_loss: 0.9913 - val_accuracy: 0.8846\n",
            "Epoch 48/50\n",
            "23/23 [==============================] - 0s 15ms/step - loss: 2.7204e-05 - accuracy: 1.0000 - val_loss: 0.9899 - val_accuracy: 0.8846\n",
            "Epoch 49/50\n",
            "23/23 [==============================] - 0s 15ms/step - loss: 2.8524e-05 - accuracy: 1.0000 - val_loss: 0.9876 - val_accuracy: 0.8846\n",
            "Epoch 50/50\n",
            "23/23 [==============================] - 0s 15ms/step - loss: 2.6292e-05 - accuracy: 1.0000 - val_loss: 1.0009 - val_accuracy: 0.8846\n"
          ]
        }
      ],
      "metadata": {
        "id": "l2Vk2AyMIZQ6",
        "outputId": "f45ecba9-800f-4f61-b078-caa90e520e7e"
      }
    },
    {
      "cell_type": "code",
      "execution_count": 57,
      "source": [
        "pred1 = np.argmax(models.predict(X_test), axis = 1)\r\n",
        "pred1"
      ],
      "outputs": [
        {
          "output_type": "execute_result",
          "data": {
            "text/plain": [
              "array([1, 1, 1, 1, 1, 1, 1, 1, 1, 0, 1, 1, 1, 1, 1, 1, 1, 1, 1, 1, 1, 1,\n",
              "       1, 1, 1, 1, 2, 0, 0, 0, 0, 0, 0, 0, 0, 2, 0, 0, 0, 0, 0, 0, 0, 0,\n",
              "       0, 0, 2, 2, 2, 2, 2, 2, 2, 2, 2, 2, 2, 2, 2, 2, 2, 1, 2, 0, 2, 0],\n",
              "      dtype=int64)"
            ]
          },
          "metadata": {},
          "execution_count": 57
        }
      ],
      "metadata": {
        "id": "IHsHbP-DIZQ6",
        "outputId": "a3c4af7a-9b72-47af-91ae-366a54493f2a"
      }
    },
    {
      "cell_type": "code",
      "execution_count": 58,
      "source": [
        "print(classification_report(y_test, pred1))"
      ],
      "outputs": [
        {
          "output_type": "stream",
          "name": "stdout",
          "text": [
            "              precision    recall  f1-score   support\n",
            "\n",
            "         0.0       0.86      0.90      0.88        20\n",
            "         1.0       0.96      0.96      0.96        26\n",
            "         2.0       0.89      0.85      0.87        20\n",
            "\n",
            "    accuracy                           0.91        66\n",
            "   macro avg       0.90      0.90      0.90        66\n",
            "weighted avg       0.91      0.91      0.91        66\n",
            "\n"
          ]
        }
      ],
      "metadata": {
        "id": "GcK85TfnIZQ7",
        "outputId": "21b9dc96-c76e-4560-f0ea-c68c54d739a6"
      }
    },
    {
      "cell_type": "code",
      "execution_count": null,
      "source": [],
      "outputs": [],
      "metadata": {
        "id": "ICkrOzObIZQ7"
      }
    }
  ]
}