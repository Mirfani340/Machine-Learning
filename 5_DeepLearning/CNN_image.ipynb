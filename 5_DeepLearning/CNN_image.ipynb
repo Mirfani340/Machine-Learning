{
 "cells": [
  {
   "cell_type": "markdown",
   "source": [
    "# Image Recoqnition with Neural Network"
   ],
   "metadata": {}
  },
  {
   "cell_type": "markdown",
   "source": [
    "# import Library "
   ],
   "metadata": {}
  },
  {
   "cell_type": "code",
   "execution_count": null,
   "source": [
    "import numpy as np\r\n",
    "import pandas as pd\r\n",
    "import matplotlib.pyplot as plt"
   ],
   "outputs": [],
   "metadata": {}
  },
  {
   "cell_type": "markdown",
   "source": [
    "# Kasus Klasifikasi Gambar Covid-19"
   ],
   "metadata": {
    "id": "nbjCnk_cIZQy"
   }
  },
  {
   "cell_type": "code",
   "execution_count": null,
   "source": [
    "import cv2"
   ],
   "outputs": [],
   "metadata": {
    "id": "zXFMn4XNIZQy"
   }
  },
  {
   "cell_type": "code",
   "execution_count": null,
   "source": [
    "train_covid = 'Covid19-dataset/train/Covid'\r\n",
    "train_normal = 'Covid19-dataset/train/Normal'\r\n",
    "train_pneumonia = 'Covid19-dataset/train/Viral Pneumonia'\r\n",
    "\r\n",
    "test_covid = 'Covid19-dataset/test/Covid'\r\n",
    "test_normal = 'Covid19-dataset/test/Normal'\r\n",
    "test_pneumonia = 'Covid19-dataset/test/Viral Pneumonia'"
   ],
   "outputs": [],
   "metadata": {
    "id": "qmlh_0ULIZQy"
   }
  },
  {
   "cell_type": "markdown",
   "source": [
    "## Load Train Data\r\n",
    "* dan resize image ke 50 x 50, jika mengunakan gambar berwarna maka gunakan 50x50x50"
   ],
   "metadata": {
    "id": "zDDXaVBIIZQz"
   }
  },
  {
   "cell_type": "code",
   "execution_count": null,
   "source": [
    "covid_train = []\r\n",
    "covid_label = np.ones(len(os.listdir(train_covid)))\r\n",
    "\r\n",
    "for i in os.listdir(train_covid):\r\n",
    "    img = cv2.imread(train_covid + '/' + i)\r\n",
    "    img = cv2.resize(img, (50,50), interpolation = cv2.INTER_AREA)\r\n",
    "    img = img / 255\r\n",
    "    covid_train.append(img)"
   ],
   "outputs": [],
   "metadata": {
    "id": "LRu1bavnIZQz"
   }
  },
  {
   "cell_type": "code",
   "execution_count": null,
   "source": [
    "normal_train = []\r\n",
    "normal_label = np.zeros(len(os.listdir(train_normal)))\r\n",
    "\r\n",
    "for i in os.listdir(train_normal):\r\n",
    "    img = cv2.imread(train_normal + '/' + i)\r\n",
    "    img = cv2.resize(img, (50,50), interpolation = cv2.INTER_AREA)\r\n",
    "    img = img / 255\r\n",
    "    normal_train.append(img)"
   ],
   "outputs": [],
   "metadata": {
    "id": "-8mlN-Q6IZQz"
   }
  },
  {
   "cell_type": "code",
   "execution_count": null,
   "source": [
    "pneumonia_train = []\r\n",
    "pneumonia_label = np.full(len(os.listdir(train_pneumonia)),2)\r\n",
    "\r\n",
    "for i in os.listdir(train_pneumonia):\r\n",
    "    img = cv2.imread(train_pneumonia + '/' + i)\r\n",
    "    img = cv2.resize(img, (50,50), interpolation = cv2.INTER_AREA)\r\n",
    "    img = img / 255\r\n",
    "    pneumonia_train.append(img)"
   ],
   "outputs": [],
   "metadata": {
    "id": "wfff4Z8wIZQz"
   }
  },
  {
   "cell_type": "markdown",
   "source": [
    "## Load Data Test"
   ],
   "metadata": {
    "id": "5EzEEAlLIZQ0"
   }
  },
  {
   "cell_type": "code",
   "execution_count": null,
   "source": [
    "covid_test = []\r\n",
    "covid_label_test = np.ones(len(os.listdir(test_covid)))\r\n",
    "\r\n",
    "for i in os.listdir(test_covid):\r\n",
    "    img = cv2.imread(test_covid + '/' + i)\r\n",
    "    img = cv2.resize(img, (50,50), interpolation = cv2.INTER_AREA)\r\n",
    "    img = img / 255\r\n",
    "    covid_test.append(img)"
   ],
   "outputs": [],
   "metadata": {
    "id": "WPvcQ1PbIZQ0"
   }
  },
  {
   "cell_type": "code",
   "execution_count": null,
   "source": [
    "normal_test = []\r\n",
    "normal_label_test = np.zeros(len(os.listdir(test_normal)))\r\n",
    "\r\n",
    "for i in os.listdir(test_normal):\r\n",
    "    img = cv2.imread(test_normal + '/' + i)\r\n",
    "    img = cv2.resize(img, (50,50), interpolation = cv2.INTER_AREA)\r\n",
    "    img = img / 255\r\n",
    "    normal_test.append(img)"
   ],
   "outputs": [],
   "metadata": {
    "id": "oYHhkkILIZQ0"
   }
  },
  {
   "cell_type": "code",
   "execution_count": null,
   "source": [
    "pneumonia_test = []\r\n",
    "pneumonia_label_test = np.full(len(os.listdir(test_pneumonia)),2)\r\n",
    "\r\n",
    "for i in os.listdir(test_pneumonia):\r\n",
    "    img = cv2.imread(test_pneumonia + '/' + i)\r\n",
    "    img = cv2.resize(img, (50,50), interpolation = cv2.INTER_AREA)\r\n",
    "    img = img / 255\r\n",
    "    pneumonia_test.append(img)"
   ],
   "outputs": [],
   "metadata": {
    "id": "t3ExnmVgIZQ0"
   }
  },
  {
   "cell_type": "code",
   "execution_count": null,
   "source": [
    "plt.imshow(covid_train[0])"
   ],
   "outputs": [],
   "metadata": {
    "id": "yHPVszOSIZQ1",
    "outputId": "e26c4e52-cbfb-4a14-f2a5-cc2bba84e3e3"
   }
  },
  {
   "cell_type": "code",
   "execution_count": null,
   "source": [
    "from keras.models import Sequential\r\n",
    "from keras.layers import Dense, Flatten, Conv2D, MaxPool2D"
   ],
   "outputs": [],
   "metadata": {
    "id": "R4TdgpXeIZQ5"
   }
  },
  {
   "cell_type": "code",
   "execution_count": null,
   "source": [
    "models = Sequential()\r\n",
    "\r\n",
    "models.add(Conv2D(filters = 16, kernel_size = (4,4), activation = 'relu', input_shape = (50,50,3)))\r\n",
    "models.add(MaxPool2D(pool_size = (2,2)))\r\n",
    "models.add(Conv2D(filters = 16, kernel_size = (3,3), activation = 'relu'))\r\n",
    "models.add(MaxPool2D(pool_size = (2,2), strides = (2,2)))\r\n",
    "\r\n",
    "models.add(Flatten())\r\n",
    "\r\n",
    "models.add(Dense(256, activation = 'relu'))\r\n",
    "models.add(Dense(3, activation = 'softmax'))"
   ],
   "outputs": [],
   "metadata": {
    "id": "BEUyGMTtIZQ5"
   }
  },
  {
   "cell_type": "code",
   "execution_count": null,
   "source": [
    "models.summary()"
   ],
   "outputs": [],
   "metadata": {
    "id": "b24N47w4IZQ5",
    "outputId": "0f316853-b37d-433a-ed00-ee083abcf9bb"
   }
  },
  {
   "cell_type": "code",
   "execution_count": null,
   "source": [
    "models.compile(optimizer = 'adam', loss = 'sparse_categorical_crossentropy', metrics = ['accuracy'])"
   ],
   "outputs": [],
   "metadata": {
    "id": "4XIUuAf6IZQ6"
   }
  },
  {
   "cell_type": "markdown",
   "source": [
    "# Data Proccessing"
   ],
   "metadata": {}
  },
  {
   "cell_type": "code",
   "execution_count": null,
   "source": [],
   "outputs": [],
   "metadata": {}
  },
  {
   "cell_type": "code",
   "execution_count": null,
   "source": [],
   "outputs": [],
   "metadata": {}
  },
  {
   "cell_type": "code",
   "execution_count": null,
   "source": [],
   "outputs": [],
   "metadata": {}
  },
  {
   "cell_type": "markdown",
   "source": [
    "# train and split data"
   ],
   "metadata": {}
  },
  {
   "cell_type": "code",
   "execution_count": 3,
   "source": [
    "from sklearn.model_selection import train_test_split"
   ],
   "outputs": [],
   "metadata": {
    "id": "l2Vk2AyMIZQ6",
    "outputId": "f45ecba9-800f-4f61-b078-caa90e520e7e"
   }
  },
  {
   "cell_type": "code",
   "execution_count": 4,
   "source": [
    "X_train, X_test, y_train, y_test = train_test_split(X,y, test_size=0.2, random_state=10)\r\n",
    "history1 = models.fit(X_train, y_train, epochs = 50, validation_split = 0.1, batch_size = 10)"
   ],
   "outputs": [
    {
     "output_type": "error",
     "ename": "NameError",
     "evalue": "name 'X' is not defined",
     "traceback": [
      "\u001b[1;31m---------------------------------------------------------------------------\u001b[0m",
      "\u001b[1;31mNameError\u001b[0m                                 Traceback (most recent call last)",
      "\u001b[1;32m<ipython-input-4-cd7a682778e4>\u001b[0m in \u001b[0;36m<module>\u001b[1;34m\u001b[0m\n\u001b[1;32m----> 1\u001b[1;33m \u001b[0mX_train\u001b[0m\u001b[1;33m,\u001b[0m \u001b[0mX_test\u001b[0m\u001b[1;33m,\u001b[0m \u001b[0my_train\u001b[0m\u001b[1;33m,\u001b[0m \u001b[0my_test\u001b[0m \u001b[1;33m=\u001b[0m \u001b[0mtrain_test_split\u001b[0m\u001b[1;33m(\u001b[0m\u001b[0mX\u001b[0m\u001b[1;33m,\u001b[0m\u001b[0my\u001b[0m\u001b[1;33m,\u001b[0m \u001b[0mtest_size\u001b[0m\u001b[1;33m=\u001b[0m\u001b[1;36m0.2\u001b[0m\u001b[1;33m,\u001b[0m \u001b[0mrandom_state\u001b[0m\u001b[1;33m=\u001b[0m\u001b[1;36m10\u001b[0m\u001b[1;33m)\u001b[0m\u001b[1;33m\u001b[0m\u001b[1;33m\u001b[0m\u001b[0m\n\u001b[0m\u001b[0;32m      2\u001b[0m \u001b[0mhistory1\u001b[0m \u001b[1;33m=\u001b[0m \u001b[0mmodels\u001b[0m\u001b[1;33m.\u001b[0m\u001b[0mfit\u001b[0m\u001b[1;33m(\u001b[0m\u001b[0mX_train\u001b[0m\u001b[1;33m,\u001b[0m \u001b[0my_train\u001b[0m\u001b[1;33m,\u001b[0m \u001b[0mepochs\u001b[0m \u001b[1;33m=\u001b[0m \u001b[1;36m50\u001b[0m\u001b[1;33m,\u001b[0m \u001b[0mvalidation_split\u001b[0m \u001b[1;33m=\u001b[0m \u001b[1;36m0.1\u001b[0m\u001b[1;33m,\u001b[0m \u001b[0mbatch_size\u001b[0m \u001b[1;33m=\u001b[0m \u001b[1;36m10\u001b[0m\u001b[1;33m)\u001b[0m\u001b[1;33m\u001b[0m\u001b[1;33m\u001b[0m\u001b[0m\n",
      "\u001b[1;31mNameError\u001b[0m: name 'X' is not defined"
     ]
    }
   ],
   "metadata": {}
  },
  {
   "cell_type": "code",
   "execution_count": null,
   "source": [
    "pred1 = np.argmax(models.predict(X_test), axis = 1)\r\n",
    "pred1"
   ],
   "outputs": [],
   "metadata": {
    "id": "IHsHbP-DIZQ6",
    "outputId": "a3c4af7a-9b72-47af-91ae-366a54493f2a"
   }
  },
  {
   "cell_type": "code",
   "execution_count": null,
   "source": [
    "print(classification_report(y_test, pred1))"
   ],
   "outputs": [],
   "metadata": {
    "id": "GcK85TfnIZQ7",
    "outputId": "21b9dc96-c76e-4560-f0ea-c68c54d739a6"
   }
  },
  {
   "cell_type": "code",
   "execution_count": null,
   "source": [
    "import cv2"
   ],
   "outputs": [],
   "metadata": {
    "id": "zXFMn4XNIZQy"
   }
  },
  {
   "cell_type": "code",
   "execution_count": null,
   "source": [
    "train_covid = 'Covid19-dataset/train/Covid'\r\n",
    "train_normal = 'Covid19-dataset/train/Normal'\r\n",
    "train_pneumonia = 'Covid19-dataset/train/Viral Pneumonia'\r\n",
    "\r\n",
    "test_covid = 'Covid19-dataset/test/Covid'\r\n",
    "test_normal = 'Covid19-dataset/test/Normal'\r\n",
    "test_pneumonia = 'Covid19-dataset/test/Viral Pneumonia'"
   ],
   "outputs": [],
   "metadata": {
    "id": "qmlh_0ULIZQy"
   }
  },
  {
   "cell_type": "markdown",
   "source": [
    "## Load Train Data"
   ],
   "metadata": {
    "id": "zDDXaVBIIZQz"
   }
  },
  {
   "cell_type": "code",
   "execution_count": null,
   "source": [
    "covid_train = []\r\n",
    "covid_label = np.ones(len(os.listdir(train_covid)))\r\n",
    "\r\n",
    "for i in os.listdir(train_covid):\r\n",
    "    img = cv2.imread(train_covid + '/' + i)\r\n",
    "    img = cv2.resize(img, (50,50), interpolation = cv2.INTER_AREA)\r\n",
    "    img = img / 255\r\n",
    "    covid_train.append(img)"
   ],
   "outputs": [],
   "metadata": {
    "id": "LRu1bavnIZQz"
   }
  },
  {
   "cell_type": "code",
   "execution_count": null,
   "source": [
    "normal_train = []\r\n",
    "normal_label = np.zeros(len(os.listdir(train_normal)))\r\n",
    "\r\n",
    "for i in os.listdir(train_normal):\r\n",
    "    img = cv2.imread(train_normal + '/' + i)\r\n",
    "    img = cv2.resize(img, (50,50), interpolation = cv2.INTER_AREA)\r\n",
    "    img = img / 255\r\n",
    "    normal_train.append(img)"
   ],
   "outputs": [],
   "metadata": {
    "id": "-8mlN-Q6IZQz"
   }
  },
  {
   "cell_type": "code",
   "execution_count": null,
   "source": [
    "pneumonia_train = []\r\n",
    "pneumonia_label = np.full(len(os.listdir(train_pneumonia)),2)\r\n",
    "\r\n",
    "for i in os.listdir(train_pneumonia):\r\n",
    "    img = cv2.imread(train_pneumonia + '/' + i)\r\n",
    "    img = cv2.resize(img, (50,50), interpolation = cv2.INTER_AREA)\r\n",
    "    img = img / 255\r\n",
    "    pneumonia_train.append(img)"
   ],
   "outputs": [],
   "metadata": {
    "id": "wfff4Z8wIZQz"
   }
  },
  {
   "cell_type": "markdown",
   "source": [
    "## Load Data Test"
   ],
   "metadata": {
    "id": "5EzEEAlLIZQ0"
   }
  },
  {
   "cell_type": "code",
   "execution_count": null,
   "source": [
    "covid_test = []\r\n",
    "covid_label_test = np.ones(len(os.listdir(test_covid)))\r\n",
    "\r\n",
    "for i in os.listdir(test_covid):\r\n",
    "    img = cv2.imread(test_covid + '/' + i)\r\n",
    "    img = cv2.resize(img, (50,50), interpolation = cv2.INTER_AREA)\r\n",
    "    img = img / 255\r\n",
    "    covid_test.append(img)"
   ],
   "outputs": [],
   "metadata": {
    "id": "WPvcQ1PbIZQ0"
   }
  },
  {
   "cell_type": "code",
   "execution_count": null,
   "source": [
    "normal_test = []\r\n",
    "normal_label_test = np.zeros(len(os.listdir(test_normal)))\r\n",
    "\r\n",
    "for i in os.listdir(test_normal):\r\n",
    "    img = cv2.imread(test_normal + '/' + i)\r\n",
    "    img = cv2.resize(img, (50,50), interpolation = cv2.INTER_AREA)\r\n",
    "    img = img / 255\r\n",
    "    normal_test.append(img)"
   ],
   "outputs": [],
   "metadata": {
    "id": "oYHhkkILIZQ0"
   }
  },
  {
   "cell_type": "code",
   "execution_count": null,
   "source": [
    "pneumonia_test = []\r\n",
    "pneumonia_label_test = np.full(len(os.listdir(test_pneumonia)),2)\r\n",
    "\r\n",
    "for i in os.listdir(test_pneumonia):\r\n",
    "    img = cv2.imread(test_pneumonia + '/' + i)\r\n",
    "    img = cv2.resize(img, (50,50), interpolation = cv2.INTER_AREA)\r\n",
    "    img = img / 255\r\n",
    "    pneumonia_test.append(img)"
   ],
   "outputs": [],
   "metadata": {
    "id": "t3ExnmVgIZQ0"
   }
  },
  {
   "cell_type": "code",
   "execution_count": null,
   "source": [
    "plt.imshow(covid_train[0])"
   ],
   "outputs": [],
   "metadata": {
    "id": "yHPVszOSIZQ1",
    "outputId": "e26c4e52-cbfb-4a14-f2a5-cc2bba84e3e3"
   }
  },
  {
   "cell_type": "markdown",
   "source": [
    "# Construct Data"
   ],
   "metadata": {
    "id": "vZHhxeX8IZQ2"
   }
  },
  {
   "cell_type": "markdown",
   "source": [
    "# CNN"
   ],
   "metadata": {
    "id": "N8C8eQgTIZQ5"
   }
  },
  {
   "cell_type": "code",
   "execution_count": null,
   "source": [
    "from keras.models import Sequential\r\n",
    "from keras.layers import Dense, Flatten, Conv2D, MaxPool2D"
   ],
   "outputs": [],
   "metadata": {
    "id": "R4TdgpXeIZQ5"
   }
  },
  {
   "cell_type": "code",
   "execution_count": null,
   "source": [
    "models = Sequential()\r\n",
    "\r\n",
    "models.add(Conv2D(filters = 16, kernel_size = (4,4), activation = 'relu', input_shape = (50,50,3)))\r\n",
    "models.add(MaxPool2D(pool_size = (2,2)))\r\n",
    "models.add(Conv2D(filters = 16, kernel_size = (3,3), activation = 'relu'))\r\n",
    "models.add(MaxPool2D(pool_size = (2,2), strides = (2,2)))\r\n",
    "\r\n",
    "models.add(Flatten())\r\n",
    "\r\n",
    "models.add(Dense(256, activation = 'relu'))\r\n",
    "models.add(Dense(3, activation = 'softmax'))"
   ],
   "outputs": [],
   "metadata": {
    "id": "BEUyGMTtIZQ5"
   }
  },
  {
   "cell_type": "code",
   "execution_count": null,
   "source": [
    "models.summary()"
   ],
   "outputs": [],
   "metadata": {
    "id": "b24N47w4IZQ5",
    "outputId": "0f316853-b37d-433a-ed00-ee083abcf9bb"
   }
  },
  {
   "cell_type": "code",
   "execution_count": null,
   "source": [
    "models.compile(optimizer = 'adam', loss = 'sparse_categorical_crossentropy', metrics = ['accuracy'])"
   ],
   "outputs": [],
   "metadata": {
    "id": "4XIUuAf6IZQ6"
   }
  },
  {
   "cell_type": "code",
   "execution_count": null,
   "source": [
    "history1 = models.fit(X_train, y_train, epochs = 50, validation_split = 0.1, batch_size = 10)"
   ],
   "outputs": [],
   "metadata": {
    "id": "l2Vk2AyMIZQ6",
    "outputId": "f45ecba9-800f-4f61-b078-caa90e520e7e"
   }
  },
  {
   "cell_type": "code",
   "execution_count": null,
   "source": [
    "pred1 = np.argmax(models.predict(X_test), axis = 1)\r\n",
    "pred1"
   ],
   "outputs": [],
   "metadata": {
    "id": "IHsHbP-DIZQ6",
    "outputId": "a3c4af7a-9b72-47af-91ae-366a54493f2a"
   }
  },
  {
   "cell_type": "code",
   "execution_count": null,
   "source": [
    "print(classification_report(y_test, pred1))"
   ],
   "outputs": [],
   "metadata": {
    "id": "GcK85TfnIZQ7",
    "outputId": "21b9dc96-c76e-4560-f0ea-c68c54d739a6"
   }
  },
  {
   "cell_type": "code",
   "execution_count": null,
   "source": [],
   "outputs": [],
   "metadata": {
    "id": "ICkrOzObIZQ7"
   }
  },
  {
   "cell_type": "code",
   "execution_count": null,
   "source": [
    "X_train = np.concatenate((covid_train, normal_train, pneumonia_train), axis = 0)\r\n",
    "y_train = np.concatenate((covid_label, normal_label, pneumonia_label), axis = 0)"
   ],
   "outputs": [],
   "metadata": {
    "id": "seZ6Uql6IZQ2"
   }
  },
  {
   "cell_type": "code",
   "execution_count": null,
   "source": [
    "len(y_train)"
   ],
   "outputs": [],
   "metadata": {
    "id": "iZpW-fQOIZQ2",
    "outputId": "7b7cb360-c2f5-469d-b3a1-255f0471ea6b"
   }
  },
  {
   "cell_type": "code",
   "execution_count": null,
   "source": [
    "X_test = np.concatenate((covid_test, normal_test, pneumonia_test), axis = 0)\r\n",
    "y_test = np.concatenate((covid_label_test, normal_label_test, pneumonia_label_test), axis = 0)"
   ],
   "outputs": [],
   "metadata": {
    "id": "37ZGeYE3IZQ4"
   }
  },
  {
   "cell_type": "code",
   "execution_count": null,
   "source": [
    "len(y_test)"
   ],
   "outputs": [],
   "metadata": {
    "id": "ho4cTATSIZQ4",
    "outputId": "9f3340ef-4cd9-47c0-d6bd-0870b37bdb3f"
   }
  },
  {
   "cell_type": "code",
   "execution_count": null,
   "source": [
    "X_train.shape"
   ],
   "outputs": [],
   "metadata": {
    "id": "VGb_OZNDIZQ4",
    "outputId": "5c77c3f5-012f-4117-cd8b-0ad3d1af9882"
   }
  },
  {
   "cell_type": "code",
   "execution_count": null,
   "source": [
    "X_test.shape"
   ],
   "outputs": [],
   "metadata": {
    "id": "9jpjo41lIZQ4",
    "outputId": "f3c9bc8e-2ca2-40d6-bffa-bb5020e725a1"
   }
  }
 ],
 "metadata": {
  "orig_nbformat": 4,
  "language_info": {
   "name": "python",
   "version": "3.7.11",
   "mimetype": "text/x-python",
   "codemirror_mode": {
    "name": "ipython",
    "version": 3
   },
   "pygments_lexer": "ipython3",
   "nbconvert_exporter": "python",
   "file_extension": ".py"
  },
  "kernelspec": {
   "name": "python3",
   "display_name": "Python 3.7.11 64-bit ('AI': conda)"
  },
  "interpreter": {
   "hash": "35d58a9e1903783041b595db9b982a3b2a4c3c18976cdb9a6dea15705f18d896"
  }
 },
 "nbformat": 4,
 "nbformat_minor": 2
}