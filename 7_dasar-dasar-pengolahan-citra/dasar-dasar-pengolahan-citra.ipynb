{
 "cells": [
  {
   "cell_type": "code",
   "execution_count": null,
   "source": [],
   "outputs": [],
   "metadata": {}
  }
 ],
 "metadata": {
  "orig_nbformat": 4,
  "language_info": {
   "name": "python",
   "version": "3.7.11"
  },
  "kernelspec": {
   "name": "python3",
   "display_name": "Python 3.7.11 64-bit ('AI': conda)"
  },
  "interpreter": {
   "hash": "35d58a9e1903783041b595db9b982a3b2a4c3c18976cdb9a6dea15705f18d896"
  }
 },
 "nbformat": 4,
 "nbformat_minor": 2
}