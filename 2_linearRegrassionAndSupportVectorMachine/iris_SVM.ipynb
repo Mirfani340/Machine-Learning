{
 "cells": [
  {
   "cell_type": "code",
   "execution_count": null,
   "source": [
    "from sklearn import datasets\r\n",
    "from sklearn import svm\r\n",
    "from sklearn.metrics import accuracy_score\r\n",
    "import numpy as np\r\n",
    "import matplotlib.pyplot as plt "
   ],
   "outputs": [],
   "metadata": {}
  },
  {
   "cell_type": "code",
   "execution_count": null,
   "source": [
    "iris_dataset = datasets.load_iris()"
   ],
   "outputs": [],
   "metadata": {}
  },
  {
   "cell_type": "code",
   "execution_count": null,
   "source": [
    "print (\"Iris feature data :: \", iris_dataset['data'])"
   ],
   "outputs": [],
   "metadata": {}
  },
  {
   "cell_type": "code",
   "execution_count": null,
   "source": [
    "print(\"Iris target :: \", iris_dataset['target'])"
   ],
   "outputs": [],
   "metadata": {}
  },
  {
   "cell_type": "markdown",
   "source": [
    "## Visualizing the relationship between sepal and target classes"
   ],
   "metadata": {}
  },
  {
   "cell_type": "code",
   "execution_count": null,
   "source": [
    "def visuvalize_sepal_data():\r\n",
    "    iris = datasets.load_iris()\r\n",
    "    X = iris.data[:, :2]  # we only take the first two features.\r\n",
    "    y = iris.target\r\n",
    "    plt.scatter(X[:, 0], X[:, 1], c=y, cmap=plt.cm.coolwarm)\r\n",
    "    plt.xlabel('Sepal length')\r\n",
    "    plt.ylabel('Sepal width')\r\n",
    "    plt.title('Sepal Width & Length')\r\n",
    "    plt.show()\r\n",
    " \r\n",
    "visuvalize_sepal_data()"
   ],
   "outputs": [],
   "metadata": {
    "scrolled": true
   }
  },
  {
   "cell_type": "markdown",
   "source": [
    "## Visualizing the relationship between Petal and target classes"
   ],
   "metadata": {}
  },
  {
   "cell_type": "code",
   "execution_count": null,
   "source": [
    "def visuvalize_petal_data():\r\n",
    "    iris = datasets.load_iris()\r\n",
    "    X = iris.data[:, 2:]  # we only take the last two features.\r\n",
    "    y = iris.target\r\n",
    "    plt.scatter(X[:, 0], X[:, 1], c=y, cmap=plt.cm.coolwarm)\r\n",
    "    plt.xlabel('Petal length')\r\n",
    "    plt.ylabel('Petal width')\r\n",
    "    plt.title('Petal Width & Length')\r\n",
    "    plt.show()\r\n",
    " \r\n",
    "visuvalize_petal_data()"
   ],
   "outputs": [],
   "metadata": {}
  },
  {
   "cell_type": "markdown",
   "source": [
    "## Modeling Different Kernel Svm classifier using Iris Sepal features"
   ],
   "metadata": {}
  },
  {
   "cell_type": "code",
   "execution_count": null,
   "source": [
    "iris = datasets.load_iris()\r\n",
    "X = iris.data[:, :2]  # we only take the Sepal two features.\r\n",
    "y = iris.target\r\n",
    "C = 1.0  # SVM regularization parameter\r\n",
    " \r\n",
    "# SVC with linear kernel\r\n",
    "svc = svm.SVC(kernel='linear', C=C).fit(X, y)\r\n",
    "# LinearSVC (linear kernel)\r\n",
    "lin_svc = svm.LinearSVC(C=C).fit(X, y)\r\n",
    "# SVC with RBF kernel\r\n",
    "rbf_svc = svm.SVC(kernel='rbf', gamma=0.7, C=C).fit(X, y)\r\n",
    "# SVC with polynomial (degree 3) kernel\r\n",
    "poly_svc = svm.SVC(kernel='poly', degree=3, C=C).fit(X, y)"
   ],
   "outputs": [],
   "metadata": {}
  },
  {
   "cell_type": "markdown",
   "source": [
    "## Visualizing the modeled svm classifiers with Iris Sepal features"
   ],
   "metadata": {}
  },
  {
   "cell_type": "code",
   "execution_count": null,
   "source": [
    "h = .02  # step size in the mesh\r\n",
    " \r\n",
    "# create a mesh to plot in\r\n",
    "x_min, x_max = X[:, 0].min() - 1, X[:, 0].max() + 1\r\n",
    "y_min, y_max = X[:, 1].min() - 1, X[:, 1].max() + 1\r\n",
    "xx, yy = np.meshgrid(np.arange(x_min, x_max, h),np.arange(y_min, y_max, h))\r\n",
    "# title for the plots\r\n",
    "titles = ['SVC with linear kernel',\r\n",
    "       'LinearSVC (linear kernel)',\r\n",
    "        'SVC with RBF kernel',\r\n",
    "        'SVC with polynomial (degree 3) kernel']\r\n",
    " \r\n",
    " \r\n",
    "for i, clf in enumerate((svc, lin_svc, rbf_svc, poly_svc)):\r\n",
    "     # Plot the decision boundary. For that, we will assign a color to each\r\n",
    "     # point in the mesh [x_min, x_max]x[y_min, y_max].\r\n",
    "     plt.subplot(2, 2, i + 1)\r\n",
    "     plt.subplots_adjust(wspace=0.4, hspace=0.4)\r\n",
    " \r\n",
    "     Z = clf.predict(np.c_[xx.ravel(), yy.ravel()])\r\n",
    " \r\n",
    "     # Put the result into a color plot\r\n",
    "     Z = Z.reshape(xx.shape)\r\n",
    "     plt.contourf(xx, yy, Z, cmap=plt.cm.coolwarm, alpha=0.8)\r\n",
    " \r\n",
    "     # Plot also the training points\r\n",
    "     plt.scatter(X[:, 0], X[:, 1], c=y, cmap=plt.cm.coolwarm)\r\n",
    "     plt.xlabel('Sepal length')\r\n",
    "     plt.ylabel('Sepal width')\r\n",
    "     plt.xlim(xx.min(), xx.max())\r\n",
    "     plt.ylim(yy.min(), yy.max())\r\n",
    "     plt.xticks(())\r\n",
    "     plt.yticks(())\r\n",
    "     plt.title(titles[i])\r\n",
    " \r\n",
    "plt.show()"
   ],
   "outputs": [],
   "metadata": {}
  },
  {
   "cell_type": "markdown",
   "source": [
    "## Modeling Different Kernel Svm classifier using Iris Petal features"
   ],
   "metadata": {}
  },
  {
   "cell_type": "code",
   "execution_count": null,
   "source": [
    "iris = datasets.load_iris()\r\n",
    "X = iris.data[:, 2:]  # we only take the last two features.\r\n",
    "y = iris.target\r\n",
    "C = 1.0  # SVM regularization parameter\r\n",
    " \r\n",
    "# SVC with linear kernel\r\n",
    "svc = svm.SVC(kernel='linear', C=C).fit(X, y)\r\n",
    "# LinearSVC (linear kernel)\r\n",
    "lin_svc = svm.LinearSVC(C=C).fit(X, y)\r\n",
    "# SVC with RBF kernel\r\n",
    "rbf_svc = svm.SVC(kernel='rbf', gamma=0.7, C=C).fit(X, y)\r\n",
    "# SVC with polynomial (degree 3) kernel\r\n",
    "poly_svc = svm.SVC(kernel='poly', degree=3, C=C).fit(X, y)"
   ],
   "outputs": [],
   "metadata": {}
  },
  {
   "cell_type": "markdown",
   "source": [
    "## Visualizing the modeled svm classifiers with Iris Petal features\n"
   ],
   "metadata": {}
  },
  {
   "cell_type": "code",
   "execution_count": null,
   "source": [
    "h = .02  # step size in the mesh\r\n",
    "# create a mesh to plot in\r\n",
    "x_min, x_max = X[:, 0].min() - 1, X[:, 0].max() + 1\r\n",
    "y_min, y_max = X[:, 1].min() - 1, X[:, 1].max() + 1\r\n",
    "xx, yy = np.meshgrid(np.arange(x_min, x_max, h),np.arange(y_min, y_max, h))\r\n",
    "# title for the plots\r\n",
    "titles = ['SVC with linear kernel',\r\n",
    "      'LinearSVC (linear kernel)',\r\n",
    "      'SVC with RBF kernel',\r\n",
    "      'SVC with polynomial (degree 3) kernel']\r\n",
    " \r\n",
    " \r\n",
    "for i, clf in enumerate((svc, lin_svc, rbf_svc, poly_svc)):\r\n",
    "    # Plot the decision boundary. For that, we will assign a color to each\r\n",
    "    # point in the mesh [x_min, x_max]x[y_min, y_max].\r\n",
    "    plt.subplot(2, 2, i + 1)\r\n",
    "    plt.subplots_adjust(wspace=0.4, hspace=0.4)\r\n",
    " \r\n",
    "    Z = clf.predict(np.c_[xx.ravel(), yy.ravel()])\r\n",
    " \r\n",
    "    # Put the result into a color plot\r\n",
    "    Z = Z.reshape(xx.shape)\r\n",
    "    plt.contourf(xx, yy, Z, cmap=plt.cm.coolwarm, alpha=0.8)\r\n",
    " \r\n",
    "    # Plot also the training points\r\n",
    "    plt.scatter(X[:, 0], X[:, 1], c=y, cmap=plt.cm.coolwarm)\r\n",
    "    plt.xlabel('Petal length')\r\n",
    "    plt.ylabel('Petal width')\r\n",
    "    plt.xlim(xx.min(), xx.max())\r\n",
    "    plt.ylim(yy.min(), yy.max())\r\n",
    "    plt.xticks(())\r\n",
    "    plt.yticks(())\r\n",
    "    plt.title(titles[i])\r\n",
    " \r\n",
    "plt.show()"
   ],
   "outputs": [],
   "metadata": {}
  },
  {
   "cell_type": "code",
   "execution_count": null,
   "source": [
    "predictions = lin_svc.predict(iris.data[:, 2:])"
   ],
   "outputs": [],
   "metadata": {}
  },
  {
   "cell_type": "code",
   "execution_count": null,
   "source": [
    "accuracy_score(predictions, iris.target)"
   ],
   "outputs": [],
   "metadata": {}
  },
  {
   "cell_type": "code",
   "execution_count": null,
   "source": [
    "from sklearn.model_selection import cross_val_score\r\n",
    "\r\n",
    "scores = cross_val_score(lin_svc, iris.data, iris.target, cv=5)\r\n",
    "print(\"Accuracy: %0.2f (+/- %0.2f)\" % (scores.mean(), scores.std() * 2))"
   ],
   "outputs": [],
   "metadata": {}
  },
  {
   "cell_type": "code",
   "execution_count": null,
   "source": [],
   "outputs": [],
   "metadata": {}
  }
 ],
 "metadata": {
  "kernelspec": {
   "name": "python3",
   "display_name": "Python 3.7.11 64-bit ('AI': conda)"
  },
  "language_info": {
   "codemirror_mode": {
    "name": "ipython",
    "version": 3
   },
   "file_extension": ".py",
   "mimetype": "text/x-python",
   "name": "python",
   "nbconvert_exporter": "python",
   "pygments_lexer": "ipython3",
   "version": "3.7.11"
  },
  "interpreter": {
   "hash": "35d58a9e1903783041b595db9b982a3b2a4c3c18976cdb9a6dea15705f18d896"
  }
 },
 "nbformat": 4,
 "nbformat_minor": 2
}